{
  "nbformat": 4,
  "nbformat_minor": 0,
  "metadata": {
    "kernelspec": {
      "display_name": "U4-S1-NLP (numpy updates)",
      "language": "python",
      "name": "u4-s1-nlp"
    },
    "language_info": {
      "codemirror_mode": {
        "name": "ipython",
        "version": 3
      },
      "file_extension": ".py",
      "mimetype": "text/x-python",
      "name": "python",
      "nbconvert_exporter": "python",
      "pygments_lexer": "ipython3",
      "version": "3.7.0"
    },
    "colab": {
      "name": "redditmodel.ipynb",
      "provenance": [],
      "collapsed_sections": []
    }
  },
  "cells": [
    {
      "cell_type": "code",
      "metadata": {
        "id": "bJP1j0FJYiYZ",
        "colab_type": "code",
        "colab": {
          "base_uri": "https://localhost:8080/",
          "height": 530
        },
        "outputId": "1148f804-de13-48c1-8e8d-b7134d40060b"
      },
      "source": [
        "!pip install https://github.com/explosion/spacy-models/releases/download/en_core_web_md-2.3.1/en_core_web_md-2.3.1.tar.gz"
      ],
      "execution_count": 206,
      "outputs": [
        {
          "output_type": "stream",
          "text": [
            "Collecting https://github.com/explosion/spacy-models/releases/download/en_core_web_md-2.3.1/en_core_web_md-2.3.1.tar.gz\n",
            "\u001b[?25l  Downloading https://github.com/explosion/spacy-models/releases/download/en_core_web_md-2.3.1/en_core_web_md-2.3.1.tar.gz (50.8MB)\n",
            "\u001b[K     |████████████████████████████████| 50.8MB 74kB/s \n",
            "\u001b[?25hRequirement already satisfied (use --upgrade to upgrade): en-core-web-md==2.3.1 from https://github.com/explosion/spacy-models/releases/download/en_core_web_md-2.3.1/en_core_web_md-2.3.1.tar.gz in /usr/local/lib/python3.6/dist-packages\n",
            "Requirement already satisfied: spacy<2.4.0,>=2.3.0 in /usr/local/lib/python3.6/dist-packages (from en-core-web-md==2.3.1) (2.3.2)\n",
            "Requirement already satisfied: thinc==7.4.1 in /usr/local/lib/python3.6/dist-packages (from spacy<2.4.0,>=2.3.0->en-core-web-md==2.3.1) (7.4.1)\n",
            "Requirement already satisfied: numpy>=1.15.0 in /usr/local/lib/python3.6/dist-packages (from spacy<2.4.0,>=2.3.0->en-core-web-md==2.3.1) (1.18.5)\n",
            "Requirement already satisfied: catalogue<1.1.0,>=0.0.7 in /usr/local/lib/python3.6/dist-packages (from spacy<2.4.0,>=2.3.0->en-core-web-md==2.3.1) (1.0.0)\n",
            "Requirement already satisfied: wasabi<1.1.0,>=0.4.0 in /usr/local/lib/python3.6/dist-packages (from spacy<2.4.0,>=2.3.0->en-core-web-md==2.3.1) (0.8.0)\n",
            "Requirement already satisfied: srsly<1.1.0,>=1.0.2 in /usr/local/lib/python3.6/dist-packages (from spacy<2.4.0,>=2.3.0->en-core-web-md==2.3.1) (1.0.2)\n",
            "Requirement already satisfied: setuptools in /usr/local/lib/python3.6/dist-packages (from spacy<2.4.0,>=2.3.0->en-core-web-md==2.3.1) (50.3.0)\n",
            "Requirement already satisfied: requests<3.0.0,>=2.13.0 in /usr/local/lib/python3.6/dist-packages (from spacy<2.4.0,>=2.3.0->en-core-web-md==2.3.1) (2.23.0)\n",
            "Requirement already satisfied: preshed<3.1.0,>=3.0.2 in /usr/local/lib/python3.6/dist-packages (from spacy<2.4.0,>=2.3.0->en-core-web-md==2.3.1) (3.0.2)\n",
            "Requirement already satisfied: murmurhash<1.1.0,>=0.28.0 in /usr/local/lib/python3.6/dist-packages (from spacy<2.4.0,>=2.3.0->en-core-web-md==2.3.1) (1.0.2)\n",
            "Requirement already satisfied: tqdm<5.0.0,>=4.38.0 in /usr/local/lib/python3.6/dist-packages (from spacy<2.4.0,>=2.3.0->en-core-web-md==2.3.1) (4.41.1)\n",
            "Requirement already satisfied: blis<0.5.0,>=0.4.0 in /usr/local/lib/python3.6/dist-packages (from spacy<2.4.0,>=2.3.0->en-core-web-md==2.3.1) (0.4.1)\n",
            "Requirement already satisfied: plac<1.2.0,>=0.9.6 in /usr/local/lib/python3.6/dist-packages (from spacy<2.4.0,>=2.3.0->en-core-web-md==2.3.1) (1.1.3)\n",
            "Requirement already satisfied: cymem<2.1.0,>=2.0.2 in /usr/local/lib/python3.6/dist-packages (from spacy<2.4.0,>=2.3.0->en-core-web-md==2.3.1) (2.0.3)\n",
            "Requirement already satisfied: importlib-metadata>=0.20; python_version < \"3.8\" in /usr/local/lib/python3.6/dist-packages (from catalogue<1.1.0,>=0.0.7->spacy<2.4.0,>=2.3.0->en-core-web-md==2.3.1) (1.7.0)\n",
            "Requirement already satisfied: certifi>=2017.4.17 in /usr/local/lib/python3.6/dist-packages (from requests<3.0.0,>=2.13.0->spacy<2.4.0,>=2.3.0->en-core-web-md==2.3.1) (2020.6.20)\n",
            "Requirement already satisfied: idna<3,>=2.5 in /usr/local/lib/python3.6/dist-packages (from requests<3.0.0,>=2.13.0->spacy<2.4.0,>=2.3.0->en-core-web-md==2.3.1) (2.10)\n",
            "Requirement already satisfied: chardet<4,>=3.0.2 in /usr/local/lib/python3.6/dist-packages (from requests<3.0.0,>=2.13.0->spacy<2.4.0,>=2.3.0->en-core-web-md==2.3.1) (3.0.4)\n",
            "Requirement already satisfied: urllib3!=1.25.0,!=1.25.1,<1.26,>=1.21.1 in /usr/local/lib/python3.6/dist-packages (from requests<3.0.0,>=2.13.0->spacy<2.4.0,>=2.3.0->en-core-web-md==2.3.1) (1.24.3)\n",
            "Requirement already satisfied: zipp>=0.5 in /usr/local/lib/python3.6/dist-packages (from importlib-metadata>=0.20; python_version < \"3.8\"->catalogue<1.1.0,>=0.0.7->spacy<2.4.0,>=2.3.0->en-core-web-md==2.3.1) (3.1.0)\n",
            "Building wheels for collected packages: en-core-web-md\n",
            "  Building wheel for en-core-web-md (setup.py) ... \u001b[?25l\u001b[?25hdone\n",
            "  Created wheel for en-core-web-md: filename=en_core_web_md-2.3.1-cp36-none-any.whl size=50916643 sha256=135d15207374464c30133067bc9877a81e50349ec20b8bc30ac51620cbad6509\n",
            "  Stored in directory: /root/.cache/pip/wheels/6e/65/3a/34cdc26d4084d1d1f1e2ec9914964759ea17aa382c53a57d9f\n",
            "Successfully built en-core-web-md\n"
          ],
          "name": "stdout"
        }
      ]
    },
    {
      "cell_type": "code",
      "metadata": {
        "id": "okwQiSSJPLHw",
        "colab_type": "code",
        "colab": {}
      },
      "source": [
        "import os\n",
        "import pickle\n",
        "\n",
        "import numpy as np\n",
        "import spacy\n",
        "\n",
        "from spacy.tokenizer import Tokenizer\n",
        "from spacy.lang.en.stop_words import STOP_WORDS\n",
        "from sklearn.feature_extraction.text import TfidfVectorizer\n",
        "from sklearn.neighbors import NearestNeighbors"
      ],
      "execution_count": 1,
      "outputs": []
    },
    {
      "cell_type": "markdown",
      "metadata": {
        "id": "-vfn67Ye9fKM",
        "colab_type": "text"
      },
      "source": [
        "*Upload submission_db.sqlite3 database*\n"
      ]
    },
    {
      "cell_type": "code",
      "metadata": {
        "id": "Tl_DvYWhQZrm",
        "colab_type": "code",
        "colab": {
          "resources": {
            "http://localhost:8080/nbextensions/google.colab/files.js": {
              "data": "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",
              "ok": true,
              "headers": [
                [
                  "content-type",
                  "application/javascript"
                ]
              ],
              "status": 200,
              "status_text": ""
            }
          },
          "base_uri": "https://localhost:8080/",
          "height": 72
        },
        "outputId": "fe528fd7-927a-4023-ef12-12d04a9ac678"
      },
      "source": [
        "from google.colab import files \n",
        "uploaded = files.upload()"
      ],
      "execution_count": 2,
      "outputs": [
        {
          "output_type": "display_data",
          "data": {
            "text/html": [
              "\n",
              "     <input type=\"file\" id=\"files-15577223-1270-443c-a5d0-4e314ed6a7fa\" name=\"files[]\" multiple disabled\n",
              "        style=\"border:none\" />\n",
              "     <output id=\"result-15577223-1270-443c-a5d0-4e314ed6a7fa\">\n",
              "      Upload widget is only available when the cell has been executed in the\n",
              "      current browser session. Please rerun this cell to enable.\n",
              "      </output>\n",
              "      <script src=\"/nbextensions/google.colab/files.js\"></script> "
            ],
            "text/plain": [
              "<IPython.core.display.HTML object>"
            ]
          },
          "metadata": {
            "tags": []
          }
        },
        {
          "output_type": "stream",
          "text": [
            "Saving submission_db.sqlite3 to submission_db.sqlite3\n"
          ],
          "name": "stdout"
        }
      ]
    },
    {
      "cell_type": "code",
      "metadata": {
        "id": "6wHU9AHfPLHz",
        "colab_type": "code",
        "colab": {}
      },
      "source": [
        "import pandas as pd\n",
        "import sqlite3\n",
        "import numpy as np\n",
        "\n",
        "def refresh_connection_and_cursor():\n",
        "  try:\n",
        "    c.close()\n",
        "    conn.close()\n",
        "  except: pass\n",
        "  conn = sqlite3.connect('/content/submission_db.sqlite3')\n",
        "  c = conn.cursor()\n",
        "  return conn, c\n",
        "\n",
        "conn, c = refresh_connection_and_cursor()\n",
        "\n",
        "data = pd.read_sql_query(\n",
        "    \"select * from submission_table order by random() limit 100000;\", \n",
        "    conn)\n",
        "\n",
        "c.close()\n",
        "conn.close()"
      ],
      "execution_count": 41,
      "outputs": []
    },
    {
      "cell_type": "code",
      "metadata": {
        "id": "VJHnJGJVPLH2",
        "colab_type": "code",
        "colab": {
          "base_uri": "https://localhost:8080/",
          "height": 306
        },
        "outputId": "d0636e15-4a2d-4e92-ea15-f976cee6cfdd"
      },
      "source": [
        "print(data.shape)\n",
        "data.head()"
      ],
      "execution_count": 42,
      "outputs": [
        {
          "output_type": "stream",
          "text": [
            "(99502, 5)\n"
          ],
          "name": "stdout"
        },
        {
          "output_type": "execute_result",
          "data": {
            "text/html": [
              "<div>\n",
              "<style scoped>\n",
              "    .dataframe tbody tr th:only-of-type {\n",
              "        vertical-align: middle;\n",
              "    }\n",
              "\n",
              "    .dataframe tbody tr th {\n",
              "        vertical-align: top;\n",
              "    }\n",
              "\n",
              "    .dataframe thead th {\n",
              "        text-align: right;\n",
              "    }\n",
              "</style>\n",
              "<table border=\"1\" class=\"dataframe\">\n",
              "  <thead>\n",
              "    <tr style=\"text-align: right;\">\n",
              "      <th></th>\n",
              "      <th>subreddit_name</th>\n",
              "      <th>subreddit_id</th>\n",
              "      <th>subreddit_subs</th>\n",
              "      <th>title</th>\n",
              "      <th>text</th>\n",
              "    </tr>\n",
              "  </thead>\n",
              "  <tbody>\n",
              "    <tr>\n",
              "      <th>0</th>\n",
              "      <td>UnresolvedMysteries</td>\n",
              "      <td>2wvvc</td>\n",
              "      <td>1149021</td>\n",
              "      <td>If you suddenly disappeared right now, what mu...</td>\n",
              "      <td>Sorry for the horrible title I’m really bad at...</td>\n",
              "    </tr>\n",
              "    <tr>\n",
              "      <th>1</th>\n",
              "      <td>Cringetopia</td>\n",
              "      <td>ovfhp</td>\n",
              "      <td>948480</td>\n",
              "      <td>Omega Simp</td>\n",
              "      <td></td>\n",
              "    </tr>\n",
              "    <tr>\n",
              "      <th>2</th>\n",
              "      <td>PS4</td>\n",
              "      <td>2rrlp</td>\n",
              "      <td>3632075</td>\n",
              "      <td>Destroy All Humans! - Remake Reveal Trailer [V...</td>\n",
              "      <td></td>\n",
              "    </tr>\n",
              "    <tr>\n",
              "      <th>3</th>\n",
              "      <td>whatisthisthing</td>\n",
              "      <td>2s3kh</td>\n",
              "      <td>1788971</td>\n",
              "      <td>Water flows from a culvert beneath a trail int...</td>\n",
              "      <td></td>\n",
              "    </tr>\n",
              "    <tr>\n",
              "      <th>4</th>\n",
              "      <td>Art</td>\n",
              "      <td>2qh7a</td>\n",
              "      <td>18440455</td>\n",
              "      <td>Longing, Damian Lechoszest, Oil on Canvas, 2020</td>\n",
              "      <td></td>\n",
              "    </tr>\n",
              "  </tbody>\n",
              "</table>\n",
              "</div>"
            ],
            "text/plain": [
              "        subreddit_name  ...                                               text\n",
              "0  UnresolvedMysteries  ...  Sorry for the horrible title I’m really bad at...\n",
              "1          Cringetopia  ...                                                   \n",
              "2                  PS4  ...                                                   \n",
              "3      whatisthisthing  ...                                                   \n",
              "4                  Art  ...                                                   \n",
              "\n",
              "[5 rows x 5 columns]"
            ]
          },
          "metadata": {
            "tags": []
          },
          "execution_count": 42
        }
      ]
    },
    {
      "cell_type": "code",
      "metadata": {
        "id": "eZbFt4KYqH1Z",
        "colab_type": "code",
        "colab": {
          "base_uri": "https://localhost:8080/",
          "height": 221
        },
        "outputId": "92f2a0f3-2e33-434e-aae0-1941bc040a13"
      },
      "source": [
        "data.info()"
      ],
      "execution_count": 43,
      "outputs": [
        {
          "output_type": "stream",
          "text": [
            "<class 'pandas.core.frame.DataFrame'>\n",
            "RangeIndex: 99502 entries, 0 to 99501\n",
            "Data columns (total 5 columns):\n",
            " #   Column          Non-Null Count  Dtype \n",
            "---  ------          --------------  ----- \n",
            " 0   subreddit_name  99502 non-null  object\n",
            " 1   subreddit_id    99502 non-null  object\n",
            " 2   subreddit_subs  99502 non-null  int64 \n",
            " 3   title           99502 non-null  object\n",
            " 4   text            99502 non-null  object\n",
            "dtypes: int64(1), object(4)\n",
            "memory usage: 3.8+ MB\n"
          ],
          "name": "stdout"
        }
      ]
    },
    {
      "cell_type": "markdown",
      "metadata": {
        "id": "3CB3-cW9-Llm",
        "colab_type": "text"
      },
      "source": [
        "*Data Wrangling*"
      ]
    },
    {
      "cell_type": "code",
      "metadata": {
        "id": "aPm9lRzC_9Tu",
        "colab_type": "code",
        "colab": {}
      },
      "source": [
        "import seaborn as sns\n",
        "import matplotlib.pyplot as plt"
      ],
      "execution_count": 15,
      "outputs": []
    },
    {
      "cell_type": "code",
      "metadata": {
        "id": "frWf31V5-XF5",
        "colab_type": "code",
        "colab": {}
      },
      "source": [
        "def warngle(df, text_len_min=100, subreddit_num=50):\n",
        "  \"\"\"\n",
        "  df: dataframe containg the subreddits and their categories\n",
        "  text_len_min: minimum length of subreddit text required to be analyzed\n",
        "  statistical trimming:\n",
        "  subreddit_num: sampled number of subreddit posts in each category\n",
        "  \"\"\"\n",
        "  print(\"\\ndf shape: \", df.shape)\n",
        "  \n",
        "  # filter out the rows with no significant subreddit text\n",
        "  df = df[[len(i)>100 for i in df['text']]]\n",
        "  print(f\"\\ndf shape after text length filter: {text_len_min}:\")\n",
        "  print(df.shape)\n",
        "  # filter out the rows with low count of subreddit_ids\n",
        "  subid_count = df['subreddit_id'].value_counts(ascending=False)\n",
        "  \n",
        "  plt.figure(figsize=(12,5))\n",
        "  # y axis is density plot\n",
        "  sns.distplot(subid_count, kde=False, bins=len(df['subreddit_id'].value_counts()))\n",
        "  plt.title('Subreddit category histogram')\n",
        "  plt.xlabel('#of posts per subreddit category')\n",
        "  plt.ylabel('# of subreddit categories')\n",
        "\n",
        "  # filter out the categories with low number of posts \n",
        "  df = df.groupby('subreddit_id').filter(\n",
        "      lambda x: (x['subreddit_id'].value_counts() > subreddit_num))\n",
        "  print(f\"\\ndf shape after dropping less than {subreddit_num} posts per category filter\")\n",
        "  print(df.shape)\n",
        "\n",
        "  # converting the title and text columns to string type\n",
        "  df[['title', 'text']] = df[['title', 'text']].astype('str')\n",
        "\n",
        "  # filter out non word and non space characters.\n",
        "  # lower case and remove extra spaces\n",
        "  df['text'] = df['text'].str.replace(\"[^\\w\\s']\",' ').str.lower().apply(lambda row: ' '.join(row.split()))\n",
        "  df['title'] = df['title'].str.replace(\"[^\\w\\s']\",' ').str.lower().apply(lambda row: ' '.join(row.split()))\n",
        "  # print(df['text'][:10])\n",
        "\n",
        "  # merge title and text\n",
        "  df['joint_text'] = df[['title', 'text']].agg('-'.join, axis=1)\n",
        "  # print(df.head())\n",
        "\n",
        "  # Sample a fixed number of posts from each category\n",
        "  df_sample = df.groupby('subreddit_id').apply(lambda x: x.sample(\n",
        "      n=subreddit_num, replace=False, random_state=1))#.reset_index(drop = True)\n",
        "  print(f\"\\ndf shape after sampling {subreddit_num} posts per subreddit category\")\n",
        "  print(df_sample.shape)\n",
        "  \n",
        "  # Number of subreddit categories to classify on\n",
        "  print(f\"\\n# of subreddit categories: {len(df_sample['subreddit_name'].value_counts())}\")\n",
        "\n",
        "  return df, df_sample"
      ],
      "execution_count": 44,
      "outputs": []
    },
    {
      "cell_type": "code",
      "metadata": {
        "id": "z_t-n80GHvDH",
        "colab_type": "code",
        "colab": {
          "base_uri": "https://localhost:8080/",
          "height": 571
        },
        "outputId": "69b045ce-7040-475e-96f0-5e145917ca8e"
      },
      "source": [
        "data, df = warngle(data, text_len_min=100, subreddit_num=50);"
      ],
      "execution_count": 45,
      "outputs": [
        {
          "output_type": "stream",
          "text": [
            "\n",
            "df shape:  (99502, 5)\n",
            "\n",
            "df shape after text length filter: 100:\n",
            "(18568, 5)\n",
            "\n",
            "df shape after dropping less than 50 posts per category filter\n",
            "(17194, 5)\n",
            "\n",
            "df shape after sampling 50 posts per subreddit category\n",
            "(2900, 6)\n",
            "\n",
            "# of subreddit categories: 58\n"
          ],
          "name": "stdout"
        },
        {
          "output_type": "display_data",
          "data": {
            "image/png": "[encoded data removed]",
            "text/plain": [
              "<Figure size 864x360 with 1 Axes>"
            ]
          },
          "metadata": {
            "tags": [],
            "needs_background": "light"
          }
        }
      ]
    },
    {
      "cell_type": "code",
      "metadata": {
        "id": "22DRCLaQTQKr",
        "colab_type": "code",
        "colab": {
          "base_uri": "https://localhost:8080/",
          "height": 476
        },
        "outputId": "44df2c2d-3ff6-44d3-8d6c-56abb6d7c83b"
      },
      "source": [
        "print(df.shape)\n",
        "df.sample(n=5, axis=0)"
      ],
      "execution_count": 48,
      "outputs": [
        {
          "output_type": "stream",
          "text": [
            "(2900, 6)\n"
          ],
          "name": "stdout"
        },
        {
          "output_type": "execute_result",
          "data": {
            "text/html": [
              "<div>\n",
              "<style scoped>\n",
              "    .dataframe tbody tr th:only-of-type {\n",
              "        vertical-align: middle;\n",
              "    }\n",
              "\n",
              "    .dataframe tbody tr th {\n",
              "        vertical-align: top;\n",
              "    }\n",
              "\n",
              "    .dataframe thead th {\n",
              "        text-align: right;\n",
              "    }\n",
              "</style>\n",
              "<table border=\"1\" class=\"dataframe\">\n",
              "  <thead>\n",
              "    <tr style=\"text-align: right;\">\n",
              "      <th></th>\n",
              "      <th>subreddit_name</th>\n",
              "      <th>subreddit_id</th>\n",
              "      <th>subreddit_subs</th>\n",
              "      <th>title</th>\n",
              "      <th>text</th>\n",
              "      <th>joint_text</th>\n",
              "    </tr>\n",
              "  </thead>\n",
              "  <tbody>\n",
              "    <tr>\n",
              "      <th>2434</th>\n",
              "      <td>DestinyTheGame</td>\n",
              "      <td>2vq0w</td>\n",
              "      <td>1771547</td>\n",
              "      <td>bungie please you are sitting on a gold mine</td>\n",
              "      <td>after playing on pc i can't believe how incred...</td>\n",
              "      <td>bungie please you are sitting on a gold mine-a...</td>\n",
              "    </tr>\n",
              "    <tr>\n",
              "      <th>309</th>\n",
              "      <td>history</td>\n",
              "      <td>2qh53</td>\n",
              "      <td>15136105</td>\n",
              "      <td>so how did ww2 troops learn unarmed combat ski...</td>\n",
              "      <td>this a original ww2 british army training book...</td>\n",
              "      <td>so how did ww2 troops learn unarmed combat ski...</td>\n",
              "    </tr>\n",
              "    <tr>\n",
              "      <th>2196</th>\n",
              "      <td>summonerschool</td>\n",
              "      <td>2t9x3</td>\n",
              "      <td>467796</td>\n",
              "      <td>hey r summonerschool my brother and i created ...</td>\n",
              "      <td>hi guys rto here i have had incredible support...</td>\n",
              "      <td>hey r summonerschool my brother and i created ...</td>\n",
              "    </tr>\n",
              "    <tr>\n",
              "      <th>1464</th>\n",
              "      <td>legaladvice</td>\n",
              "      <td>2rawz</td>\n",
              "      <td>1348164</td>\n",
              "      <td>gf's dad filled out her mail in ballot forged ...</td>\n",
              "      <td>my girlfriend was furious not only is this obv...</td>\n",
              "      <td>gf's dad filled out her mail in ballot forged ...</td>\n",
              "    </tr>\n",
              "    <tr>\n",
              "      <th>2832</th>\n",
              "      <td>NintendoSwitch</td>\n",
              "      <td>3h47q</td>\n",
              "      <td>2394407</td>\n",
              "      <td>breath of the wild reminds me why i fell in lo...</td>\n",
              "      <td>being a dad now it s rare for me to get so enc...</td>\n",
              "      <td>breath of the wild reminds me why i fell in lo...</td>\n",
              "    </tr>\n",
              "  </tbody>\n",
              "</table>\n",
              "</div>"
            ],
            "text/plain": [
              "      subreddit_name  ...                                         joint_text\n",
              "2434  DestinyTheGame  ...  bungie please you are sitting on a gold mine-a...\n",
              "309          history  ...  so how did ww2 troops learn unarmed combat ski...\n",
              "2196  summonerschool  ...  hey r summonerschool my brother and i created ...\n",
              "1464     legaladvice  ...  gf's dad filled out her mail in ballot forged ...\n",
              "2832  NintendoSwitch  ...  breath of the wild reminds me why i fell in lo...\n",
              "\n",
              "[5 rows x 6 columns]"
            ]
          },
          "metadata": {
            "tags": []
          },
          "execution_count": 48
        }
      ]
    },
    {
      "cell_type": "code",
      "metadata": {
        "id": "-MMcDs2isr5F",
        "colab_type": "code",
        "colab": {
          "base_uri": "https://localhost:8080/",
          "height": 255
        },
        "outputId": "e9a1f42b-1ed4-4442-87a9-c8a265609cab"
      },
      "source": [
        "df['subreddit_name'].unique()"
      ],
      "execution_count": 50,
      "outputs": [
        {
          "output_type": "execute_result",
          "data": {
            "text/plain": [
              "array(['VALORANT', 'apple', 'atheism', 'sex', 'help', 'books', 'history',\n",
              "       'Jokes', 'Cooking', 'singapore', 'pcgaming', 'investing', 'Games',\n",
              "       'Fitness', 'techsupport', 'stocks', 'relationships', 'askscience',\n",
              "       'sysadmin', 'nba', 'Home', 'personalfinance', 'IAmA',\n",
              "       'relationship_advice', 'TwoXChromosomes', 'cringe', 'copypasta',\n",
              "       'jailbreak', 'offmychest', 'legaladvice', 'leagueoflegends',\n",
              "       'buildapc', 'AskWomen', 'Twitch', 'AskMen', 'DotA2', 'LifeProTips',\n",
              "       'assassinscreed', 'Instagram', 'pathofexile', 'explainlikeimfive',\n",
              "       'skyrimmods', 'AskHistorians', 'summonerschool',\n",
              "       'PersonalFinanceCanada', 'unpopularopinion', 'tifu', 'dndnext',\n",
              "       'DestinyTheGame', 'changemyview', 'NoStupidQuestions',\n",
              "       'UnresolvedMysteries', 'AmItheAsshole', 'OutOfTheLoop',\n",
              "       'EscapefromTarkov', 'TheSilphRoad', 'NintendoSwitch', 'fo76'],\n",
              "      dtype=object)"
            ]
          },
          "metadata": {
            "tags": []
          },
          "execution_count": 50
        }
      ]
    },
    {
      "cell_type": "markdown",
      "metadata": {
        "id": "qCIs13xSUGkw",
        "colab_type": "text"
      },
      "source": [
        "## Spacy Embedding"
      ]
    },
    {
      "cell_type": "code",
      "metadata": {
        "id": "U-q9lwQEPLIG",
        "colab_type": "code",
        "colab": {
          "base_uri": "https://localhost:8080/",
          "height": 34
        },
        "outputId": "f5825b3b-376c-441a-d0c0-a9f3bac54fb4"
      },
      "source": [
        "#Create the nlp object\n",
        "nlp = spacy.load(\"en_core_web_md\")\n",
        "# Use Spacy Embedding to vectorize df['join_text']\n",
        "X = pd.DataFrame([nlp(str(d)).vector for d in df['joint_text']])\n",
        "y = df['subreddit_name']\n",
        "X.shape,  y.shape\n"
      ],
      "execution_count": 51,
      "outputs": [
        {
          "output_type": "execute_result",
          "data": {
            "text/plain": [
              "((2900, 300), (2900,))"
            ]
          },
          "metadata": {
            "tags": []
          },
          "execution_count": 51
        }
      ]
    },
    {
      "cell_type": "code",
      "metadata": {
        "id": "scjeu5zioL6_",
        "colab_type": "code",
        "colab": {
          "base_uri": "https://localhost:8080/",
          "height": 34
        },
        "outputId": "3b5d4b49-f0cc-4066-e096-c9ec238bc631"
      },
      "source": [
        "from sklearn.model_selection import train_test_split\n",
        "\n",
        "#split dataset into train and test data\n",
        "X_train, X_test, y_train, y_test = train_test_split(X, y, \n",
        "                                                    test_size=0.2, \n",
        "                                                    random_state=1, \n",
        "                                                    shuffle=True,\n",
        "                                                    stratify=y)\n",
        "\n",
        "X_train.shape, y_train.shape"
      ],
      "execution_count": 54,
      "outputs": [
        {
          "output_type": "execute_result",
          "data": {
            "text/plain": [
              "((2320, 300), (2320,))"
            ]
          },
          "metadata": {
            "tags": []
          },
          "execution_count": 54
        }
      ]
    },
    {
      "cell_type": "code",
      "metadata": {
        "id": "NVd2VbqEo4-s",
        "colab_type": "code",
        "colab": {
          "base_uri": "https://localhost:8080/",
          "height": 34
        },
        "outputId": "c3e97078-b4ce-4a26-c942-82a3f9c3888a"
      },
      "source": [
        "# column and row\n",
        "X[0].shape, X.iloc[0].shape"
      ],
      "execution_count": 55,
      "outputs": [
        {
          "output_type": "execute_result",
          "data": {
            "text/plain": [
              "((2900,), (300,))"
            ]
          },
          "metadata": {
            "tags": []
          },
          "execution_count": 55
        }
      ]
    },
    {
      "cell_type": "markdown",
      "metadata": {
        "id": "2XC3Z_YtVf1W",
        "colab_type": "text"
      },
      "source": [
        "## KNeighbors Classifier"
      ]
    },
    {
      "cell_type": "code",
      "metadata": {
        "id": "7qEQxPmGpDTx",
        "colab_type": "code",
        "colab": {
          "base_uri": "https://localhost:8080/",
          "height": 68
        },
        "outputId": "944a50ad-37e0-488f-af0a-544849b4fb5f"
      },
      "source": [
        "from sklearn.neighbors import KNeighborsClassifier\n",
        "# NearestNeighbors is the same as the classifier one but unsupervised\n",
        "knn = KNeighborsClassifier(n_neighbors = 15)\n",
        "\n",
        "# Fit the classifier to the data\n",
        "knn.fit(X_train.values, y_train.values)"
      ],
      "execution_count": 59,
      "outputs": [
        {
          "output_type": "execute_result",
          "data": {
            "text/plain": [
              "KNeighborsClassifier(algorithm='auto', leaf_size=30, metric='minkowski',\n",
              "                     metric_params=None, n_jobs=None, n_neighbors=15, p=2,\n",
              "                     weights='uniform')"
            ]
          },
          "metadata": {
            "tags": []
          },
          "execution_count": 59
        }
      ]
    },
    {
      "cell_type": "code",
      "metadata": {
        "id": "vZPrHSkt--0Z",
        "colab_type": "code",
        "colab": {
          "base_uri": "https://localhost:8080/",
          "height": 34
        },
        "outputId": "2a99558d-ebbc-4889-db5c-c2515a622999"
      },
      "source": [
        "knn.score(X_test.values, y_test.values)"
      ],
      "execution_count": 60,
      "outputs": [
        {
          "output_type": "execute_result",
          "data": {
            "text/plain": [
              "0.2672413793103448"
            ]
          },
          "metadata": {
            "tags": []
          },
          "execution_count": 60
        }
      ]
    },
    {
      "cell_type": "code",
      "metadata": {
        "id": "YjUc-XRIdarN",
        "colab_type": "code",
        "colab": {}
      },
      "source": [
        "def preprocess(text, nlp):\n",
        "  \"\"\"\n",
        "  Vectorizes the 'text' string by spacy pretrained model (nlp). \n",
        "  the return value serves as a query to the prediction model\n",
        "  \"\"\"\n",
        "  return nlp(text).vector.reshape(1,-1)\n",
        "\n",
        "def prediction_spacy(model, input):\n",
        "  \"\"\"\n",
        "  return the nested list of predicted neighbors' indices from \n",
        "  the trained dataframe with their distance from the input\n",
        "  input: a string type text\n",
        "  \"\"\"\n",
        "  kn = model.kneighbors(input)\n",
        "  return kn\n",
        "\n",
        "def postprocess(kn, df_ser, n):\n",
        "  \"\"\"\n",
        "  takes the nested list of kneighbors output (kn) and \n",
        "  returns first n recommended subreddit names.\n",
        "  df_ser: pandas Series that has the class names and their respective indices\n",
        "  \"\"\"\n",
        "  return df_ser.iloc[kn[1][0]].drop_duplicates()[:n].reset_index(drop=True)"
      ],
      "execution_count": 226,
      "outputs": []
    },
    {
      "cell_type": "code",
      "metadata": {
        "id": "6w3hnpKe_OoM",
        "colab_type": "code",
        "colab": {
          "base_uri": "https://localhost:8080/",
          "height": 275
        },
        "outputId": "63282214-37b0-4eca-85ee-24ba0a5dab66"
      },
      "source": [
        "query = df['joint_text'].iloc[10]\n",
        "category = df['subreddit_name'].iloc[10]\n",
        "\n",
        "print(\"category: {}\".format(category))\n",
        "print(query,\"\\n\")\n",
        "\n",
        "input = preprocess(query, nlp)\n",
        "kn = prediction_spacy(knn, input)\n",
        "pred = postprocess(kn, df['subreddit_name'], 10)\n",
        "pred"
      ],
      "execution_count": 101,
      "outputs": [
        {
          "output_type": "stream",
          "text": [
            "category: VALORANT\n",
            "accuracy reset time needs to be decreased-i have seen many discussions about this with the community mostly agreeing that accuracy recoil reset time need to be lowered but still no changes the 1s recoil reset is just a braindead concept to me as a csgo veteran now with a ton of valorant games behind me holding a site as 2 people is straight up impossible rng if they are 5 man rushing as transitioning from one target to another if you shot multiple rounds will just mean you have to wait a time during which they definetly kill you or have an aim like you are running whenever these technical arguments came up about the csgo valorant mechanincs the arguments are that valorant doesn't have to be like csgo it's more accesable team focused less focused on god like aim now what the high accuracy reset time creates doesn't even seem to stand up to these standards it is highly frustrating to see that you haven't shot for a time and your crosshair reseted position and everything but your shots still go nowhere where you aim which is definetly a terrible new player experience but even as a vetran fps player more frustration that you barely can kill more than 1 2 targets rushing making crossfires to be less effective and promoting brainless rushing god like aim actually becomes more prevelant with tournaments being played now high level valorant gameplay seems to revolve all around 1 tapping people as that barely effects your accuracy \n",
            "\n"
          ],
          "name": "stdout"
        },
        {
          "output_type": "execute_result",
          "data": {
            "text/plain": [
              "0              DotA2\n",
              "1           AskWomen\n",
              "2          Instagram\n",
              "3          singapore\n",
              "4         skyrimmods\n",
              "5             stocks\n",
              "6    leagueoflegends\n",
              "7          copypasta\n",
              "8     summonerschool\n",
              "9    TwoXChromosomes\n",
              "Name: subreddit_name, dtype: object"
            ]
          },
          "metadata": {
            "tags": []
          },
          "execution_count": 101
        }
      ]
    },
    {
      "cell_type": "code",
      "metadata": {
        "id": "p48KfbNd_zNs",
        "colab_type": "code",
        "colab": {
          "base_uri": "https://localhost:8080/",
          "height": 289
        },
        "outputId": "5016c15a-5245-4a3f-fa67-3aa94ed25e03"
      },
      "source": [
        "df['joint_text'].iloc[kn[1][0]]"
      ],
      "execution_count": 102,
      "outputs": [
        {
          "output_type": "execute_result",
          "data": {
            "text/plain": [
              "1788    my country lebanon literally exploded today-i ...\n",
              "1635    that friend of yours that s always single what...\n",
              "1930    my posts are dying-so guys i'm a photographer ...\n",
              "463     so i heard a loud bang outside my flat this mo...\n",
              "451     a message to parents with schoolchildren from ...\n",
              "2079    request pc sse mod that randomly plays dialogu...\n",
              "791     stock trading halted for 15 minutes after the ...\n",
              "1538    sk telecom t1 vs misfits 2017 world championsh...\n",
              "1308    greta thunberg is the reason i work out-greta ...\n",
              "2172    nathan mott is a jg coach who uploads all his ...\n",
              "1525    pobelter for the first time since season 4 i w...\n",
              "1214    my grandfather who raised me passed away being...\n",
              "1424    my girlfriend gave me sunflowers and made me c...\n",
              "157     sex has changed my girlfriend's life-my girlfr...\n",
              "936     update to i accepted a new job offer and my em...\n",
              "Name: joint_text, dtype: object"
            ]
          },
          "metadata": {
            "tags": []
          },
          "execution_count": 102
        }
      ]
    },
    {
      "cell_type": "code",
      "metadata": {
        "id": "NeFU719Y_zUz",
        "colab_type": "code",
        "colab": {
          "base_uri": "https://localhost:8080/",
          "height": 119
        },
        "outputId": "b6f7321f-f99f-4250-92f6-c6fc88b1c2b1"
      },
      "source": [
        "user_input = \"\"\"Wildfires sweeping through the West Coast killed at least 36 people, CNN reports\n",
        "- The fires have burned across a total of some 4.5 million acres (1.8 million hectares) in Oregon, California, Washington and Idaho, according to Reuters\n",
        "- Wildfires are causing dangerous air quality and emitting record amounts of carbon dioxide\"\"\"\n",
        "\n",
        "input = preprocess(user_input, nlp)\n",
        "kn = prediction_spacy(knn, input)\n",
        "pred = postprocess(kn, df['subreddit_name'], 5)\n",
        "pred"
      ],
      "execution_count": 103,
      "outputs": [
        {
          "output_type": "execute_result",
          "data": {
            "text/plain": [
              "0               IAmA\n",
              "1               Home\n",
              "2    TwoXChromosomes\n",
              "3               help\n",
              "4           AskWomen\n",
              "Name: subreddit_name, dtype: object"
            ]
          },
          "metadata": {
            "tags": []
          },
          "execution_count": 103
        }
      ]
    },
    {
      "cell_type": "code",
      "metadata": {
        "id": "rtbvh4jC_zRY",
        "colab_type": "code",
        "colab": {
          "base_uri": "https://localhost:8080/",
          "height": 119
        },
        "outputId": "f5e3de74-d442-42f8-96a5-7d970a4b268c"
      },
      "source": [
        "df['joint_text'].iloc[kn[1][0][:5]]"
      ],
      "execution_count": 104,
      "outputs": [
        {
          "output_type": "execute_result",
          "data": {
            "text/plain": [
              "1149    i'm the brofessor and author of the swoly bibl...\n",
              "1010    what do you use on your drains-hey all i'm cur...\n",
              "1245    found read my stepdad s journal-so a few month...\n",
              "212     i cannot post images on any subreddits and i d...\n",
              "1617    why do you push people away-have you ever push...\n",
              "Name: joint_text, dtype: object"
            ]
          },
          "metadata": {
            "tags": []
          },
          "execution_count": 104
        }
      ]
    },
    {
      "cell_type": "markdown",
      "metadata": {
        "id": "7E_3f5XdgTdR",
        "colab_type": "text"
      },
      "source": [
        "## Model Serialization"
      ]
    },
    {
      "cell_type": "code",
      "metadata": {
        "id": "PdFTtvgLAFL0",
        "colab_type": "code",
        "colab": {}
      },
      "source": [
        "import pickle\n",
        "# pickle knn model\n",
        "knnPickle = open('knnpickle', 'wb') \n",
        "pickle.dump(knn, knnPickle)   \n",
        "\n",
        "# pickle the dataframe\n",
        "df['subreddit_name'].to_pickle(\"./namedf.pkl\")\n",
        "\n",
        "# nlp pickle\n",
        "nlpPickle = open('nlppickle', 'wb') \n",
        "pickle.dump(nlp, nlpPickle) "
      ],
      "execution_count": 92,
      "outputs": []
    },
    {
      "cell_type": "code",
      "metadata": {
        "id": "3jFLfxKhAFby",
        "colab_type": "code",
        "colab": {}
      },
      "source": [
        "loaded_model = pickle.load(open('knnpickle', 'rb'))\n",
        "loaded_nlp = pickle.load(open('nlppickle', 'rb'))\n",
        "loaded_df = pd.read_pickle(\"./namedf.pkl\")"
      ],
      "execution_count": 94,
      "outputs": []
    },
    {
      "cell_type": "code",
      "metadata": {
        "id": "g2s3nLlIidPq",
        "colab_type": "code",
        "colab": {
          "base_uri": "https://localhost:8080/",
          "height": 119
        },
        "outputId": "57c2a272-1670-43f1-8b95-94d23bd758d5"
      },
      "source": [
        "input = preprocess(user_input, loaded_nlp)\n",
        "kn = prediction_spacy(loaded_model, input)\n",
        "pred = postprocess(kn, loaded_df, 5)\n",
        "pred"
      ],
      "execution_count": 108,
      "outputs": [
        {
          "output_type": "execute_result",
          "data": {
            "text/plain": [
              "0               IAmA\n",
              "1               Home\n",
              "2    TwoXChromosomes\n",
              "3               help\n",
              "4           AskWomen\n",
              "Name: subreddit_name, dtype: object"
            ]
          },
          "metadata": {
            "tags": []
          },
          "execution_count": 108
        }
      ]
    },
    {
      "cell_type": "markdown",
      "metadata": {
        "id": "Uj5pQh7q6_k-",
        "colab_type": "text"
      },
      "source": [
        "## Latent Semantic Indexing (LSI)"
      ]
    },
    {
      "cell_type": "code",
      "metadata": {
        "id": "fmN2_Bo17K-D",
        "colab_type": "code",
        "colab": {}
      },
      "source": [
        "from sklearn.feature_extraction.text import TfidfVectorizer\n",
        "from sklearn.pipeline import Pipeline\n",
        "from sklearn.ensemble import RandomForestClassifier\n",
        "from sklearn.model_selection import GridSearchCV\n",
        "from sklearn.decomposition import TruncatedSVD"
      ],
      "execution_count": 109,
      "outputs": []
    },
    {
      "cell_type": "code",
      "metadata": {
        "id": "y-LKphwU7XBs",
        "colab_type": "code",
        "colab": {}
      },
      "source": [
        "# Create Pipeline Components\n",
        "\n",
        "vect = TfidfVectorizer( stop_words='english', \n",
        "                       ngram_range=(1,2),\n",
        "                       lowercase=True,\n",
        "                       max_df=0.9,\n",
        "                       min_df=1,\n",
        "                       max_features=None)\n",
        "\n",
        "svd = TruncatedSVD(n_components=100, # Just here for demo. \n",
        "                   algorithm='randomized',\n",
        "                   n_iter=10, random_state=1)\n",
        "\n",
        "rfc = RandomForestClassifier()"
      ],
      "execution_count": 110,
      "outputs": []
    },
    {
      "cell_type": "code",
      "metadata": {
        "id": "Iu49nwdT7ofb",
        "colab_type": "code",
        "colab": {}
      },
      "source": [
        "lsi = Pipeline([('vect', vect), ('svd', svd)])\n",
        "pipe = Pipeline([('lsi', lsi), ('clf', rfc)])"
      ],
      "execution_count": 112,
      "outputs": []
    },
    {
      "cell_type": "code",
      "metadata": {
        "id": "WpxzqSGm7Yrb",
        "colab_type": "code",
        "colab": {}
      },
      "source": [
        "parameters = {\n",
        "    'lsi__vect__max_df': ( 0.75, 1.0),\n",
        "    'lsi__vect__min_df': (.02, .05),\n",
        "    'lsi__vect__max_features': (500,1000),\n",
        "    'lsi__svd__n_components': [10,100,250],\n",
        "    'clf__n_estimators':(5, 10,),\n",
        "    'clf__max_depth':(15,20)\n",
        "}\n",
        "\n",
        "grid_search = GridSearchCV(pipe,parameters, cv=5, n_jobs=7, verbose=1)"
      ],
      "execution_count": 113,
      "outputs": []
    },
    {
      "cell_type": "code",
      "metadata": {
        "id": "aqH6LrjflnW5",
        "colab_type": "code",
        "colab": {
          "base_uri": "https://localhost:8080/",
          "height": 683
        },
        "outputId": "7a13f78d-93d4-4ec1-87ba-a5a4aebdfcc8"
      },
      "source": [
        "grid_search.fit(df['joint_text'], y)"
      ],
      "execution_count": 114,
      "outputs": [
        {
          "output_type": "stream",
          "text": [
            "Fitting 5 folds for each of 96 candidates, totalling 480 fits\n"
          ],
          "name": "stdout"
        },
        {
          "output_type": "stream",
          "text": [
            "[Parallel(n_jobs=7)]: Using backend LokyBackend with 7 concurrent workers.\n",
            "[Parallel(n_jobs=7)]: Done  36 tasks      | elapsed:  1.5min\n",
            "[Parallel(n_jobs=7)]: Done 186 tasks      | elapsed:  7.8min\n",
            "[Parallel(n_jobs=7)]: Done 436 tasks      | elapsed: 18.9min\n",
            "[Parallel(n_jobs=7)]: Done 480 out of 480 | elapsed: 21.1min finished\n"
          ],
          "name": "stderr"
        },
        {
          "output_type": "execute_result",
          "data": {
            "text/plain": [
              "GridSearchCV(cv=5, error_score=nan,\n",
              "             estimator=Pipeline(memory=None,\n",
              "                                steps=[('lsi',\n",
              "                                        Pipeline(memory=None,\n",
              "                                                 steps=[('vect',\n",
              "                                                         TfidfVectorizer(analyzer='word',\n",
              "                                                                         binary=False,\n",
              "                                                                         decode_error='strict',\n",
              "                                                                         dtype=<class 'numpy.float64'>,\n",
              "                                                                         encoding='utf-8',\n",
              "                                                                         input='content',\n",
              "                                                                         lowercase=True,\n",
              "                                                                         max_df=0.9,\n",
              "                                                                         max_features=None,\n",
              "                                                                         min_df=1,\n",
              "                                                                         ngram_range=(1,\n",
              "                                                                                      2),\n",
              "                                                                         norm='l2',\n",
              "                                                                         preprocessor=None,\n",
              "                                                                         smooth_...\n",
              "                                                               verbose=0,\n",
              "                                                               warm_start=False))],\n",
              "                                verbose=False),\n",
              "             iid='deprecated', n_jobs=7,\n",
              "             param_grid={'clf__max_depth': (15, 20),\n",
              "                         'clf__n_estimators': (5, 10),\n",
              "                         'lsi__svd__n_components': [10, 100, 250],\n",
              "                         'lsi__vect__max_df': (0.75, 1.0),\n",
              "                         'lsi__vect__max_features': (500, 1000),\n",
              "                         'lsi__vect__min_df': (0.02, 0.05)},\n",
              "             pre_dispatch='2*n_jobs', refit=True, return_train_score=False,\n",
              "             scoring=None, verbose=1)"
            ]
          },
          "metadata": {
            "tags": []
          },
          "execution_count": 114
        }
      ]
    },
    {
      "cell_type": "code",
      "metadata": {
        "id": "cBxgChVy7ikP",
        "colab_type": "code",
        "colab": {
          "base_uri": "https://localhost:8080/",
          "height": 34
        },
        "outputId": "08d5d5fe-edc3-46e6-906d-68a18120b634"
      },
      "source": [
        "# The accuracy is less that spacy vectorizer\n",
        "grid_search.best_score_"
      ],
      "execution_count": 115,
      "outputs": [
        {
          "output_type": "execute_result",
          "data": {
            "text/plain": [
              "0.20275862068965517"
            ]
          },
          "metadata": {
            "tags": []
          },
          "execution_count": 115
        }
      ]
    },
    {
      "cell_type": "code",
      "metadata": {
        "id": "WeNVeLKs7lNQ",
        "colab_type": "code",
        "colab": {
          "base_uri": "https://localhost:8080/",
          "height": 34
        },
        "outputId": "bd2b2aa3-5911-488f-bed8-78081a6d1bb0"
      },
      "source": [
        "grid_search.predict([user_input])"
      ],
      "execution_count": 121,
      "outputs": [
        {
          "output_type": "execute_result",
          "data": {
            "text/plain": [
              "array(['investing'], dtype=object)"
            ]
          },
          "metadata": {
            "tags": []
          },
          "execution_count": 121
        }
      ]
    },
    {
      "cell_type": "code",
      "metadata": {
        "id": "rnCco6Xak6JI",
        "colab_type": "code",
        "colab": {
          "base_uri": "https://localhost:8080/",
          "height": 510
        },
        "outputId": "20efd7e5-f72e-4738-c363-432efb950bb1"
      },
      "source": [
        "grid_search.best_estimator_"
      ],
      "execution_count": 203,
      "outputs": [
        {
          "output_type": "execute_result",
          "data": {
            "text/plain": [
              "Pipeline(memory=None,\n",
              "         steps=[('lsi',\n",
              "                 Pipeline(memory=None,\n",
              "                          steps=[('vect',\n",
              "                                  TfidfVectorizer(analyzer='word', binary=False,\n",
              "                                                  decode_error='strict',\n",
              "                                                  dtype=<class 'numpy.float64'>,\n",
              "                                                  encoding='utf-8',\n",
              "                                                  input='content',\n",
              "                                                  lowercase=True, max_df=1.0,\n",
              "                                                  max_features=1000,\n",
              "                                                  min_df=0.02,\n",
              "                                                  ngram_range=(1, 2), norm='l2',\n",
              "                                                  preprocessor=None,\n",
              "                                                  smooth_idf=True,\n",
              "                                                  stop_words='english',\n",
              "                                                  strip_accen...\n",
              "                 RandomForestClassifier(bootstrap=True, ccp_alpha=0.0,\n",
              "                                        class_weight=None, criterion='gini',\n",
              "                                        max_depth=20, max_features='auto',\n",
              "                                        max_leaf_nodes=None, max_samples=None,\n",
              "                                        min_impurity_decrease=0.0,\n",
              "                                        min_impurity_split=None,\n",
              "                                        min_samples_leaf=1, min_samples_split=2,\n",
              "                                        min_weight_fraction_leaf=0.0,\n",
              "                                        n_estimators=10, n_jobs=None,\n",
              "                                        oob_score=False, random_state=None,\n",
              "                                        verbose=0, warm_start=False))],\n",
              "         verbose=False)"
            ]
          },
          "metadata": {
            "tags": []
          },
          "execution_count": 203
        }
      ]
    },
    {
      "cell_type": "code",
      "metadata": {
        "id": "8uDrulG8V6vC",
        "colab_type": "code",
        "colab": {}
      },
      "source": [
        "def prediction_est(model, input):\n",
        "  \"\"\"\n",
        "  input: text string or list as input\n",
        "  model: grid search trained model\n",
        "  returns a pandas series containing the the recommended subreddit names\n",
        "  \"\"\"\n",
        "  if isinstance(input, str):\n",
        "    input = [input]\n",
        "  # probability of each class\n",
        "  proba = model.predict_proba(input)\n",
        "\n",
        "  # index of the highest probable classes in descending order\n",
        "  index_proba = [i[0] for i in sorted(enumerate(proba[0]), key=lambda x:x[1])][::-1]\n",
        "  # Alternative way\n",
        "  # idx_max = proba[0].argsort()[::-1]\n",
        "\n",
        "  # get the most probable class names\n",
        "  return pd.Series(model.classes_[index_proba][:15])"
      ],
      "execution_count": 236,
      "outputs": []
    },
    {
      "cell_type": "code",
      "metadata": {
        "id": "l8gcAugnbny3",
        "colab_type": "code",
        "colab": {
          "base_uri": "https://localhost:8080/",
          "height": 289
        },
        "outputId": "ff1640f9-2b10-42b4-fde8-8b4fbffbc707"
      },
      "source": [
        "prediction_est(grid_search, user_input)"
      ],
      "execution_count": 239,
      "outputs": [
        {
          "output_type": "execute_result",
          "data": {
            "text/plain": [
              "0                 investing\n",
              "1                   atheism\n",
              "2     PersonalFinanceCanada\n",
              "3                 copypasta\n",
              "4         explainlikeimfive\n",
              "5                askscience\n",
              "6            NintendoSwitch\n",
              "7                  sysadmin\n",
              "8                     Jokes\n",
              "9              changemyview\n",
              "10                 AskWomen\n",
              "11             TheSilphRoad\n",
              "12                jailbreak\n",
              "13          personalfinance\n",
              "14                singapore\n",
              "dtype: object"
            ]
          },
          "metadata": {
            "tags": []
          },
          "execution_count": 239
        }
      ]
    },
    {
      "cell_type": "code",
      "metadata": {
        "id": "KdzT3lK9VELS",
        "colab_type": "code",
        "colab": {}
      },
      "source": [
        "# pickle grid search model with rfc+lsi\n",
        "rfclsi = open('rfclsi_pickle', 'wb') \n",
        "pickle.dump(grid_search, rfclsi)   "
      ],
      "execution_count": 166,
      "outputs": []
    },
    {
      "cell_type": "code",
      "metadata": {
        "id": "DVsnvafXfNxU",
        "colab_type": "code",
        "colab": {}
      },
      "source": [
        "loaded_model = pickle.load(open('rfclsi_pickle', 'rb'))"
      ],
      "execution_count": 200,
      "outputs": []
    },
    {
      "cell_type": "code",
      "metadata": {
        "id": "HeYf1alDfh4b",
        "colab_type": "code",
        "colab": {
          "base_uri": "https://localhost:8080/",
          "height": 289
        },
        "outputId": "8f78abd1-8011-4b08-f115-262effabdeda"
      },
      "source": [
        "prediction_est(loaded_model, user_input)"
      ],
      "execution_count": 202,
      "outputs": [
        {
          "output_type": "execute_result",
          "data": {
            "text/plain": [
              "0                 investing\n",
              "1                   atheism\n",
              "2     PersonalFinanceCanada\n",
              "3                 copypasta\n",
              "4         explainlikeimfive\n",
              "5                askscience\n",
              "6            NintendoSwitch\n",
              "7                  sysadmin\n",
              "8                     Jokes\n",
              "9              changemyview\n",
              "10                 AskWomen\n",
              "11             TheSilphRoad\n",
              "12                jailbreak\n",
              "13          personalfinance\n",
              "14                singapore\n",
              "dtype: object"
            ]
          },
          "metadata": {
            "tags": []
          },
          "execution_count": 202
        }
      ]
    },
    {
      "cell_type": "markdown",
      "metadata": {
        "id": "QTzFpHUbn_6u",
        "colab_type": "text"
      },
      "source": [
        "### Gradient Boost Classifier:"
      ]
    },
    {
      "cell_type": "code",
      "metadata": {
        "id": "kbQYwYhgoVuH",
        "colab_type": "code",
        "colab": {}
      },
      "source": [
        "from sklearn.model_selection import RandomizedSearchCV\n",
        "from sklearn.ensemble import GradientBoostingClassifier\n",
        "import numpy as np\n",
        "from scipy.stats import randint\n",
        "from sklearn.preprocessing import FunctionTransformer"
      ],
      "execution_count": 204,
      "outputs": []
    },
    {
      "cell_type": "code",
      "metadata": {
        "id": "QaT46UXopBuS",
        "colab_type": "code",
        "colab": {}
      },
      "source": [
        "import spacy\n",
        "nlp = spacy.load(\"en_core_web_md\")"
      ],
      "execution_count": 207,
      "outputs": []
    },
    {
      "cell_type": "markdown",
      "metadata": {
        "id": "DIQw12QLp3cX",
        "colab_type": "text"
      },
      "source": [
        "* Spacy vectorizer"
      ]
    },
    {
      "cell_type": "code",
      "metadata": {
        "id": "kPdfAkQOpGTW",
        "colab_type": "code",
        "colab": {}
      },
      "source": [
        "# def get_word_vectors(docs):\n",
        "#     return np.array([nlp(doc).vector for doc in docs])"
      ],
      "execution_count": 208,
      "outputs": []
    },
    {
      "cell_type": "code",
      "metadata": {
        "id": "3hGkkTQUpkyp",
        "colab_type": "code",
        "colab": {}
      },
      "source": [
        "# Instantiate the spacy vectorizer\n",
        "# embed = FunctionTransformer(get_word_vectors)"
      ],
      "execution_count": 209,
      "outputs": []
    },
    {
      "cell_type": "code",
      "metadata": {
        "id": "5G4lYMyIoDVR",
        "colab_type": "code",
        "colab": {}
      },
      "source": [
        "# GradientBoostingClassifier\n",
        "gbc = GradientBoostingClassifier(loss='deviance', learning_rate=0.1, n_estimators=100, \n",
        "                               subsample=1.0, criterion='friedman_mse', min_samples_split=2, \n",
        "                               min_samples_leaf=1, min_weight_fraction_leaf=0.0, \n",
        "                               max_depth=3, min_impurity_decrease=0.0, min_impurity_split=None, \n",
        "                               init=None, random_state=None, max_features=None, verbose=0, \n",
        "                               max_leaf_nodes=None, warm_start=False, presort='deprecated', \n",
        "                               validation_fraction=0.1, n_iter_no_change=None, tol=0.0001, ccp_alpha=0.0)\n"
      ],
      "execution_count": 210,
      "outputs": []
    },
    {
      "cell_type": "code",
      "metadata": {
        "id": "0GaWJxoSpopp",
        "colab_type": "code",
        "colab": {}
      },
      "source": [
        "# spacy embedding is taken out of the pipeline to save time\n",
        "pipe = Pipeline([\n",
        "#     ('emb', embed), \n",
        "    ('clf', gbc)\n",
        "    ])"
      ],
      "execution_count": 219,
      "outputs": []
    },
    {
      "cell_type": "code",
      "metadata": {
        "id": "JyXeXPcnqDiY",
        "colab_type": "code",
        "colab": {}
      },
      "source": [
        "# Gradient Boost Classifier\n",
        "gbc_par_names = [\"max_features\", \"max_depth\", \"min_samples_split\", \"min_samples_leaf\"]\n",
        "\n",
        "max_features_gbc = np.arange(2,30,2)\n",
        "max_depth_gbc = range(2,16,2)\n",
        "min_samples_split_gbc = np.linspace(2, 40, 10, endpoint=True).astype(int)\n",
        "min_samples_leaf_gbc = np.linspace(2, 40, 10, endpoint=True).astype(int)\n",
        "criterion_gbc = [\"gini\", \"entropy\"]\n",
        "gbc_param_ranges = [max_features_gbc, max_depth_gbc, min_samples_split_gbc, min_samples_leaf_gbc]\n",
        "\n",
        "param_dist = {\n",
        "    'clf__max_features': max_features_gbc, \n",
        "    'clf__max_depth': max_depth_gbc, \n",
        "    'clf__min_samples_split': min_samples_split_gbc, \n",
        "    'clf__min_samples_leaf': min_samples_leaf_gbc\n",
        "    }"
      ],
      "execution_count": 220,
      "outputs": []
    },
    {
      "cell_type": "code",
      "metadata": {
        "id": "XEaekUAyqWmZ",
        "colab_type": "code",
        "colab": {}
      },
      "source": [
        "rscv = RandomizedSearchCV(pipe, param_distributions=param_dist, n_iter=2, cv=2, verbose=1, n_jobs=-1)"
      ],
      "execution_count": 221,
      "outputs": []
    },
    {
      "cell_type": "code",
      "metadata": {
        "id": "iYmfrhgnqme-",
        "colab_type": "code",
        "colab": {
          "base_uri": "https://localhost:8080/",
          "height": 479
        },
        "outputId": "8fd91fab-33d5-4fda-89e7-c3298e769249"
      },
      "source": [
        "rscv.fit(X, y)"
      ],
      "execution_count": 222,
      "outputs": [
        {
          "output_type": "stream",
          "text": [
            "Fitting 2 folds for each of 2 candidates, totalling 4 fits\n"
          ],
          "name": "stdout"
        },
        {
          "output_type": "stream",
          "text": [
            "[Parallel(n_jobs=-1)]: Using backend LokyBackend with 2 concurrent workers.\n",
            "[Parallel(n_jobs=-1)]: Done   4 out of   4 | elapsed:  3.5min finished\n"
          ],
          "name": "stderr"
        },
        {
          "output_type": "execute_result",
          "data": {
            "text/plain": [
              "RandomizedSearchCV(cv=2, error_score=nan,\n",
              "                   estimator=Pipeline(memory=None,\n",
              "                                      steps=[('clf',\n",
              "                                              GradientBoostingClassifier(ccp_alpha=0.0,\n",
              "                                                                         criterion='friedman_mse',\n",
              "                                                                         init=None,\n",
              "                                                                         learning_rate=0.1,\n",
              "                                                                         loss='deviance',\n",
              "                                                                         max_depth=3,\n",
              "                                                                         max_features=None,\n",
              "                                                                         max_leaf_nodes=None,\n",
              "                                                                         min_impurity_decrease=0.0,\n",
              "                                                                         min_impurity_split=None,\n",
              "                                                                         min_samples_leaf=1,\n",
              "                                                                         min_samples_split=2,\n",
              "                                                                         min_weight_fract...\n",
              "                   iid='deprecated', n_iter=2, n_jobs=-1,\n",
              "                   param_distributions={'clf__max_depth': range(2, 16, 2),\n",
              "                                        'clf__max_features': array([ 2,  4,  6,  8, 10, 12, 14, 16, 18, 20, 22, 24, 26, 28]),\n",
              "                                        'clf__min_samples_leaf': array([ 2,  6, 10, 14, 18, 23, 27, 31, 35, 40]),\n",
              "                                        'clf__min_samples_split': array([ 2,  6, 10, 14, 18, 23, 27, 31, 35, 40])},\n",
              "                   pre_dispatch='2*n_jobs', random_state=None, refit=True,\n",
              "                   return_train_score=False, scoring=None, verbose=1)"
            ]
          },
          "metadata": {
            "tags": []
          },
          "execution_count": 222
        }
      ]
    },
    {
      "cell_type": "code",
      "metadata": {
        "id": "woUxwDEQsUgG",
        "colab_type": "code",
        "colab": {
          "base_uri": "https://localhost:8080/",
          "height": 357
        },
        "outputId": "57968bf0-0d53-495a-95c4-831b3197f5dd"
      },
      "source": [
        "print(rscv.best_score_)\n",
        "rscv.best_estimator_"
      ],
      "execution_count": 223,
      "outputs": [
        {
          "output_type": "stream",
          "text": [
            "0.38172413793103444\n"
          ],
          "name": "stdout"
        },
        {
          "output_type": "execute_result",
          "data": {
            "text/plain": [
              "Pipeline(memory=None,\n",
              "         steps=[('clf',\n",
              "                 GradientBoostingClassifier(ccp_alpha=0.0,\n",
              "                                            criterion='friedman_mse', init=None,\n",
              "                                            learning_rate=0.1, loss='deviance',\n",
              "                                            max_depth=12, max_features=14,\n",
              "                                            max_leaf_nodes=None,\n",
              "                                            min_impurity_decrease=0.0,\n",
              "                                            min_impurity_split=None,\n",
              "                                            min_samples_leaf=35,\n",
              "                                            min_samples_split=23,\n",
              "                                            min_weight_fraction_leaf=0.0,\n",
              "                                            n_estimators=100,\n",
              "                                            n_iter_no_change=None,\n",
              "                                            presort='deprecated',\n",
              "                                            random_state=None, subsample=1.0,\n",
              "                                            tol=0.0001, validation_fraction=0.1,\n",
              "                                            verbose=0, warm_start=False))],\n",
              "         verbose=False)"
            ]
          },
          "metadata": {
            "tags": []
          },
          "execution_count": 223
        }
      ]
    },
    {
      "cell_type": "code",
      "metadata": {
        "colab_type": "code",
        "id": "SE-BL2K-smjT",
        "colab": {}
      },
      "source": [
        "# pickle randomized searchCV model with gbc+nlp\n",
        "gbnlp = open('gbnlp_pickle', 'wb') \n",
        "pickle.dump(rscv, gbnlp)   "
      ],
      "execution_count": 224,
      "outputs": []
    },
    {
      "cell_type": "code",
      "metadata": {
        "id": "Z9iEcPcPvLP1",
        "colab_type": "code",
        "colab": {}
      },
      "source": [
        "loaded_model = pickle.load(open('gbnlp_pickle', 'rb'))"
      ],
      "execution_count": 225,
      "outputs": []
    },
    {
      "cell_type": "code",
      "metadata": {
        "id": "6adYURgewnhG",
        "colab_type": "code",
        "colab": {
          "base_uri": "https://localhost:8080/",
          "height": 34
        },
        "outputId": "272692cb-24f6-4d37-8898-b8ad07aea2f1"
      },
      "source": [
        "input = preprocess(user_input, loaded_nlp)\n",
        "input.shape"
      ],
      "execution_count": 229,
      "outputs": [
        {
          "output_type": "execute_result",
          "data": {
            "text/plain": [
              "(1, 300)"
            ]
          },
          "metadata": {
            "tags": []
          },
          "execution_count": 229
        }
      ]
    },
    {
      "cell_type": "code",
      "metadata": {
        "id": "fRVnQA9Vww-u",
        "colab_type": "code",
        "colab": {
          "base_uri": "https://localhost:8080/",
          "height": 34
        },
        "outputId": "adeff5b4-5b0e-400d-ba7d-099e6daa91e0"
      },
      "source": [
        "X.shape"
      ],
      "execution_count": 230,
      "outputs": [
        {
          "output_type": "execute_result",
          "data": {
            "text/plain": [
              "(2900, 300)"
            ]
          },
          "metadata": {
            "tags": []
          },
          "execution_count": 230
        }
      ]
    },
    {
      "cell_type": "code",
      "metadata": {
        "colab_type": "code",
        "id": "DV6qbXX1smjW",
        "colab": {
          "base_uri": "https://localhost:8080/",
          "height": 289
        },
        "outputId": "7845e6cf-7532-468a-f6a2-93abea5192a4"
      },
      "source": [
        "input = preprocess(user_input, loaded_nlp)\n",
        "pred = prediction_est(loaded_model, input)\n",
        "pred"
      ],
      "execution_count": 240,
      "outputs": [
        {
          "output_type": "execute_result",
          "data": {
            "text/plain": [
              "0                 investing\n",
              "1                    stocks\n",
              "2                       nba\n",
              "3             AskHistorians\n",
              "4                askscience\n",
              "5                 copypasta\n",
              "6                   history\n",
              "7                   atheism\n",
              "8                      Home\n",
              "9                    Twitch\n",
              "10                  dndnext\n",
              "11        explainlikeimfive\n",
              "12                     IAmA\n",
              "13    PersonalFinanceCanada\n",
              "14      UnresolvedMysteries\n",
              "dtype: object"
            ]
          },
          "metadata": {
            "tags": []
          },
          "execution_count": 240
        }
      ]
    },
    {
      "cell_type": "code",
      "metadata": {
        "id": "WKX2yIuavWeD",
        "colab_type": "code",
        "colab": {}
      },
      "source": [
        ""
      ],
      "execution_count": null,
      "outputs": []
    },
    {
      "cell_type": "code",
      "metadata": {
        "id": "OLWc49bAvWiD",
        "colab_type": "code",
        "colab": {}
      },
      "source": [
        ""
      ],
      "execution_count": null,
      "outputs": []
    }
  ]
}