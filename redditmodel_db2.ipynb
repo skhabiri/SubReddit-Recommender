{
  "nbformat": 4,
  "nbformat_minor": 0,
  "metadata": {
    "kernelspec": {
      "display_name": "U4-S1-NLP (numpy updates)",
      "language": "python",
      "name": "u4-s1-nlp"
    },
    "language_info": {
      "codemirror_mode": {
        "name": "ipython",
        "version": 3
      },
      "file_extension": ".py",
      "mimetype": "text/x-python",
      "name": "python",
      "nbconvert_exporter": "python",
      "pygments_lexer": "ipython3",
      "version": "3.7.0"
    },
    "colab": {
      "name": "redditmodel_db2.ipynb",
      "provenance": [],
      "collapsed_sections": [],
      "toc_visible": true
    }
  },
  "cells": [
    {
      "cell_type": "code",
      "metadata": {
        "id": "bJP1j0FJYiYZ",
        "colab_type": "code",
        "colab": {
          "base_uri": "https://localhost:8080/",
          "height": 717
        },
        "outputId": "aafeb1c3-726c-4723-cc24-65476e58c6fb"
      },
      "source": [
        "!pip install https://github.com/explosion/spacy-models/releases/download/en_core_web_md-2.3.1/en_core_web_md-2.3.1.tar.gz"
      ],
      "execution_count": 1,
      "outputs": [
        {
          "output_type": "stream",
          "text": [
            "Collecting https://github.com/explosion/spacy-models/releases/download/en_core_web_md-2.3.1/en_core_web_md-2.3.1.tar.gz\n",
            "\u001b[?25l  Downloading https://github.com/explosion/spacy-models/releases/download/en_core_web_md-2.3.1/en_core_web_md-2.3.1.tar.gz (50.8MB)\n",
            "\u001b[K     |████████████████████████████████| 50.8MB 83kB/s \n",
            "\u001b[?25hCollecting spacy<2.4.0,>=2.3.0\n",
            "\u001b[?25l  Downloading https://files.pythonhosted.org/packages/10/b5/c7a92c7ce5d4b353b70b4b5b4385687206c8b230ddfe08746ab0fd310a3a/spacy-2.3.2-cp36-cp36m-manylinux1_x86_64.whl (9.9MB)\n",
            "\u001b[K     |████████████████████████████████| 10.0MB 222kB/s \n",
            "\u001b[?25hRequirement already satisfied: preshed<3.1.0,>=3.0.2 in /usr/local/lib/python3.6/dist-packages (from spacy<2.4.0,>=2.3.0->en-core-web-md==2.3.1) (3.0.2)\n",
            "Requirement already satisfied: plac<1.2.0,>=0.9.6 in /usr/local/lib/python3.6/dist-packages (from spacy<2.4.0,>=2.3.0->en-core-web-md==2.3.1) (1.1.3)\n",
            "Requirement already satisfied: blis<0.5.0,>=0.4.0 in /usr/local/lib/python3.6/dist-packages (from spacy<2.4.0,>=2.3.0->en-core-web-md==2.3.1) (0.4.1)\n",
            "Requirement already satisfied: numpy>=1.15.0 in /usr/local/lib/python3.6/dist-packages (from spacy<2.4.0,>=2.3.0->en-core-web-md==2.3.1) (1.18.5)\n",
            "Requirement already satisfied: srsly<1.1.0,>=1.0.2 in /usr/local/lib/python3.6/dist-packages (from spacy<2.4.0,>=2.3.0->en-core-web-md==2.3.1) (1.0.2)\n",
            "Requirement already satisfied: murmurhash<1.1.0,>=0.28.0 in /usr/local/lib/python3.6/dist-packages (from spacy<2.4.0,>=2.3.0->en-core-web-md==2.3.1) (1.0.2)\n",
            "Requirement already satisfied: catalogue<1.1.0,>=0.0.7 in /usr/local/lib/python3.6/dist-packages (from spacy<2.4.0,>=2.3.0->en-core-web-md==2.3.1) (1.0.0)\n",
            "Requirement already satisfied: setuptools in /usr/local/lib/python3.6/dist-packages (from spacy<2.4.0,>=2.3.0->en-core-web-md==2.3.1) (50.3.0)\n",
            "Requirement already satisfied: requests<3.0.0,>=2.13.0 in /usr/local/lib/python3.6/dist-packages (from spacy<2.4.0,>=2.3.0->en-core-web-md==2.3.1) (2.23.0)\n",
            "Requirement already satisfied: wasabi<1.1.0,>=0.4.0 in /usr/local/lib/python3.6/dist-packages (from spacy<2.4.0,>=2.3.0->en-core-web-md==2.3.1) (0.8.0)\n",
            "Requirement already satisfied: tqdm<5.0.0,>=4.38.0 in /usr/local/lib/python3.6/dist-packages (from spacy<2.4.0,>=2.3.0->en-core-web-md==2.3.1) (4.41.1)\n",
            "Collecting thinc==7.4.1\n",
            "\u001b[?25l  Downloading https://files.pythonhosted.org/packages/10/ae/ef3ae5e93639c0ef8e3eb32e3c18341e511b3c515fcfc603f4b808087651/thinc-7.4.1-cp36-cp36m-manylinux1_x86_64.whl (2.1MB)\n",
            "\u001b[K     |████████████████████████████████| 2.1MB 42.1MB/s \n",
            "\u001b[?25hRequirement already satisfied: cymem<2.1.0,>=2.0.2 in /usr/local/lib/python3.6/dist-packages (from spacy<2.4.0,>=2.3.0->en-core-web-md==2.3.1) (2.0.3)\n",
            "Requirement already satisfied: importlib-metadata>=0.20; python_version < \"3.8\" in /usr/local/lib/python3.6/dist-packages (from catalogue<1.1.0,>=0.0.7->spacy<2.4.0,>=2.3.0->en-core-web-md==2.3.1) (1.7.0)\n",
            "Requirement already satisfied: certifi>=2017.4.17 in /usr/local/lib/python3.6/dist-packages (from requests<3.0.0,>=2.13.0->spacy<2.4.0,>=2.3.0->en-core-web-md==2.3.1) (2020.6.20)\n",
            "Requirement already satisfied: chardet<4,>=3.0.2 in /usr/local/lib/python3.6/dist-packages (from requests<3.0.0,>=2.13.0->spacy<2.4.0,>=2.3.0->en-core-web-md==2.3.1) (3.0.4)\n",
            "Requirement already satisfied: urllib3!=1.25.0,!=1.25.1,<1.26,>=1.21.1 in /usr/local/lib/python3.6/dist-packages (from requests<3.0.0,>=2.13.0->spacy<2.4.0,>=2.3.0->en-core-web-md==2.3.1) (1.24.3)\n",
            "Requirement already satisfied: idna<3,>=2.5 in /usr/local/lib/python3.6/dist-packages (from requests<3.0.0,>=2.13.0->spacy<2.4.0,>=2.3.0->en-core-web-md==2.3.1) (2.10)\n",
            "Requirement already satisfied: zipp>=0.5 in /usr/local/lib/python3.6/dist-packages (from importlib-metadata>=0.20; python_version < \"3.8\"->catalogue<1.1.0,>=0.0.7->spacy<2.4.0,>=2.3.0->en-core-web-md==2.3.1) (3.1.0)\n",
            "Building wheels for collected packages: en-core-web-md\n",
            "  Building wheel for en-core-web-md (setup.py) ... \u001b[?25l\u001b[?25hdone\n",
            "  Created wheel for en-core-web-md: filename=en_core_web_md-2.3.1-cp36-none-any.whl size=50916643 sha256=d23210fb2ef70259cf0b1119e4b308476e94683085eb752a48bc87d69b73846a\n",
            "  Stored in directory: /root/.cache/pip/wheels/6e/65/3a/34cdc26d4084d1d1f1e2ec9914964759ea17aa382c53a57d9f\n",
            "Successfully built en-core-web-md\n",
            "Installing collected packages: thinc, spacy, en-core-web-md\n",
            "  Found existing installation: thinc 7.4.0\n",
            "    Uninstalling thinc-7.4.0:\n",
            "      Successfully uninstalled thinc-7.4.0\n",
            "  Found existing installation: spacy 2.2.4\n",
            "    Uninstalling spacy-2.2.4:\n",
            "      Successfully uninstalled spacy-2.2.4\n",
            "Successfully installed en-core-web-md-2.3.1 spacy-2.3.2 thinc-7.4.1\n"
          ],
          "name": "stdout"
        }
      ]
    },
    {
      "cell_type": "code",
      "metadata": {
        "id": "okwQiSSJPLHw",
        "colab_type": "code",
        "colab": {}
      },
      "source": [
        "import os\n",
        "import pickle\n",
        "\n",
        "import numpy as np\n",
        "import spacy\n",
        "\n",
        "from spacy.tokenizer import Tokenizer\n",
        "from spacy.lang.en.stop_words import STOP_WORDS\n",
        "from sklearn.feature_extraction.text import TfidfVectorizer\n",
        "from sklearn.neighbors import NearestNeighbors"
      ],
      "execution_count": 1,
      "outputs": []
    },
    {
      "cell_type": "markdown",
      "metadata": {
        "id": "-vfn67Ye9fKM",
        "colab_type": "text"
      },
      "source": [
        "*Upload submission_db.sqlite3 database*\n"
      ]
    },
    {
      "cell_type": "code",
      "metadata": {
        "id": "Tl_DvYWhQZrm",
        "colab_type": "code",
        "colab": {
          "resources": {
            "http://localhost:8080/nbextensions/google.colab/files.js": {
              "data": "Ly8gQ29weXJpZ2h0IDIwMTcgR29vZ2xlIExMQwovLwovLyBMaWNlbnNlZCB1bmRlciB0aGUgQXBhY2hlIExpY2Vuc2UsIFZlcnNpb24gMi4wICh0aGUgIkxpY2Vuc2UiKTsKLy8geW91IG1heSBub3QgdXNlIHRoaXMgZmlsZSBleGNlcHQgaW4gY29tcGxpYW5jZSB3aXRoIHRoZSBMaWNlbnNlLgovLyBZb3UgbWF5IG9idGFpbiBhIGNvcHkgb2YgdGhlIExpY2Vuc2UgYXQKLy8KLy8gICAgICBodHRwOi8vd3d3LmFwYWNoZS5vcmcvbGljZW5zZXMvTElDRU5TRS0yLjAKLy8KLy8gVW5sZXNzIHJlcXVpcmVkIGJ5IGFwcGxpY2FibGUgbGF3IG9yIGFncmVlZCB0byBpbiB3cml0aW5nLCBzb2Z0d2FyZQovLyBkaXN0cmlidXRlZCB1bmRlciB0aGUgTGljZW5zZSBpcyBkaXN0cmlidXRlZCBvbiBhbiAiQVMgSVMiIEJBU0lTLAovLyBXSVRIT1VUIFdBUlJBTlRJRVMgT1IgQ09ORElUSU9OUyBPRiBBTlkgS0lORCwgZWl0aGVyIGV4cHJlc3Mgb3IgaW1wbGllZC4KLy8gU2VlIHRoZSBMaWNlbnNlIGZvciB0aGUgc3BlY2lmaWMgbGFuZ3VhZ2UgZ292ZXJuaW5nIHBlcm1pc3Npb25zIGFuZAovLyBsaW1pdGF0aW9ucyB1bmRlciB0aGUgTGljZW5zZS4KCi8qKgogKiBAZmlsZW92ZXJ2aWV3IEhlbHBlcnMgZm9yIGdvb2dsZS5jb2xhYiBQeXRob24gbW9kdWxlLgogKi8KKGZ1bmN0aW9uKHNjb3BlKSB7CmZ1bmN0aW9uIHNwYW4odGV4dCwgc3R5bGVBdHRyaWJ1dGVzID0ge30pIHsKICBjb25zdCBlbGVtZW50ID0gZG9jdW1lbnQuY3JlYXRlRWxlbWVudCgnc3BhbicpOwogIGVsZW1lbnQudGV4dENvbnRlbnQgPSB0ZXh0OwogIGZvciAoY29uc3Qga2V5IG9mIE9iamVjdC5rZXlzKHN0eWxlQXR0cmlidXRlcykpIHsKICAgIGVsZW1lbnQuc3R5bGVba2V5XSA9IHN0eWxlQXR0cmlidXRlc1trZXldOwogIH0KICByZXR1cm4gZWxlbWVudDsKfQoKLy8gTWF4IG51bWJlciBvZiBieXRlcyB3aGljaCB3aWxsIGJlIHVwbG9hZGVkIGF0IGEgdGltZS4KY29uc3QgTUFYX1BBWUxPQURfU0laRSA9IDEwMCAqIDEwMjQ7CgpmdW5jdGlvbiBfdXBsb2FkRmlsZXMoaW5wdXRJZCwgb3V0cHV0SWQpIHsKICBjb25zdCBzdGVwcyA9IHVwbG9hZEZpbGVzU3RlcChpbnB1dElkLCBvdXRwdXRJZCk7CiAgY29uc3Qgb3V0cHV0RWxlbWVudCA9IGRvY3VtZW50LmdldEVsZW1lbnRCeUlkKG91dHB1dElkKTsKICAvLyBDYWNoZSBzdGVwcyBvbiB0aGUgb3V0cHV0RWxlbWVudCB0byBtYWtlIGl0IGF2YWlsYWJsZSBmb3IgdGhlIG5leHQgY2FsbAogIC8vIHRvIHVwbG9hZEZpbGVzQ29udGludWUgZnJvbSBQeXRob24uCiAgb3V0cHV0RWxlbWVudC5zdGVwcyA9IHN0ZXBzOwoKICByZXR1cm4gX3VwbG9hZEZpbGVzQ29udGludWUob3V0cHV0SWQpOwp9CgovLyBUaGlzIGlzIHJvdWdobHkgYW4gYXN5bmMgZ2VuZXJhdG9yIChub3Qgc3VwcG9ydGVkIGluIHRoZSBicm93c2VyIHlldCksCi8vIHdoZXJlIHRoZXJlIGFyZSBtdWx0aXBsZSBhc3luY2hyb25vdXMgc3RlcHMgYW5kIHRoZSBQeXRob24gc2lkZSBpcyBnb2luZwovLyB0byBwb2xsIGZvciBjb21wbGV0aW9uIG9mIGVhY2ggc3RlcC4KLy8gVGhpcyB1c2VzIGEgUHJvbWlzZSB0byBibG9jayB0aGUgcHl0aG9uIHNpZGUgb24gY29tcGxldGlvbiBvZiBlYWNoIHN0ZXAsCi8vIHRoZW4gcGFzc2VzIHRoZSByZXN1bHQgb2YgdGhlIHByZXZpb3VzIHN0ZXAgYXMgdGhlIGlucHV0IHRvIHRoZSBuZXh0IHN0ZXAuCmZ1bmN0aW9uIF91cGxvYWRGaWxlc0NvbnRpbnVlKG91dHB1dElkKSB7CiAgY29uc3Qgb3V0cHV0RWxlbWVudCA9IGRvY3VtZW50LmdldEVsZW1lbnRCeUlkKG91dHB1dElkKTsKICBjb25zdCBzdGVwcyA9IG91dHB1dEVsZW1lbnQuc3RlcHM7CgogIGNvbnN0IG5leHQgPSBzdGVwcy5uZXh0KG91dHB1dEVsZW1lbnQubGFzdFByb21pc2VWYWx1ZSk7CiAgcmV0dXJuIFByb21pc2UucmVzb2x2ZShuZXh0LnZhbHVlLnByb21pc2UpLnRoZW4oKHZhbHVlKSA9PiB7CiAgICAvLyBDYWNoZSB0aGUgbGFzdCBwcm9taXNlIHZhbHVlIHRvIG1ha2UgaXQgYXZhaWxhYmxlIHRvIHRoZSBuZXh0CiAgICAvLyBzdGVwIG9mIHRoZSBnZW5lcmF0b3IuCiAgICBvdXRwdXRFbGVtZW50Lmxhc3RQcm9taXNlVmFsdWUgPSB2YWx1ZTsKICAgIHJldHVybiBuZXh0LnZhbHVlLnJlc3BvbnNlOwogIH0pOwp9CgovKioKICogR2VuZXJhdG9yIGZ1bmN0aW9uIHdoaWNoIGlzIGNhbGxlZCBiZXR3ZWVuIGVhY2ggYXN5bmMgc3RlcCBvZiB0aGUgdXBsb2FkCiAqIHByb2Nlc3MuCiAqIEBwYXJhbSB7c3RyaW5nfSBpbnB1dElkIEVsZW1lbnQgSUQgb2YgdGhlIGlucHV0IGZpbGUgcGlja2VyIGVsZW1lbnQuCiAqIEBwYXJhbSB7c3RyaW5nfSBvdXRwdXRJZCBFbGVtZW50IElEIG9mIHRoZSBvdXRwdXQgZGlzcGxheS4KICogQHJldHVybiB7IUl0ZXJhYmxlPCFPYmplY3Q+fSBJdGVyYWJsZSBvZiBuZXh0IHN0ZXBzLgogKi8KZnVuY3Rpb24qIHVwbG9hZEZpbGVzU3RlcChpbnB1dElkLCBvdXRwdXRJZCkgewogIGNvbnN0IGlucHV0RWxlbWVudCA9IGRvY3VtZW50LmdldEVsZW1lbnRCeUlkKGlucHV0SWQpOwogIGlucHV0RWxlbWVudC5kaXNhYmxlZCA9IGZhbHNlOwoKICBjb25zdCBvdXRwdXRFbGVtZW50ID0gZG9jdW1lbnQuZ2V0RWxlbWVudEJ5SWQob3V0cHV0SWQpOwogIG91dHB1dEVsZW1lbnQuaW5uZXJIVE1MID0gJyc7CgogIGNvbnN0IHBpY2tlZFByb21pc2UgPSBuZXcgUHJvbWlzZSgocmVzb2x2ZSkgPT4gewogICAgaW5wdXRFbGVtZW50LmFkZEV2ZW50TGlzdGVuZXIoJ2NoYW5nZScsIChlKSA9PiB7CiAgICAgIHJlc29sdmUoZS50YXJnZXQuZmlsZXMpOwogICAgfSk7CiAgfSk7CgogIGNvbnN0IGNhbmNlbCA9IGRvY3VtZW50LmNyZWF0ZUVsZW1lbnQoJ2J1dHRvbicpOwogIGlucHV0RWxlbWVudC5wYXJlbnRFbGVtZW50LmFwcGVuZENoaWxkKGNhbmNlbCk7CiAgY2FuY2VsLnRleHRDb250ZW50ID0gJ0NhbmNlbCB1cGxvYWQnOwogIGNvbnN0IGNhbmNlbFByb21pc2UgPSBuZXcgUHJvbWlzZSgocmVzb2x2ZSkgPT4gewogICAgY2FuY2VsLm9uY2xpY2sgPSAoKSA9PiB7CiAgICAgIHJlc29sdmUobnVsbCk7CiAgICB9OwogIH0pOwoKICAvLyBXYWl0IGZvciB0aGUgdXNlciB0byBwaWNrIHRoZSBmaWxlcy4KICBjb25zdCBmaWxlcyA9IHlpZWxkIHsKICAgIHByb21pc2U6IFByb21pc2UucmFjZShbcGlja2VkUHJvbWlzZSwgY2FuY2VsUHJvbWlzZV0pLAogICAgcmVzcG9uc2U6IHsKICAgICAgYWN0aW9uOiAnc3RhcnRpbmcnLAogICAgfQogIH07CgogIGNhbmNlbC5yZW1vdmUoKTsKCiAgLy8gRGlzYWJsZSB0aGUgaW5wdXQgZWxlbWVudCBzaW5jZSBmdXJ0aGVyIHBpY2tzIGFyZSBub3QgYWxsb3dlZC4KICBpbnB1dEVsZW1lbnQuZGlzYWJsZWQgPSB0cnVlOwoKICBpZiAoIWZpbGVzKSB7CiAgICByZXR1cm4gewogICAgICByZXNwb25zZTogewogICAgICAgIGFjdGlvbjogJ2NvbXBsZXRlJywKICAgICAgfQogICAgfTsKICB9CgogIGZvciAoY29uc3QgZmlsZSBvZiBmaWxlcykgewogICAgY29uc3QgbGkgPSBkb2N1bWVudC5jcmVhdGVFbGVtZW50KCdsaScpOwogICAgbGkuYXBwZW5kKHNwYW4oZmlsZS5uYW1lLCB7Zm9udFdlaWdodDogJ2JvbGQnfSkpOwogICAgbGkuYXBwZW5kKHNwYW4oCiAgICAgICAgYCgke2ZpbGUudHlwZSB8fCAnbi9hJ30pIC0gJHtmaWxlLnNpemV9IGJ5dGVzLCBgICsKICAgICAgICBgbGFzdCBtb2RpZmllZDogJHsKICAgICAgICAgICAgZmlsZS5sYXN0TW9kaWZpZWREYXRlID8gZmlsZS5sYXN0TW9kaWZpZWREYXRlLnRvTG9jYWxlRGF0ZVN0cmluZygpIDoKICAgICAgICAgICAgICAgICAgICAgICAgICAgICAgICAgICAgJ24vYSd9IC0gYCkpOwogICAgY29uc3QgcGVyY2VudCA9IHNwYW4oJzAlIGRvbmUnKTsKICAgIGxpLmFwcGVuZENoaWxkKHBlcmNlbnQpOwoKICAgIG91dHB1dEVsZW1lbnQuYXBwZW5kQ2hpbGQobGkpOwoKICAgIGNvbnN0IGZpbGVEYXRhUHJvbWlzZSA9IG5ldyBQcm9taXNlKChyZXNvbHZlKSA9PiB7CiAgICAgIGNvbnN0IHJlYWRlciA9IG5ldyBGaWxlUmVhZGVyKCk7CiAgICAgIHJlYWRlci5vbmxvYWQgPSAoZSkgPT4gewogICAgICAgIHJlc29sdmUoZS50YXJnZXQucmVzdWx0KTsKICAgICAgfTsKICAgICAgcmVhZGVyLnJlYWRBc0FycmF5QnVmZmVyKGZpbGUpOwogICAgfSk7CiAgICAvLyBXYWl0IGZvciB0aGUgZGF0YSB0byBiZSByZWFkeS4KICAgIGxldCBmaWxlRGF0YSA9IHlpZWxkIHsKICAgICAgcHJvbWlzZTogZmlsZURhdGFQcm9taXNlLAogICAgICByZXNwb25zZTogewogICAgICAgIGFjdGlvbjogJ2NvbnRpbnVlJywKICAgICAgfQogICAgfTsKCiAgICAvLyBVc2UgYSBjaHVua2VkIHNlbmRpbmcgdG8gYXZvaWQgbWVzc2FnZSBzaXplIGxpbWl0cy4gU2VlIGIvNjIxMTU2NjAuCiAgICBsZXQgcG9zaXRpb24gPSAwOwogICAgd2hpbGUgKHBvc2l0aW9uIDwgZmlsZURhdGEuYnl0ZUxlbmd0aCkgewogICAgICBjb25zdCBsZW5ndGggPSBNYXRoLm1pbihmaWxlRGF0YS5ieXRlTGVuZ3RoIC0gcG9zaXRpb24sIE1BWF9QQVlMT0FEX1NJWkUpOwogICAgICBjb25zdCBjaHVuayA9IG5ldyBVaW50OEFycmF5KGZpbGVEYXRhLCBwb3NpdGlvbiwgbGVuZ3RoKTsKICAgICAgcG9zaXRpb24gKz0gbGVuZ3RoOwoKICAgICAgY29uc3QgYmFzZTY0ID0gYnRvYShTdHJpbmcuZnJvbUNoYXJDb2RlLmFwcGx5KG51bGwsIGNodW5rKSk7CiAgICAgIHlpZWxkIHsKICAgICAgICByZXNwb25zZTogewogICAgICAgICAgYWN0aW9uOiAnYXBwZW5kJywKICAgICAgICAgIGZpbGU6IGZpbGUubmFtZSwKICAgICAgICAgIGRhdGE6IGJhc2U2NCwKICAgICAgICB9LAogICAgICB9OwogICAgICBwZXJjZW50LnRleHRDb250ZW50ID0KICAgICAgICAgIGAke01hdGgucm91bmQoKHBvc2l0aW9uIC8gZmlsZURhdGEuYnl0ZUxlbmd0aCkgKiAxMDApfSUgZG9uZWA7CiAgICB9CiAgfQoKICAvLyBBbGwgZG9uZS4KICB5aWVsZCB7CiAgICByZXNwb25zZTogewogICAgICBhY3Rpb246ICdjb21wbGV0ZScsCiAgICB9CiAgfTsKfQoKc2NvcGUuZ29vZ2xlID0gc2NvcGUuZ29vZ2xlIHx8IHt9OwpzY29wZS5nb29nbGUuY29sYWIgPSBzY29wZS5nb29nbGUuY29sYWIgfHwge307CnNjb3BlLmdvb2dsZS5jb2xhYi5fZmlsZXMgPSB7CiAgX3VwbG9hZEZpbGVzLAogIF91cGxvYWRGaWxlc0NvbnRpbnVlLAp9Owp9KShzZWxmKTsK",
              "ok": true,
              "headers": [
                [
                  "content-type",
                  "application/javascript"
                ]
              ],
              "status": 200,
              "status_text": ""
            }
          },
          "base_uri": "https://localhost:8080/",
          "height": 72
        },
        "outputId": "dbec9838-abf5-4216-ea04-b3c0310919a5"
      },
      "source": [
        "from google.colab import files \n",
        "uploaded = files.upload()"
      ],
      "execution_count": 2,
      "outputs": [
        {
          "output_type": "display_data",
          "data": {
            "text/html": [
              "\n",
              "     <input type=\"file\" id=\"files-c23bd9c4-f519-449b-b3ab-53bc6aeec446\" name=\"files[]\" multiple disabled\n",
              "        style=\"border:none\" />\n",
              "     <output id=\"result-c23bd9c4-f519-449b-b3ab-53bc6aeec446\">\n",
              "      Upload widget is only available when the cell has been executed in the\n",
              "      current browser session. Please rerun this cell to enable.\n",
              "      </output>\n",
              "      <script src=\"/nbextensions/google.colab/files.js\"></script> "
            ],
            "text/plain": [
              "<IPython.core.display.HTML object>"
            ]
          },
          "metadata": {
            "tags": []
          }
        },
        {
          "output_type": "stream",
          "text": [
            "Saving subreddit_db.sqlite3 to subreddit_db.sqlite3\n"
          ],
          "name": "stdout"
        }
      ]
    },
    {
      "cell_type": "code",
      "metadata": {
        "id": "6wHU9AHfPLHz",
        "colab_type": "code",
        "colab": {}
      },
      "source": [
        "import pandas as pd\n",
        "import sqlite3\n",
        "import numpy as np\n",
        "\n",
        "def refresh_connection_and_cursor():\n",
        "  try:\n",
        "    c.close()\n",
        "    conn.close()\n",
        "  except: pass\n",
        "  conn = sqlite3.connect('/content/subreddit_db.sqlite3')\n",
        "  c = conn.cursor()\n",
        "  return conn, c\n",
        "\n",
        "conn, c = refresh_connection_and_cursor()\n",
        "\n",
        "data = pd.read_sql_query(\n",
        "    \"select * from submission_table order by random() limit 100000;\", \n",
        "    conn)\n",
        "\n",
        "c.close()\n",
        "conn.close()"
      ],
      "execution_count": 4,
      "outputs": []
    },
    {
      "cell_type": "code",
      "metadata": {
        "id": "VJHnJGJVPLH2",
        "colab_type": "code",
        "colab": {
          "base_uri": "https://localhost:8080/",
          "height": 221
        },
        "outputId": "a7b9fd26-155a-4960-f496-e52f4f946a52"
      },
      "source": [
        "print(data.shape)\n",
        "data.head()"
      ],
      "execution_count": 10,
      "outputs": [
        {
          "output_type": "stream",
          "text": [
            "(51610, 4)\n"
          ],
          "name": "stdout"
        },
        {
          "output_type": "execute_result",
          "data": {
            "text/html": [
              "<div>\n",
              "<style scoped>\n",
              "    .dataframe tbody tr th:only-of-type {\n",
              "        vertical-align: middle;\n",
              "    }\n",
              "\n",
              "    .dataframe tbody tr th {\n",
              "        vertical-align: top;\n",
              "    }\n",
              "\n",
              "    .dataframe thead th {\n",
              "        text-align: right;\n",
              "    }\n",
              "</style>\n",
              "<table border=\"1\" class=\"dataframe\">\n",
              "  <thead>\n",
              "    <tr style=\"text-align: right;\">\n",
              "      <th></th>\n",
              "      <th>subreddit_name</th>\n",
              "      <th>subreddit_id</th>\n",
              "      <th>title</th>\n",
              "      <th>text</th>\n",
              "    </tr>\n",
              "  </thead>\n",
              "  <tbody>\n",
              "    <tr>\n",
              "      <th>0</th>\n",
              "      <td>Documentaries</td>\n",
              "      <td>2qhlh</td>\n",
              "      <td>The Art Of Making Noodles By Hand (2018)(12:10)</td>\n",
              "      <td></td>\n",
              "    </tr>\n",
              "    <tr>\n",
              "      <th>1</th>\n",
              "      <td>HomeImprovement</td>\n",
              "      <td>2ql97</td>\n",
              "      <td>PSA: Kidde Fire extinguisher recall</td>\n",
              "      <td>See link below:\\n[Recall](https://www.cpsc.gov...</td>\n",
              "    </tr>\n",
              "    <tr>\n",
              "      <th>2</th>\n",
              "      <td>conspiracy</td>\n",
              "      <td>2qh4r</td>\n",
              "      <td>To learn how the Federal Reserve Bank works, r...</td>\n",
              "      <td></td>\n",
              "    </tr>\n",
              "    <tr>\n",
              "      <th>3</th>\n",
              "      <td>nottheonion</td>\n",
              "      <td>2qnts</td>\n",
              "      <td>The Teen Who Ashton Kutcher Hit With a Car Is ...</td>\n",
              "      <td></td>\n",
              "    </tr>\n",
              "    <tr>\n",
              "      <th>4</th>\n",
              "      <td>literature</td>\n",
              "      <td>2qhps</td>\n",
              "      <td>Just finished The Iliad to completion for the ...</td>\n",
              "      <td>Hey all,\\n\\nSo I am just a guy who just heard ...</td>\n",
              "    </tr>\n",
              "  </tbody>\n",
              "</table>\n",
              "</div>"
            ],
            "text/plain": [
              "    subreddit_name  ...                                               text\n",
              "0    Documentaries  ...                                                   \n",
              "1  HomeImprovement  ...  See link below:\\n[Recall](https://www.cpsc.gov...\n",
              "2       conspiracy  ...                                                   \n",
              "3      nottheonion  ...                                                   \n",
              "4       literature  ...  Hey all,\\n\\nSo I am just a guy who just heard ...\n",
              "\n",
              "[5 rows x 4 columns]"
            ]
          },
          "metadata": {
            "tags": []
          },
          "execution_count": 10
        }
      ]
    },
    {
      "cell_type": "code",
      "metadata": {
        "id": "eZbFt4KYqH1Z",
        "colab_type": "code",
        "colab": {
          "base_uri": "https://localhost:8080/",
          "height": 204
        },
        "outputId": "51a35c1a-d002-47c2-9494-fd13086c7d33"
      },
      "source": [
        "data.info()"
      ],
      "execution_count": 11,
      "outputs": [
        {
          "output_type": "stream",
          "text": [
            "<class 'pandas.core.frame.DataFrame'>\n",
            "RangeIndex: 51610 entries, 0 to 51609\n",
            "Data columns (total 4 columns):\n",
            " #   Column          Non-Null Count  Dtype \n",
            "---  ------          --------------  ----- \n",
            " 0   subreddit_name  51610 non-null  object\n",
            " 1   subreddit_id    51610 non-null  object\n",
            " 2   title           51610 non-null  object\n",
            " 3   text            51610 non-null  object\n",
            "dtypes: object(4)\n",
            "memory usage: 1.6+ MB\n"
          ],
          "name": "stdout"
        }
      ]
    },
    {
      "cell_type": "code",
      "metadata": {
        "id": "BXH8JxH3cpcR",
        "colab_type": "code",
        "colab": {
          "base_uri": "https://localhost:8080/",
          "height": 221
        },
        "outputId": "e4135575-7d89-4553-f604-f445f83146ac"
      },
      "source": [
        "data['subreddit_name'].unique()"
      ],
      "execution_count": 12,
      "outputs": [
        {
          "output_type": "execute_result",
          "data": {
            "text/plain": [
              "array(['Documentaries', 'HomeImprovement', 'conspiracy', 'nottheonion',\n",
              "       'literature', 'Health', 'gadgets', 'food', 'history', 'politics',\n",
              "       'cars', 'WTF', 'entertainment', 'books', 'investing',\n",
              "       'socialskills', 'AskReddit', 'Music', 'gaming', 'TwoXChromosomes',\n",
              "       'Coronavirus', 'Cooking', 'Design', 'science', 'worldpolitics',\n",
              "       'PublicFreakout', 'funny', 'JusticeServed', 'movies', 'travel',\n",
              "       'programming', 'technology', 'mildlyinteresting', 'biology', 'DIY',\n",
              "       'personalfinance', 'Fitness', 'worldnews', 'space',\n",
              "       'MachineLearning', 'sports', 'GetMotivated', 'Parenting', 'Art',\n",
              "       'news', 'camping', 'LifeProTips', 'scifi', 'Showerthoughts',\n",
              "       'AdviceAnimals', 'television', 'math', 'announcements'],\n",
              "      dtype=object)"
            ]
          },
          "metadata": {
            "tags": []
          },
          "execution_count": 12
        }
      ]
    },
    {
      "cell_type": "markdown",
      "metadata": {
        "id": "3CB3-cW9-Llm",
        "colab_type": "text"
      },
      "source": [
        "*Data Wrangling*"
      ]
    },
    {
      "cell_type": "code",
      "metadata": {
        "id": "aPm9lRzC_9Tu",
        "colab_type": "code",
        "colab": {
          "base_uri": "https://localhost:8080/",
          "height": 71
        },
        "outputId": "92fe8e37-e99a-4a5f-beba-9693fcff1327"
      },
      "source": [
        "import seaborn as sns\n",
        "import matplotlib.pyplot as plt"
      ],
      "execution_count": 13,
      "outputs": [
        {
          "output_type": "stream",
          "text": [
            "/usr/local/lib/python3.6/dist-packages/statsmodels/tools/_testing.py:19: FutureWarning: pandas.util.testing is deprecated. Use the functions in the public API at pandas.testing instead.\n",
            "  import pandas.util.testing as tm\n"
          ],
          "name": "stderr"
        }
      ]
    },
    {
      "cell_type": "code",
      "metadata": {
        "id": "frWf31V5-XF5",
        "colab_type": "code",
        "colab": {}
      },
      "source": [
        "def warngle(data, text_len_min=100, subreddit_num=50):\n",
        "  \"\"\"\n",
        "  data: dataframe containg the subreddits and their categories\n",
        "  text_len_min: minimum length of subreddit text required to be analyzed\n",
        "  statistical trimming:\n",
        "  subreddit_num: sampled number of subreddit posts in each category\n",
        "  \"\"\"\n",
        "  print(\"\\ndata shape: \", data.shape)\n",
        "\n",
        "  # converting the title and text columns to string type\n",
        "  data[['title', 'text']] = data[['title', 'text']].astype('str')\n",
        "  \n",
        "  # merge title and text\n",
        "  data['joint_text'] = data[['title', 'text']].agg(' '.join, axis=1)\n",
        "\n",
        "  # filter out non word and non space characters.\n",
        "  # lower case the text and remove extra spaces\n",
        "  data['joint_text'] = data['joint_text'].str.replace(\"[^\\w\\s']\",' ').str.lower().apply(lambda row: ' '.join(row.split()))\n",
        "  # print(data['text'][:10])\n",
        "\n",
        "\n",
        "  # filter out the rows with no significant subreddit text\n",
        "  data = data[[len(i)>100 for i in data['joint_text']]]\n",
        "  print(f\"\\ndata shape after text length filter: {text_len_min}:\")\n",
        "  print(data.shape)\n",
        "\n",
        "\n",
        "  # Plot the frequency of subreddit_name in the data set\n",
        "  subid_count = data['subreddit_id'].value_counts(ascending=False)\n",
        "  plt.figure(figsize=(12,5))\n",
        "  # y axis is density plot\n",
        "  sns.distplot(subid_count, kde=False, bins=len(data['subreddit_id'].value_counts()))\n",
        "  plt.title('Subreddit category histogram')\n",
        "  plt.xlabel('#of posts per subreddit category')\n",
        "  plt.ylabel('# of subreddit categories')\n",
        "\n",
        "\n",
        "  # filter out the subreddit_ids with low count of posts\n",
        "  data = data.groupby('subreddit_id').filter(\n",
        "      lambda x: (x['subreddit_id'].value_counts() > subreddit_num))\n",
        "  print(f\"\\ndata shape after dropping low counts subreddit names: {subreddit_num}\")\n",
        "  print(data.shape)\n",
        "\n",
        "\n",
        "  # Sample a fixed number of posts from each category\n",
        "  df = data.groupby('subreddit_id', as_index=False).apply(lambda x: x.sample(\n",
        "      n=subreddit_num, replace=False, random_state=1)).reset_index(level=0, drop=True)\n",
        "  print(f\"\\ndf shape after sampling {subreddit_num} posts per subreddit category\")\n",
        "  print(df.shape)\n",
        "  \n",
        "  # Number of subreddit categories to classify on\n",
        "  print(f\"\\n# of subreddit categories: {len(df['subreddit_id'].value_counts())}\")\n",
        "\n",
        "  return data, df"
      ],
      "execution_count": 49,
      "outputs": []
    },
    {
      "cell_type": "code",
      "metadata": {
        "id": "z_t-n80GHvDH",
        "colab_type": "code",
        "colab": {
          "base_uri": "https://localhost:8080/",
          "height": 571
        },
        "outputId": "56343e9f-a4b4-44ad-9a0e-55b3716007d4"
      },
      "source": [
        "data, df = warngle(data, text_len_min=100, subreddit_num=100);"
      ],
      "execution_count": 50,
      "outputs": [
        {
          "output_type": "stream",
          "text": [
            "\n",
            "data shape:  (20368, 5)\n",
            "\n",
            "data shape after text length filter: 100:\n",
            "(20368, 5)\n",
            "\n",
            "data shape after dropping low counts subreddit names: 100\n",
            "(20368, 5)\n",
            "\n",
            "df shape after sampling 100 posts per subreddit category\n",
            "(4400, 5)\n",
            "\n",
            "# of subreddit categories: 44\n"
          ],
          "name": "stdout"
        },
        {
          "output_type": "display_data",
          "data": {
            "image/png": "[encoded data removed]",
            "text/plain": [
              "<Figure size 864x360 with 1 Axes>"
            ]
          },
          "metadata": {
            "tags": [],
            "needs_background": "light"
          }
        }
      ]
    },
    {
      "cell_type": "code",
      "metadata": {
        "id": "22DRCLaQTQKr",
        "colab_type": "code",
        "colab": {
          "base_uri": "https://localhost:8080/",
          "height": 374
        },
        "outputId": "fe9f2c8c-75e1-485c-f40f-96c31ff410bf"
      },
      "source": [
        "print(df.shape)\n",
        "df.sample(n=5, axis=0)\n",
        "df.head()"
      ],
      "execution_count": 51,
      "outputs": [
        {
          "output_type": "stream",
          "text": [
            "(4400, 5)\n"
          ],
          "name": "stdout"
        },
        {
          "output_type": "execute_result",
          "data": {
            "text/html": [
              "<div>\n",
              "<style scoped>\n",
              "    .dataframe tbody tr th:only-of-type {\n",
              "        vertical-align: middle;\n",
              "    }\n",
              "\n",
              "    .dataframe tbody tr th {\n",
              "        vertical-align: top;\n",
              "    }\n",
              "\n",
              "    .dataframe thead th {\n",
              "        text-align: right;\n",
              "    }\n",
              "</style>\n",
              "<table border=\"1\" class=\"dataframe\">\n",
              "  <thead>\n",
              "    <tr style=\"text-align: right;\">\n",
              "      <th></th>\n",
              "      <th>subreddit_name</th>\n",
              "      <th>subreddit_id</th>\n",
              "      <th>title</th>\n",
              "      <th>text</th>\n",
              "      <th>joint_text</th>\n",
              "    </tr>\n",
              "  </thead>\n",
              "  <tbody>\n",
              "    <tr>\n",
              "      <th>22734</th>\n",
              "      <td>politics</td>\n",
              "      <td>2cneq</td>\n",
              "      <td>Finland's millennial prime minister said Nordi...</td>\n",
              "      <td></td>\n",
              "      <td>finland's millennial prime minister said nordi...</td>\n",
              "    </tr>\n",
              "    <tr>\n",
              "      <th>46935</th>\n",
              "      <td>politics</td>\n",
              "      <td>2cneq</td>\n",
              "      <td>RBG Immediately Went There, Asked Trump Lawyer...</td>\n",
              "      <td></td>\n",
              "      <td>rbg immediately went there asked trump lawyer ...</td>\n",
              "    </tr>\n",
              "    <tr>\n",
              "      <th>33142</th>\n",
              "      <td>politics</td>\n",
              "      <td>2cneq</td>\n",
              "      <td>Demands for Kushner to Resign Over 'Staggering...</td>\n",
              "      <td></td>\n",
              "      <td>demands for kushner to resign over 'staggering...</td>\n",
              "    </tr>\n",
              "    <tr>\n",
              "      <th>36586</th>\n",
              "      <td>politics</td>\n",
              "      <td>2cneq</td>\n",
              "      <td>Megathread: Report States Trump Repeatedly Pre...</td>\n",
              "      <td>\"President Trump in a July phone call repeated...</td>\n",
              "      <td>megathread report states trump repeatedly pres...</td>\n",
              "    </tr>\n",
              "    <tr>\n",
              "      <th>37206</th>\n",
              "      <td>politics</td>\n",
              "      <td>2cneq</td>\n",
              "      <td>The Coronavirus Is the Worst Intelligence Fail...</td>\n",
              "      <td></td>\n",
              "      <td>the coronavirus is the worst intelligence fail...</td>\n",
              "    </tr>\n",
              "  </tbody>\n",
              "</table>\n",
              "</div>"
            ],
            "text/plain": [
              "      subreddit_name  ...                                         joint_text\n",
              "22734       politics  ...  finland's millennial prime minister said nordi...\n",
              "46935       politics  ...  rbg immediately went there asked trump lawyer ...\n",
              "33142       politics  ...  demands for kushner to resign over 'staggering...\n",
              "36586       politics  ...  megathread report states trump repeatedly pres...\n",
              "37206       politics  ...  the coronavirus is the worst intelligence fail...\n",
              "\n",
              "[5 rows x 5 columns]"
            ]
          },
          "metadata": {
            "tags": []
          },
          "execution_count": 51
        }
      ]
    },
    {
      "cell_type": "code",
      "metadata": {
        "id": "-MMcDs2isr5F",
        "colab_type": "code",
        "colab": {
          "base_uri": "https://localhost:8080/",
          "height": 187
        },
        "outputId": "afb15d97-2484-40e6-ab6d-4cec01b13d99"
      },
      "source": [
        "df['subreddit_name'].unique()"
      ],
      "execution_count": 53,
      "outputs": [
        {
          "output_type": "execute_result",
          "data": {
            "text/plain": [
              "array(['politics', 'programming', 'sports', 'gaming', 'entertainment',\n",
              "       'math', 'worldnews', 'technology', 'AskReddit', 'Music', 'scifi',\n",
              "       'news', 'movies', 'travel', 'books', 'conspiracy', 'history',\n",
              "       'television', 'Design', 'DIY', 'Cooking', 'space', 'worldpolitics',\n",
              "       'Health', 'investing', 'cars', 'Documentaries', 'Parenting',\n",
              "       'biology', 'literature', 'Fitness', 'camping', 'HomeImprovement',\n",
              "       'personalfinance', 'announcements', 'socialskills',\n",
              "       'TwoXChromosomes', 'MachineLearning', 'LifeProTips',\n",
              "       'Showerthoughts', 'JusticeServed', 'Coronavirus', 'PublicFreakout',\n",
              "       'science'], dtype=object)"
            ]
          },
          "metadata": {
            "tags": []
          },
          "execution_count": 53
        }
      ]
    },
    {
      "cell_type": "markdown",
      "metadata": {
        "id": "qCIs13xSUGkw",
        "colab_type": "text"
      },
      "source": [
        "## Spacy Embedding"
      ]
    },
    {
      "cell_type": "code",
      "metadata": {
        "id": "U-q9lwQEPLIG",
        "colab_type": "code",
        "colab": {
          "base_uri": "https://localhost:8080/",
          "height": 34
        },
        "outputId": "f1508abf-436e-4879-e8bc-47232ce195a4"
      },
      "source": [
        "#Create the nlp object\n",
        "nlp = spacy.load(\"en_core_web_md\")\n",
        "# Use Spacy Embedding to vectorize df['join_text']\n",
        "X = pd.DataFrame([nlp(str(d)).vector for d in df['joint_text']])\n",
        "y = df['subreddit_name']\n",
        "X.shape,  y.shape"
      ],
      "execution_count": 54,
      "outputs": [
        {
          "output_type": "execute_result",
          "data": {
            "text/plain": [
              "((4400, 300), (4400,))"
            ]
          },
          "metadata": {
            "tags": []
          },
          "execution_count": 54
        }
      ]
    },
    {
      "cell_type": "code",
      "metadata": {
        "id": "scjeu5zioL6_",
        "colab_type": "code",
        "colab": {
          "base_uri": "https://localhost:8080/",
          "height": 34
        },
        "outputId": "9ee031ff-51f4-4ce8-a05d-7ee6a504b4c7"
      },
      "source": [
        "from sklearn.model_selection import train_test_split\n",
        "\n",
        "#split dataset into train and test data\n",
        "X_train, X_test, y_train, y_test = train_test_split(X, y, \n",
        "                                                    test_size=0.2, \n",
        "                                                    random_state=1, \n",
        "                                                    shuffle=True,\n",
        "                                                    stratify=y)\n",
        "\n",
        "X_train.shape, y_train.shape"
      ],
      "execution_count": 55,
      "outputs": [
        {
          "output_type": "execute_result",
          "data": {
            "text/plain": [
              "((3520, 300), (3520,))"
            ]
          },
          "metadata": {
            "tags": []
          },
          "execution_count": 55
        }
      ]
    },
    {
      "cell_type": "code",
      "metadata": {
        "id": "NVd2VbqEo4-s",
        "colab_type": "code",
        "colab": {
          "base_uri": "https://localhost:8080/",
          "height": 34
        },
        "outputId": "e837b79f-4a81-4801-c883-dbde7a9db343"
      },
      "source": [
        "# column and row\n",
        "X[0].shape, X.iloc[0].shape"
      ],
      "execution_count": 56,
      "outputs": [
        {
          "output_type": "execute_result",
          "data": {
            "text/plain": [
              "((4400,), (300,))"
            ]
          },
          "metadata": {
            "tags": []
          },
          "execution_count": 56
        }
      ]
    },
    {
      "cell_type": "markdown",
      "metadata": {
        "id": "2XC3Z_YtVf1W",
        "colab_type": "text"
      },
      "source": [
        "## KNeighbors Classifier"
      ]
    },
    {
      "cell_type": "code",
      "metadata": {
        "id": "7qEQxPmGpDTx",
        "colab_type": "code",
        "colab": {
          "base_uri": "https://localhost:8080/",
          "height": 68
        },
        "outputId": "671e0f4b-0ace-4e99-9e5e-73ac57527441"
      },
      "source": [
        "from sklearn.neighbors import KNeighborsClassifier\n",
        "# NearestNeighbors is the same as the classifier one but unsupervised\n",
        "knn = KNeighborsClassifier(n_neighbors = 15)\n",
        "\n",
        "# Fit the classifier to the data\n",
        "knn.fit(X_train.values, y_train.values)"
      ],
      "execution_count": 57,
      "outputs": [
        {
          "output_type": "execute_result",
          "data": {
            "text/plain": [
              "KNeighborsClassifier(algorithm='auto', leaf_size=30, metric='minkowski',\n",
              "                     metric_params=None, n_jobs=None, n_neighbors=15, p=2,\n",
              "                     weights='uniform')"
            ]
          },
          "metadata": {
            "tags": []
          },
          "execution_count": 57
        }
      ]
    },
    {
      "cell_type": "markdown",
      "metadata": {
        "id": "5QDMtHATwguM",
        "colab_type": "text"
      },
      "source": [
        "Baseline Accuracy"
      ]
    },
    {
      "cell_type": "code",
      "metadata": {
        "id": "y4qbqDTOwQW7",
        "colab_type": "code",
        "colab": {
          "base_uri": "https://localhost:8080/",
          "height": 34
        },
        "outputId": "6437df7f-9e7d-4b24-82fe-55a39172eaca"
      },
      "source": [
        "baseline = 1/ len(df['subreddit_id'].value_counts())\n",
        "baseline"
      ],
      "execution_count": 80,
      "outputs": [
        {
          "output_type": "execute_result",
          "data": {
            "text/plain": [
              "0.022727272727272728"
            ]
          },
          "metadata": {
            "tags": []
          },
          "execution_count": 80
        }
      ]
    },
    {
      "cell_type": "code",
      "metadata": {
        "id": "vZPrHSkt--0Z",
        "colab_type": "code",
        "colab": {
          "base_uri": "https://localhost:8080/",
          "height": 34
        },
        "outputId": "f7d81993-7453-4faa-8ff3-11f69765078e"
      },
      "source": [
        "knn.score(X_test.values, y_test.values)"
      ],
      "execution_count": 58,
      "outputs": [
        {
          "output_type": "execute_result",
          "data": {
            "text/plain": [
              "0.3534090909090909"
            ]
          },
          "metadata": {
            "tags": []
          },
          "execution_count": 58
        }
      ]
    },
    {
      "cell_type": "code",
      "metadata": {
        "id": "YjUc-XRIdarN",
        "colab_type": "code",
        "colab": {}
      },
      "source": [
        "def preprocess(query, nlp):\n",
        "  \"\"\"\n",
        "  Vectorizes the 'query' string by spacy pretrained model (nlp). \n",
        "  the return value serves as a query to the prediction model\n",
        "  \"\"\"\n",
        "  if not isinstance(query, str):\n",
        "    query = str(query)\n",
        "  return nlp(query).vector.reshape(1,-1)\n",
        "\n",
        "def prediction_spacy(model, input):\n",
        "  \"\"\"\n",
        "  return the nested list of predicted neighbors' indices from \n",
        "  the trained dataframe with their distance from the input\n",
        "  input: a string type text\n",
        "  \"\"\"\n",
        "  kn = model.kneighbors(input)\n",
        "  return kn\n",
        "\n",
        "def postprocess(kn, df_ser, n):\n",
        "  \"\"\"\n",
        "  takes the nested list of kneighbors output (kn) and \n",
        "  returns first n recommended subreddit names.\n",
        "  df_ser: pandas Series that has the class names and their respective indices\n",
        "  \"\"\"\n",
        "  return df_ser.iloc[kn[1][0]].drop_duplicates()[:n].reset_index(drop=True)"
      ],
      "execution_count": 60,
      "outputs": []
    },
    {
      "cell_type": "code",
      "metadata": {
        "id": "6w3hnpKe_OoM",
        "colab_type": "code",
        "colab": {
          "base_uri": "https://localhost:8080/",
          "height": 258
        },
        "outputId": "c680db36-5331-49fe-d0cc-608b6f039e1a"
      },
      "source": [
        "query = df['joint_text'].iloc[10]\n",
        "category = df['subreddit_name'].iloc[10]\n",
        "\n",
        "print(\"category: {}\".format(category))\n",
        "print(query,\"\\n\")\n",
        "\n",
        "input = preprocess(query, nlp)\n",
        "kn = prediction_spacy(knn, input)\n",
        "pred = postprocess(kn, df['subreddit_name'], 10)\n",
        "pred"
      ],
      "execution_count": 81,
      "outputs": [
        {
          "output_type": "stream",
          "text": [
            "category: politics\n",
            "swalwell calls for creation of presidential crimes commission to investigate trump when he leaves office \n",
            "\n"
          ],
          "name": "stdout"
        },
        {
          "output_type": "execute_result",
          "data": {
            "text/plain": [
              "0           Health\n",
              "1            space\n",
              "2    entertainment\n",
              "3    Documentaries\n",
              "4             cars\n",
              "5             math\n",
              "6       technology\n",
              "7         politics\n",
              "8              DIY\n",
              "Name: subreddit_name, dtype: object"
            ]
          },
          "metadata": {
            "tags": []
          },
          "execution_count": 81
        }
      ]
    },
    {
      "cell_type": "code",
      "metadata": {
        "id": "p48KfbNd_zNs",
        "colab_type": "code",
        "colab": {
          "base_uri": "https://localhost:8080/",
          "height": 289
        },
        "outputId": "bb308fca-5b2c-4f3a-bb45-7dd2667dc4c2"
      },
      "source": [
        "df['joint_text'].iloc[kn[1][0]]"
      ],
      "execution_count": 82,
      "outputs": [
        {
          "output_type": "execute_result",
          "data": {
            "text/plain": [
              "16233    the first coronavirus case in the u s and sout...\n",
              "22977    i spent almost a year of learning and saving f...\n",
              "10958    harvard researchers are advising millions of p...\n",
              "24535    right wing fans mocked for boycotting rage aga...\n",
              "19661    the nightmare of tpp ttip tisa explained 2016 ...\n",
              "32434    twelve days of pre recession gm christmas the ...\n",
              "48945    what are some math facts concepts and theorems...\n",
              "40771    a new law in colorado capping the price of ins...\n",
              "24015    nick cannon comes to kevin hart s defense by p...\n",
              "25119    comcast's xfinity mobile is now throttling res...\n",
              "41574    trump just removed the ig investigating elaine...\n",
              "39522    a landscape architect redditor did an ama 6 mo...\n",
              "10345    housework could keep brain young even light ac...\n",
              "44191    trump s disinfectant idea is more than a silly...\n",
              "21847    i modified my wife's car to play toto's africa...\n",
              "Name: joint_text, dtype: object"
            ]
          },
          "metadata": {
            "tags": []
          },
          "execution_count": 82
        }
      ]
    },
    {
      "cell_type": "code",
      "metadata": {
        "id": "NeFU719Y_zUz",
        "colab_type": "code",
        "colab": {
          "base_uri": "https://localhost:8080/",
          "height": 204
        },
        "outputId": "6ab8b80a-5d57-4307-86ec-401deda111b7"
      },
      "source": [
        "user_input = \"\"\"Does this seem too advanced for first month of kindergarten?\n",
        "Usually my husband is sitting with my son (working from home, but present) \n",
        "during my son's Zoom class but yesterday I did. I was really surprised by \n",
        "what the teacher was asking of the kids. My son's teacher wanted the students \n",
        "to write stories live during the zoom meeting. She expected them to write full \n",
        "sentences with words like \"suddenly.\" She told them if they can't spell the \n",
        "words to \"sound it out.\" She kept reminding them to use connecting words to \n",
        "transition between topics. The example story she wrote was about 5-6 sentences. \n",
        "It was about going to the playground and waiting for her turn on the swings. \n",
        "I was pretty surprised because the kids are still learning the alphabet. \n",
        "how would they be able to write sentences for before learning letters? Before we \n",
        "started school, the principal specifically told families at an info night, \n",
        "\"Don't worry if your kid doesn't know the alphabet, we'll reach them!\" \n",
        "So I don't think the teacher has expectations that the kids could already write.\"\"\"\n",
        "\n",
        "input = preprocess(user_input, nlp)\n",
        "kn = prediction_spacy(knn, input)\n",
        "pred = postprocess(kn, df['subreddit_name'], 10)\n",
        "pred"
      ],
      "execution_count": 83,
      "outputs": [
        {
          "output_type": "execute_result",
          "data": {
            "text/plain": [
              "0         books\n",
              "1          cars\n",
              "2         space\n",
              "3    conspiracy\n",
              "4        gaming\n",
              "5     Parenting\n",
              "6       Cooking\n",
              "7    literature\n",
              "8      politics\n",
              "9        Design\n",
              "Name: subreddit_name, dtype: object"
            ]
          },
          "metadata": {
            "tags": []
          },
          "execution_count": 83
        }
      ]
    },
    {
      "cell_type": "code",
      "metadata": {
        "id": "rtbvh4jC_zRY",
        "colab_type": "code",
        "colab": {
          "base_uri": "https://localhost:8080/",
          "height": 119
        },
        "outputId": "7ff36e99-3fcc-4ee6-d72d-fbc69694d092"
      },
      "source": [
        "df['joint_text'].iloc[kn[1][0][:5]]"
      ],
      "execution_count": 84,
      "outputs": [
        {
          "output_type": "execute_result",
          "data": {
            "text/plain": [
              "27911    anyone else sick of the current style of fanta...\n",
              "41027    some pics from my sixth year of daily driving ...\n",
              "14550    with just 11 minutes of data from my basic set...\n",
              "10665    julian assange makes it clear on dutch news th...\n",
              "33362    my grandparents hardcore pokemon go players he...\n",
              "Name: joint_text, dtype: object"
            ]
          },
          "metadata": {
            "tags": []
          },
          "execution_count": 84
        }
      ]
    },
    {
      "cell_type": "markdown",
      "metadata": {
        "id": "7E_3f5XdgTdR",
        "colab_type": "text"
      },
      "source": [
        "## Model Serialization"
      ]
    },
    {
      "cell_type": "code",
      "metadata": {
        "id": "PdFTtvgLAFL0",
        "colab_type": "code",
        "colab": {}
      },
      "source": [
        "import pickle\n",
        "# pickle knn model\n",
        "knnPickle = open('knnpickle', 'wb') \n",
        "pickle.dump(knn, knnPickle)   \n",
        "\n",
        "# pickle the dataframe\n",
        "df['subreddit_name'].to_pickle(\"./namedf.pkl\")\n",
        "\n",
        "# nlp pickle\n",
        "nlpPickle = open('nlppickle', 'wb') \n",
        "pickle.dump(nlp, nlpPickle) "
      ],
      "execution_count": 85,
      "outputs": []
    },
    {
      "cell_type": "code",
      "metadata": {
        "id": "3jFLfxKhAFby",
        "colab_type": "code",
        "colab": {}
      },
      "source": [
        "loaded_model = pickle.load(open('knnpickle', 'rb'))\n",
        "loaded_nlp = pickle.load(open('nlppickle', 'rb'))\n",
        "loaded_df = pd.read_pickle(\"./namedf.pkl\")"
      ],
      "execution_count": 87,
      "outputs": []
    },
    {
      "cell_type": "code",
      "metadata": {
        "id": "g2s3nLlIidPq",
        "colab_type": "code",
        "colab": {
          "base_uri": "https://localhost:8080/",
          "height": 204
        },
        "outputId": "637492a3-f4d8-479a-815a-d0c67b6a0c3c"
      },
      "source": [
        "input = preprocess(user_input, loaded_nlp)\n",
        "kn = prediction_spacy(loaded_model, input)\n",
        "pred = postprocess(kn, loaded_df, 10)\n",
        "pred"
      ],
      "execution_count": 88,
      "outputs": [
        {
          "output_type": "execute_result",
          "data": {
            "text/plain": [
              "0         books\n",
              "1          cars\n",
              "2         space\n",
              "3    conspiracy\n",
              "4        gaming\n",
              "5     Parenting\n",
              "6       Cooking\n",
              "7    literature\n",
              "8      politics\n",
              "9        Design\n",
              "Name: subreddit_name, dtype: object"
            ]
          },
          "metadata": {
            "tags": []
          },
          "execution_count": 88
        }
      ]
    },
    {
      "cell_type": "markdown",
      "metadata": {
        "id": "Uj5pQh7q6_k-",
        "colab_type": "text"
      },
      "source": [
        "## Latent Semantic Indexing (LSI)"
      ]
    },
    {
      "cell_type": "code",
      "metadata": {
        "id": "fmN2_Bo17K-D",
        "colab_type": "code",
        "colab": {}
      },
      "source": [
        "from sklearn.feature_extraction.text import TfidfVectorizer\n",
        "from sklearn.pipeline import Pipeline\n",
        "from sklearn.ensemble import RandomForestClassifier\n",
        "from sklearn.model_selection import GridSearchCV\n",
        "from sklearn.decomposition import TruncatedSVD"
      ],
      "execution_count": 89,
      "outputs": []
    },
    {
      "cell_type": "code",
      "metadata": {
        "id": "y-LKphwU7XBs",
        "colab_type": "code",
        "colab": {}
      },
      "source": [
        "# Create Pipeline Components\n",
        "\n",
        "vect = TfidfVectorizer( stop_words='english', \n",
        "                       ngram_range=(1,2),\n",
        "                       lowercase=True,\n",
        "                       max_df=0.9,\n",
        "                       min_df=1,\n",
        "                       max_features=None)\n",
        "\n",
        "svd = TruncatedSVD(n_components=100, # Just here for demo. \n",
        "                   algorithm='randomized',\n",
        "                   n_iter=10, random_state=1)\n",
        "\n",
        "rfc = RandomForestClassifier()"
      ],
      "execution_count": 90,
      "outputs": []
    },
    {
      "cell_type": "code",
      "metadata": {
        "id": "Iu49nwdT7ofb",
        "colab_type": "code",
        "colab": {}
      },
      "source": [
        "lsi = Pipeline([('vect', vect), ('svd', svd)])\n",
        "pipe = Pipeline([('lsi', lsi), ('clf', rfc)])"
      ],
      "execution_count": 91,
      "outputs": []
    },
    {
      "cell_type": "code",
      "metadata": {
        "id": "WpxzqSGm7Yrb",
        "colab_type": "code",
        "colab": {}
      },
      "source": [
        "parameters = {\n",
        "    'lsi__vect__max_df': ( 0.75, 1.0),\n",
        "    'lsi__vect__min_df': (.02, .05),\n",
        "    'lsi__vect__max_features': (500, 2000, 5000),\n",
        "    'lsi__svd__n_components': [50, 250, 500],\n",
        "    'clf__n_estimators':(5, 10),\n",
        "    'clf__max_depth':(8, 15, 20)\n",
        "}\n",
        "\n",
        "est = GridSearchCV(pipe,parameters, cv=3, n_jobs=7, verbose=1)"
      ],
      "execution_count": 92,
      "outputs": []
    },
    {
      "cell_type": "code",
      "metadata": {
        "id": "aqH6LrjflnW5",
        "colab_type": "code",
        "colab": {
          "base_uri": "https://localhost:8080/",
          "height": 666
        },
        "outputId": "e1f6c8d0-a0da-4f78-d70b-6196da7dcbd9"
      },
      "source": [
        "est.fit(df['joint_text'], y)"
      ],
      "execution_count": 93,
      "outputs": [
        {
          "output_type": "stream",
          "text": [
            "Fitting 3 folds for each of 216 candidates, totalling 648 fits\n"
          ],
          "name": "stdout"
        },
        {
          "output_type": "stream",
          "text": [
            "[Parallel(n_jobs=7)]: Using backend LokyBackend with 7 concurrent workers.\n",
            "[Parallel(n_jobs=7)]: Done  36 tasks      | elapsed:   55.8s\n",
            "[Parallel(n_jobs=7)]: Done 186 tasks      | elapsed:  4.1min\n",
            "[Parallel(n_jobs=7)]: Done 436 tasks      | elapsed:  9.4min\n",
            "[Parallel(n_jobs=7)]: Done 648 out of 648 | elapsed: 13.9min finished\n"
          ],
          "name": "stderr"
        },
        {
          "output_type": "execute_result",
          "data": {
            "text/plain": [
              "GridSearchCV(cv=3, error_score=nan,\n",
              "             estimator=Pipeline(memory=None,\n",
              "                                steps=[('lsi',\n",
              "                                        Pipeline(memory=None,\n",
              "                                                 steps=[('vect',\n",
              "                                                         TfidfVectorizer(analyzer='word',\n",
              "                                                                         binary=False,\n",
              "                                                                         decode_error='strict',\n",
              "                                                                         dtype=<class 'numpy.float64'>,\n",
              "                                                                         encoding='utf-8',\n",
              "                                                                         input='content',\n",
              "                                                                         lowercase=True,\n",
              "                                                                         max_df=0.9,\n",
              "                                                                         max_features=None,\n",
              "                                                                         min_df=1,\n",
              "                                                                         ngram_range=(1,\n",
              "                                                                                      2),\n",
              "                                                                         norm='l2',\n",
              "                                                                         preprocessor=None,\n",
              "                                                                         smooth_...\n",
              "                                                               warm_start=False))],\n",
              "                                verbose=False),\n",
              "             iid='deprecated', n_jobs=7,\n",
              "             param_grid={'clf__max_depth': (8, 15, 20),\n",
              "                         'clf__n_estimators': (5, 10),\n",
              "                         'lsi__svd__n_components': [50, 250, 500],\n",
              "                         'lsi__vect__max_df': (0.75, 1.0),\n",
              "                         'lsi__vect__max_features': (500, 2000, 5000),\n",
              "                         'lsi__vect__min_df': (0.02, 0.05)},\n",
              "             pre_dispatch='2*n_jobs', refit=True, return_train_score=False,\n",
              "             scoring=None, verbose=1)"
            ]
          },
          "metadata": {
            "tags": []
          },
          "execution_count": 93
        }
      ]
    },
    {
      "cell_type": "code",
      "metadata": {
        "id": "cBxgChVy7ikP",
        "colab_type": "code",
        "colab": {
          "base_uri": "https://localhost:8080/",
          "height": 34
        },
        "outputId": "bb9842ae-f02f-4471-d597-b9308207dd2d"
      },
      "source": [
        "# The accuracy is less that spacy vectorizer\n",
        "est.best_score_"
      ],
      "execution_count": 94,
      "outputs": [
        {
          "output_type": "execute_result",
          "data": {
            "text/plain": [
              "0.19386468968822354"
            ]
          },
          "metadata": {
            "tags": []
          },
          "execution_count": 94
        }
      ]
    },
    {
      "cell_type": "code",
      "metadata": {
        "id": "WeNVeLKs7lNQ",
        "colab_type": "code",
        "colab": {
          "base_uri": "https://localhost:8080/",
          "height": 34
        },
        "outputId": "9b6fba71-8988-4d7e-8684-a9aa5f6b524c"
      },
      "source": [
        "est.predict([user_input])"
      ],
      "execution_count": 95,
      "outputs": [
        {
          "output_type": "execute_result",
          "data": {
            "text/plain": [
              "array(['socialskills'], dtype=object)"
            ]
          },
          "metadata": {
            "tags": []
          },
          "execution_count": 95
        }
      ]
    },
    {
      "cell_type": "code",
      "metadata": {
        "id": "rnCco6Xak6JI",
        "colab_type": "code",
        "colab": {
          "base_uri": "https://localhost:8080/",
          "height": 510
        },
        "outputId": "d58d57ca-982f-422d-f541-9dcd010ab179"
      },
      "source": [
        "est.best_estimator_"
      ],
      "execution_count": 96,
      "outputs": [
        {
          "output_type": "execute_result",
          "data": {
            "text/plain": [
              "Pipeline(memory=None,\n",
              "         steps=[('lsi',\n",
              "                 Pipeline(memory=None,\n",
              "                          steps=[('vect',\n",
              "                                  TfidfVectorizer(analyzer='word', binary=False,\n",
              "                                                  decode_error='strict',\n",
              "                                                  dtype=<class 'numpy.float64'>,\n",
              "                                                  encoding='utf-8',\n",
              "                                                  input='content',\n",
              "                                                  lowercase=True, max_df=0.75,\n",
              "                                                  max_features=5000,\n",
              "                                                  min_df=0.02,\n",
              "                                                  ngram_range=(1, 2), norm='l2',\n",
              "                                                  preprocessor=None,\n",
              "                                                  smooth_idf=True,\n",
              "                                                  stop_words='english',\n",
              "                                                  strip_acce...\n",
              "                 RandomForestClassifier(bootstrap=True, ccp_alpha=0.0,\n",
              "                                        class_weight=None, criterion='gini',\n",
              "                                        max_depth=15, max_features='auto',\n",
              "                                        max_leaf_nodes=None, max_samples=None,\n",
              "                                        min_impurity_decrease=0.0,\n",
              "                                        min_impurity_split=None,\n",
              "                                        min_samples_leaf=1, min_samples_split=2,\n",
              "                                        min_weight_fraction_leaf=0.0,\n",
              "                                        n_estimators=10, n_jobs=None,\n",
              "                                        oob_score=False, random_state=None,\n",
              "                                        verbose=0, warm_start=False))],\n",
              "         verbose=False)"
            ]
          },
          "metadata": {
            "tags": []
          },
          "execution_count": 96
        }
      ]
    },
    {
      "cell_type": "code",
      "metadata": {
        "id": "8uDrulG8V6vC",
        "colab_type": "code",
        "colab": {}
      },
      "source": [
        "def prediction_est(model, input, n):\n",
        "  \"\"\"\n",
        "  input: text string or list as input\n",
        "  model: grid search trained model\n",
        "  returns a pandas series containing the the recommended subreddit names\n",
        "  \"\"\"\n",
        "  if isinstance(input, str):\n",
        "    input = [input]\n",
        "  # probability of each class\n",
        "  proba = model.predict_proba(input)\n",
        "\n",
        "  # index of the highest probable classes in descending order\n",
        "  index_proba = [i[0] for i in sorted(enumerate(proba[0]), key=lambda x:x[1])][::-1]\n",
        "  # Alternative way\n",
        "  # idx_max = proba[0].argsort()[::-1]\n",
        "\n",
        "  # get the most probable class names\n",
        "  return pd.Series(model.classes_[index_proba][:n])"
      ],
      "execution_count": 98,
      "outputs": []
    },
    {
      "cell_type": "code",
      "metadata": {
        "id": "l8gcAugnbny3",
        "colab_type": "code",
        "colab": {
          "base_uri": "https://localhost:8080/",
          "height": 204
        },
        "outputId": "ae3f85ce-5334-41c2-b04e-5371124247fe"
      },
      "source": [
        "prediction_est(est, user_input, n=10)"
      ],
      "execution_count": 100,
      "outputs": [
        {
          "output_type": "execute_result",
          "data": {
            "text/plain": [
              "0       socialskills\n",
              "1          Parenting\n",
              "2              books\n",
              "3    TwoXChromosomes\n",
              "4            Fitness\n",
              "5            history\n",
              "6            biology\n",
              "7            Cooking\n",
              "8               math\n",
              "9         conspiracy\n",
              "dtype: object"
            ]
          },
          "metadata": {
            "tags": []
          },
          "execution_count": 100
        }
      ]
    },
    {
      "cell_type": "code",
      "metadata": {
        "id": "KdzT3lK9VELS",
        "colab_type": "code",
        "colab": {}
      },
      "source": [
        "# pickle grid search model with rfc+lsi\n",
        "rfclsi = open('rfclsi_pickle', 'wb') \n",
        "pickle.dump(est, rfclsi)   "
      ],
      "execution_count": 101,
      "outputs": []
    },
    {
      "cell_type": "code",
      "metadata": {
        "id": "DVsnvafXfNxU",
        "colab_type": "code",
        "colab": {}
      },
      "source": [
        "loaded_model = pickle.load(open('rfclsi_pickle', 'rb'))"
      ],
      "execution_count": 102,
      "outputs": []
    },
    {
      "cell_type": "code",
      "metadata": {
        "id": "HeYf1alDfh4b",
        "colab_type": "code",
        "colab": {
          "base_uri": "https://localhost:8080/",
          "height": 204
        },
        "outputId": "71b96443-ead5-4e38-f57a-9f01312b8eb5"
      },
      "source": [
        "prediction_est(loaded_model, user_input, n=10)"
      ],
      "execution_count": 103,
      "outputs": [
        {
          "output_type": "execute_result",
          "data": {
            "text/plain": [
              "0       socialskills\n",
              "1          Parenting\n",
              "2              books\n",
              "3    TwoXChromosomes\n",
              "4            Fitness\n",
              "5            history\n",
              "6            biology\n",
              "7            Cooking\n",
              "8               math\n",
              "9         conspiracy\n",
              "dtype: object"
            ]
          },
          "metadata": {
            "tags": []
          },
          "execution_count": 103
        }
      ]
    },
    {
      "cell_type": "markdown",
      "metadata": {
        "id": "QTzFpHUbn_6u",
        "colab_type": "text"
      },
      "source": [
        "### Gradient Boost Classifier:"
      ]
    },
    {
      "cell_type": "code",
      "metadata": {
        "id": "kbQYwYhgoVuH",
        "colab_type": "code",
        "colab": {}
      },
      "source": [
        "from sklearn.model_selection import RandomizedSearchCV\n",
        "from sklearn.ensemble import GradientBoostingClassifier\n",
        "import numpy as np\n",
        "from scipy.stats import randint\n",
        "from sklearn.preprocessing import FunctionTransformer"
      ],
      "execution_count": 104,
      "outputs": []
    },
    {
      "cell_type": "code",
      "metadata": {
        "id": "QaT46UXopBuS",
        "colab_type": "code",
        "colab": {}
      },
      "source": [
        "import spacy\n",
        "nlp = spacy.load(\"en_core_web_md\")"
      ],
      "execution_count": 105,
      "outputs": []
    },
    {
      "cell_type": "markdown",
      "metadata": {
        "id": "DIQw12QLp3cX",
        "colab_type": "text"
      },
      "source": [
        "* Spacy vectorizer"
      ]
    },
    {
      "cell_type": "code",
      "metadata": {
        "id": "kPdfAkQOpGTW",
        "colab_type": "code",
        "colab": {}
      },
      "source": [
        "# def get_word_vectors(docs):\n",
        "#     return np.array([nlp(doc).vector for doc in docs])"
      ],
      "execution_count": null,
      "outputs": []
    },
    {
      "cell_type": "code",
      "metadata": {
        "id": "3hGkkTQUpkyp",
        "colab_type": "code",
        "colab": {}
      },
      "source": [
        "# Instantiate the spacy vectorizer\n",
        "# embed = FunctionTransformer(get_word_vectors)"
      ],
      "execution_count": null,
      "outputs": []
    },
    {
      "cell_type": "code",
      "metadata": {
        "id": "5G4lYMyIoDVR",
        "colab_type": "code",
        "colab": {}
      },
      "source": [
        "# GradientBoostingClassifier\n",
        "gbc = GradientBoostingClassifier(loss='deviance', learning_rate=0.1, n_estimators=100, \n",
        "                               subsample=1.0, criterion='friedman_mse', min_samples_split=2, \n",
        "                               min_samples_leaf=1, min_weight_fraction_leaf=0.0, \n",
        "                               max_depth=3, min_impurity_decrease=0.0, min_impurity_split=None, \n",
        "                               init=None, random_state=None, max_features=None, verbose=0, \n",
        "                               max_leaf_nodes=None, warm_start=False, presort='deprecated', \n",
        "                               validation_fraction=0.1, n_iter_no_change=None, tol=0.0001, ccp_alpha=0.0)\n"
      ],
      "execution_count": 106,
      "outputs": []
    },
    {
      "cell_type": "code",
      "metadata": {
        "id": "0GaWJxoSpopp",
        "colab_type": "code",
        "colab": {}
      },
      "source": [
        "# spacy embedding is taken out of the pipeline to save time\n",
        "pipe = Pipeline([\n",
        "#     ('emb', embed), \n",
        "    ('clf', gbc)\n",
        "    ])"
      ],
      "execution_count": 107,
      "outputs": []
    },
    {
      "cell_type": "code",
      "metadata": {
        "id": "JyXeXPcnqDiY",
        "colab_type": "code",
        "colab": {}
      },
      "source": [
        "# Gradient Boost Classifier\n",
        "gbc_par_names = [\"max_features\", \"max_depth\", \"min_samples_split\", \"min_samples_leaf\"]\n",
        "\n",
        "max_features_gbc = np.logspace(2, 4, num=5, endpoint=False, base=10).astype(int)\n",
        "max_depth_gbc = range(4,16,4)\n",
        "min_samples_split_gbc = np.linspace(2, 20, 10, endpoint=True).astype(int)\n",
        "min_samples_leaf_gbc = np.linspace(2, 20, 10, endpoint=True).astype(int)\n",
        "criterion_gbc = [\"gini\", \"entropy\"]\n",
        "gbc_param_ranges = [max_features_gbc, max_depth_gbc, min_samples_split_gbc, min_samples_leaf_gbc]\n",
        "\n",
        "param_dist = {\n",
        "    'clf__max_features': max_features_gbc, \n",
        "    'clf__max_depth': max_depth_gbc, \n",
        "    'clf__min_samples_split': min_samples_split_gbc, \n",
        "    'clf__min_samples_leaf': min_samples_leaf_gbc\n",
        "    }"
      ],
      "execution_count": 120,
      "outputs": []
    },
    {
      "cell_type": "code",
      "metadata": {
        "id": "XEaekUAyqWmZ",
        "colab_type": "code",
        "colab": {}
      },
      "source": [
        "est = RandomizedSearchCV(pipe, param_distributions=param_dist, n_iter=2, cv=2, verbose=1, n_jobs=-1)"
      ],
      "execution_count": 121,
      "outputs": []
    },
    {
      "cell_type": "code",
      "metadata": {
        "id": "iYmfrhgnqme-",
        "colab_type": "code",
        "colab": {
          "base_uri": "https://localhost:8080/",
          "height": 479
        },
        "outputId": "105e58d3-dae0-4b17-c559-c096fea4d5f6"
      },
      "source": [
        "est.fit(X, y)"
      ],
      "execution_count": 122,
      "outputs": [
        {
          "output_type": "stream",
          "text": [
            "Fitting 2 folds for each of 2 candidates, totalling 4 fits\n"
          ],
          "name": "stdout"
        },
        {
          "output_type": "stream",
          "text": [
            "[Parallel(n_jobs=-1)]: Using backend LokyBackend with 2 concurrent workers.\n",
            "[Parallel(n_jobs=-1)]: Done   4 out of   4 | elapsed: 41.2min finished\n"
          ],
          "name": "stderr"
        },
        {
          "output_type": "execute_result",
          "data": {
            "text/plain": [
              "RandomizedSearchCV(cv=2, error_score=nan,\n",
              "                   estimator=Pipeline(memory=None,\n",
              "                                      steps=[('clf',\n",
              "                                              GradientBoostingClassifier(ccp_alpha=0.0,\n",
              "                                                                         criterion='friedman_mse',\n",
              "                                                                         init=None,\n",
              "                                                                         learning_rate=0.1,\n",
              "                                                                         loss='deviance',\n",
              "                                                                         max_depth=3,\n",
              "                                                                         max_features=None,\n",
              "                                                                         max_leaf_nodes=None,\n",
              "                                                                         min_impurity_decrease=0.0,\n",
              "                                                                         min_impurity_split=None,\n",
              "                                                                         min_samples_leaf=1,\n",
              "                                                                         min_samples_split=2,\n",
              "                                                                         min_weight_fract...\n",
              "                   iid='deprecated', n_iter=2, n_jobs=-1,\n",
              "                   param_distributions={'clf__max_depth': range(4, 16, 4),\n",
              "                                        'clf__max_features': array([ 100,  251,  630, 1584, 3981]),\n",
              "                                        'clf__min_samples_leaf': array([ 2,  4,  6,  8, 10, 12, 14, 16, 18, 20]),\n",
              "                                        'clf__min_samples_split': array([ 2,  4,  6,  8, 10, 12, 14, 16, 18, 20])},\n",
              "                   pre_dispatch='2*n_jobs', random_state=None, refit=True,\n",
              "                   return_train_score=False, scoring=None, verbose=1)"
            ]
          },
          "metadata": {
            "tags": []
          },
          "execution_count": 122
        }
      ]
    },
    {
      "cell_type": "code",
      "metadata": {
        "id": "woUxwDEQsUgG",
        "colab_type": "code",
        "colab": {
          "base_uri": "https://localhost:8080/",
          "height": 357
        },
        "outputId": "734f404f-831e-431b-bd23-bfec08ee2acf"
      },
      "source": [
        "print(est.best_score_)\n",
        "est.best_estimator_"
      ],
      "execution_count": 124,
      "outputs": [
        {
          "output_type": "stream",
          "text": [
            "0.46636363636363637\n"
          ],
          "name": "stdout"
        },
        {
          "output_type": "execute_result",
          "data": {
            "text/plain": [
              "Pipeline(memory=None,\n",
              "         steps=[('clf',\n",
              "                 GradientBoostingClassifier(ccp_alpha=0.0,\n",
              "                                            criterion='friedman_mse', init=None,\n",
              "                                            learning_rate=0.1, loss='deviance',\n",
              "                                            max_depth=4, max_features=251,\n",
              "                                            max_leaf_nodes=None,\n",
              "                                            min_impurity_decrease=0.0,\n",
              "                                            min_impurity_split=None,\n",
              "                                            min_samples_leaf=18,\n",
              "                                            min_samples_split=6,\n",
              "                                            min_weight_fraction_leaf=0.0,\n",
              "                                            n_estimators=100,\n",
              "                                            n_iter_no_change=None,\n",
              "                                            presort='deprecated',\n",
              "                                            random_state=None, subsample=1.0,\n",
              "                                            tol=0.0001, validation_fraction=0.1,\n",
              "                                            verbose=0, warm_start=False))],\n",
              "         verbose=False)"
            ]
          },
          "metadata": {
            "tags": []
          },
          "execution_count": 124
        }
      ]
    },
    {
      "cell_type": "code",
      "metadata": {
        "colab_type": "code",
        "id": "SE-BL2K-smjT",
        "colab": {}
      },
      "source": [
        "# pickle randomized searchCV model with gbc+nlp\n",
        "gbnlp = open('gbnlp_pickle', 'wb') \n",
        "pickle.dump(est, gbnlp)   "
      ],
      "execution_count": 125,
      "outputs": []
    },
    {
      "cell_type": "code",
      "metadata": {
        "id": "Z9iEcPcPvLP1",
        "colab_type": "code",
        "colab": {}
      },
      "source": [
        "loaded_model = pickle.load(open('gbnlp_pickle', 'rb'))"
      ],
      "execution_count": 126,
      "outputs": []
    },
    {
      "cell_type": "code",
      "metadata": {
        "id": "6adYURgewnhG",
        "colab_type": "code",
        "colab": {
          "base_uri": "https://localhost:8080/",
          "height": 34
        },
        "outputId": "dc001d87-f790-43aa-be6a-0688545e1855"
      },
      "source": [
        "input = preprocess(user_input, loaded_nlp)\n",
        "input.shape"
      ],
      "execution_count": 127,
      "outputs": [
        {
          "output_type": "execute_result",
          "data": {
            "text/plain": [
              "(1, 300)"
            ]
          },
          "metadata": {
            "tags": []
          },
          "execution_count": 127
        }
      ]
    },
    {
      "cell_type": "code",
      "metadata": {
        "id": "fRVnQA9Vww-u",
        "colab_type": "code",
        "colab": {
          "base_uri": "https://localhost:8080/",
          "height": 34
        },
        "outputId": "38ac592c-4ee6-4776-84b2-fe74918f252c"
      },
      "source": [
        "X.shape"
      ],
      "execution_count": 128,
      "outputs": [
        {
          "output_type": "execute_result",
          "data": {
            "text/plain": [
              "(4400, 300)"
            ]
          },
          "metadata": {
            "tags": []
          },
          "execution_count": 128
        }
      ]
    },
    {
      "cell_type": "code",
      "metadata": {
        "colab_type": "code",
        "id": "DV6qbXX1smjW",
        "colab": {
          "base_uri": "https://localhost:8080/",
          "height": 204
        },
        "outputId": "3da5b22c-a15f-4242-8f39-804cfea7c36e"
      },
      "source": [
        "input = preprocess(user_input, loaded_nlp)\n",
        "pred = prediction_est(loaded_model, input, n=10)\n",
        "pred"
      ],
      "execution_count": 130,
      "outputs": [
        {
          "output_type": "execute_result",
          "data": {
            "text/plain": [
              "0          Parenting\n",
              "1              books\n",
              "2               math\n",
              "3         television\n",
              "4             movies\n",
              "5     Showerthoughts\n",
              "6               news\n",
              "7    TwoXChromosomes\n",
              "8              Music\n",
              "9         conspiracy\n",
              "dtype: object"
            ]
          },
          "metadata": {
            "tags": []
          },
          "execution_count": 130
        }
      ]
    },
    {
      "cell_type": "code",
      "metadata": {
        "id": "WKX2yIuavWeD",
        "colab_type": "code",
        "colab": {}
      },
      "source": [
        ""
      ],
      "execution_count": null,
      "outputs": []
    },
    {
      "cell_type": "code",
      "metadata": {
        "id": "OLWc49bAvWiD",
        "colab_type": "code",
        "colab": {}
      },
      "source": [
        ""
      ],
      "execution_count": null,
      "outputs": []
    }
  ]
}