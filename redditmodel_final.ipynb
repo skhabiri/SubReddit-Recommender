{
 "cells": [
  {
   "cell_type": "markdown",
   "metadata": {},
   "source": [
    "# Hash\n",
    "A hash is an fixed sized integer that identifies a particular value. Each value needs to have its own hash, so for the same value you will get the same hash even if it's not the same object. Furthermore hash of an integer is the same integer.\n",
    "hash() is used for comparing objects. An object is deemed hashable if it can be compared to other objects. hash() is also used to access dict and set elements which are implemented as resizable hash tables in CPython.\n",
    "Technically speaking:\n",
    "* Usually comparing objects (which may involve several levels of recursion) is expensive.\n",
    "* preferably, the hash() function is an order of magnitude (or several) less expensive.\n",
    "* comparing two hashes is easier than comparing two objects, this is where the shortcut is.\n",
    "* The python dict is a hashmap, its worst case is therefore O(n) if we have hash collision. However that is a very rare case where every item added has the same hash and so is added to the same chain. Hence, the average time complexity is still O(1). check [Time Complexity](http://wiki.python.org/moin/TimeComplexity) for more.\n",
    "* An object is hashable if [1] it has a hash value which never changes during its lifetime (it needs a __hash__() method), and can be compared to other objects (it needs an __eq__() method). [2] Hashable objects which compare equal must have the same hash value.\n",
    "\n",
    "```\n",
    ">>> hash(\"Look at me!\")\n",
    "4343814758193556824\n",
    ">>> f = \"Look at me!\"\n",
    ">>> hash(f)\n",
    "4343814758193556824\n",
    "```\n",
    "Hash values need to be created in such a way that the resulting values are evenly distributed to reduce the number of hash collisions you get. Hash collisions are when two different values have the same hash. Therefore, relatively small changes often result in very different hashes.\n",
    "```\n",
    ">>> hash(\"Look at me!!\")\n",
    "6941904779894686356\n",
    "```\n",
    "These numbers are very useful, as they enable quick look-up of values in a large collection of values. Two examples of their use are Python's `set` and `dict`. In a `list`, if you want to check if a value is in the list, with `if x in values:`, Python needs to go through the whole list and compare `x` with each value in the list values. This can take a long time for a long list. In a set, Python keeps track of each hash, and when you type `if x in values:`, Python will get the hash-value for `x`, look that up in an internal structure and then only compare `x` with the values that have the same hash as `x`.\n",
    "\n",
    "The same methodology is used for dictionary lookup. **This makes lookup in set and dict very fast, while lookup in list is slow. It also means you can have non-hashable objects in a list, but not in a set or as keys in a dict.** The typical example of non-hashable objects is any object that is **mutable**, meaning that you can change its value. If you have a mutable object it should not be hashable, as its hash then will change over its life-time, which would cause a lot of confusion, as an object could end up under the wrong hash value in a dictionary.\n",
    "\n",
    "Note that the hash of a value only needs to be the same for one run of Python. In Python 3.3 they will in fact change for every new run of Python:\n",
    "```\n",
    "$ /opt/python33/bin/python3\n",
    "Python 3.3.2 (default, Jun 17 2013, 17:49:21) \n",
    "[GCC 4.6.3] on linux\n",
    "Type \"help\", \"copyright\", \"credits\" or \"license\" for more information.\n",
    ">>> hash(\"foo\")\n",
    "1849024199686380661\n",
    ">>> \n",
    "$ /opt/python33/bin/python3\n",
    "Python 3.3.2 (default, Jun 17 2013, 17:49:21) \n",
    "[GCC 4.6.3] on linux\n",
    "Type \"help\", \"copyright\", \"credits\" or \"license\" for more information.\n",
    ">>> hash(\"foo\")\n",
    "-7416743951976404299\n",
    "```\n",
    "This is to make it harder to guess what hash value a certain string will have, which is an important security feature for web applications etc.\n",
    "\n",
    "### Why mutable object shouldn't be hashable:\n",
    "the short answer is that if the object's value changes, then the hash must also change since hashes are based on values. However, if the object's value changes after it's used as a key in a dictionary, the hash will no longer refer to the correct bucket in the dictionary for that key. Let's use an example. Watch Brandon Rhode's PyCon 2010 talk [The Mighty Dictionary](https://www.youtube.com/watch?v=C4Kc8xzcA68) about how dictioneries work in python. Let's use an example.\n",
    "```\n",
    ">>> import collections\n",
    "\n",
    ">>> class HashableList(collections.UserList):\n",
    "...     def __hash__(self):\n",
    "...         return hash(tuple(self))\n",
    "```\n",
    "We can create a hashable list object and put it in a dictionary:\n",
    "```\n",
    ">>> h = HashableList([1, 2, 3])\n",
    "\n",
    ">>> d = {h: 'hello'}\n",
    "\n",
    ">>> d\n",
    "{[1, 2, 3]: 'hello'}\n",
    "```\n",
    "It seems to work. We even make another hashable list with the same value and it seems to work too:\n",
    "```\n",
    ">>> d[h]\n",
    "'hello'\n",
    "\n",
    ">>> h2 = HashableList([1, 2, 3])\n",
    "\n",
    ">>> d[h2]\n",
    "'hello'\n",
    "```\n",
    "Now we change h. \n",
    "```\n",
    ">>> h[2] = 100\n",
    "\n",
    ">>> d[h]\n",
    "Traceback (most recent call last):\n",
    "  File \"stdin\", line 1, in module\n",
    "KeyError: [1, 2, 100]\n",
    "```\n",
    "The key in d isn't a copy of the [1, 2, 3] object, it's a copy of the reference. **When we changed h, we also changed the dictionary key:**\n",
    "```\n",
    ">>> d\n",
    "{[1, 2, 100]: 'hello'}\n",
    "```\n",
    "So this means the key is now [1, 2, 100], but it's in the bucket/slot for [1, 2, 3]. **But here's the thing.** h2 no longer works as a key, even though it is [1, 2, 3].\n",
    "```\n",
    ">>> d[h2]\n",
    "Traceback (most recent call last):\n",
    "  File \"stdin\", line 1, in module\n",
    "KeyError: [1, 2, 3]\n",
    "```\n",
    "h2's [1, 2, 3] won't work because the key's value is now [1, 2, 100] and Python just assumes it happens to be a hash collision.\n",
    "\n",
    "### Learning by example:\n",
    "Imagine we have this class:\n",
    "\n",
    "```\n",
    ">>> class Person(object):\n",
    "...     def __init__(self, name, ssn, address):\n",
    "...         self.name = name\n",
    "...         self.ssn = ssn\n",
    "...         self.address = address\n",
    "...     def __hash__(self):\n",
    "...         return hash(self.ssn)\n",
    "...     def __eq__(self, other):\n",
    "...         return self.ssn == other.ssn\n",
    "... \n",
    "```\n",
    "And we have Bob:\n",
    "```\n",
    ">>> bob = Person('bob', '1111-222-333', None)\n",
    "```\n",
    "bob goes to see a judge to change his name to jim:\n",
    "```\n",
    ">>> jim = Person('jim bo', '1111-222-333', 'sf bay area')\n",
    "```\n",
    "Both objects are compared based on the ssn hash and they are equal as expected:\n",
    "```\n",
    ">>> bob == jim\n",
    "True\n",
    "```\n",
    "Note that these are two different objects with different memory allocated:\n",
    "```\n",
    ">>> bob is jim\n",
    "False\n",
    "```\n",
    "Now comes the part where hash() is handy, using the value as a key to a dictionary:\n",
    "```\n",
    ">>> dmv_appointments = {}\n",
    ">>> dmv_appointments[bob] = 'tomorrow'\n",
    "```\n",
    "jim and bob are two different objects with the same hash. If we use jim as a key to the same dictionary, it's hash value collides with bob's.\n",
    "Python automatically calls the `__eq__` method of a class when you use the == operator to compare the instances of the class. By default, Python uses the `is` operator if you don't provide a specific implementation for the `__eq__` method.\n",
    "```\n",
    ">>> dmv_appointments[jim] #?\n",
    "'tomorrow'\n",
    "```\n",
    "hash of a literal integer is the same as the integer value.\n",
    "```\n",
    ">>> hash(bob) == hash(hash(bob))\n",
    "True\n",
    "```\n",
    "Now try this:\n",
    "```\n",
    ">>> dmv_appointments[hash(bob)]\n",
    "Traceback (most recent call last):\n",
    "  File \"<stdin>\", line 1, in <module>\n",
    "  File \"<stdin>\", line 9, in __eq__\n",
    "AttributeError: 'int' object has no attribute 'ssn'\n",
    ">>> hash(bob) == hash(hash(bob))\n",
    "True\n",
    "```\n",
    "If we use `hash(bob)` as a key to the dictionary, it's hash collides with bob's hash. Therefore, the `__equal__` methode of Person class is going to be called to check if `Bob==hash(bob)`. However, hash(bob) is not of Person class and does not have a ssn attribute to be used in 'Person.__equal__()' method. Therefore and Exception is raised.\n",
    "One last test:\n",
    "```\n",
    ">>> del Person.__eq__\n",
    ">>> dmv_appointments[bob]\n",
    "'tomorrow'\n",
    ">>> dmv_appointments[jim]\n",
    "Traceback (most recent call last):\n",
    "  File \"<stdin>\", line 1, in <module>\n",
    "KeyError: <__main__.Person object at 0x7f611bd37110>\n",
    "```\n",
    "There is a collision between hashes of bob and jim. Since there is no `__equal__()` method, python uses `is` method to compare the equality of those two objects.\n",
    "```\n",
    ">>> bob is jim\n",
    "False\n",
    ">>> bob == jim\n",
    "False\n",
    "```"
   ]
  },
  {
   "cell_type": "code",
   "execution_count": null,
   "metadata": {},
   "outputs": [],
   "source": []
  },
  {
   "cell_type": "markdown",
   "metadata": {},
   "source": [
    "# get all unique combinations of two Lists for a two level index"
   ]
  },
  {
   "cell_type": "markdown",
   "metadata": {},
   "source": [
    "**permutations is changing the linear order of an ordered set**"
   ]
  },
  {
   "cell_type": "code",
   "execution_count": 256,
   "metadata": {},
   "outputs": [],
   "source": [
    "import itertools \n",
    "from itertools import permutations \n",
    "long1 = [\"a\", \"b\", \"c\"] \n",
    "short2 = [1, 2]\n",
    "unique_combinations = []"
   ]
  },
  {
   "cell_type": "markdown",
   "metadata": {},
   "source": [
    "get all the permutation of the same length as the other list"
   ]
  },
  {
   "cell_type": "code",
   "execution_count": 257,
   "metadata": {},
   "outputs": [
    {
     "name": "stdout",
     "output_type": "stream",
     "text": [
      "('a', 'b')\n",
      "('a', 'c')\n",
      "('b', 'a')\n",
      "('b', 'c')\n",
      "('c', 'a')\n",
      "('c', 'b')\n",
      "6\n"
     ]
    }
   ],
   "source": [
    "# get all the r-length permutations of the iterable \"long\"\n",
    "permut1 = itertools.permutations(iterable=long1, r=len(short2)) \n",
    "i = 0\n",
    "for comb in permut1: \n",
    "    print(comb)\n",
    "    i += 1\n",
    "print(i)\n",
    "# i= 3*2"
   ]
  },
  {
   "cell_type": "code",
   "execution_count": 258,
   "metadata": {},
   "outputs": [
    {
     "name": "stdout",
     "output_type": "stream",
     "text": [
      "[[('a', 1), ('b', 2)], [('a', 1), ('c', 2)], [('b', 1), ('a', 2)], [('b', 1), ('c', 2)], [('c', 1), ('a', 2)], [('c', 1), ('b', 2)]]\n",
      "6\n"
     ]
    }
   ],
   "source": [
    "# get all the r-length permutations of the iterable \"long\"\n",
    "permut1 = itertools.permutations(iterable=long1, r=len(short2)) \n",
    "unique_combinations = []\n",
    "for comb in permut1: \n",
    "    zipped = zip(comb, short2) \n",
    "    unique_combinations.append(list(zipped)) \n",
    "print(unique_combinations) \n",
    "# zip a shortedned permutation of a long list with an equal length ordered short list\n",
    "print(len(unique_combinations)) #3*2"
   ]
  },
  {
   "cell_type": "markdown",
   "metadata": {},
   "source": [
    "### Method 2 itertools.product\n",
    "Cartesian product of input iterables.  Equivalent to nested for-loops.\n",
    "For example, product(A, B) returns the same as:  ((x,y) for x in A for y in B)"
   ]
  },
  {
   "cell_type": "code",
   "execution_count": 259,
   "metadata": {},
   "outputs": [],
   "source": [
    "import itertools \n",
    "from itertools import product\n",
    "long1 = [\"a\", \"b\", \"c\"] \n",
    "short2 = [1, 2]"
   ]
  },
  {
   "cell_type": "code",
   "execution_count": 260,
   "metadata": {},
   "outputs": [
    {
     "name": "stdout",
     "output_type": "stream",
     "text": [
      "(1, 1, 1)\n",
      "(1, 1, 2)\n",
      "(1, 2, 1)\n",
      "(1, 2, 2)\n",
      "(2, 1, 1)\n",
      "(2, 1, 2)\n",
      "(2, 2, 1)\n",
      "(2, 2, 2)\n",
      "8\n"
     ]
    }
   ],
   "source": [
    "i = 0\n",
    "# Cartesian product of input iterables.  Equivalent to nested for-loops.\n",
    "# product(A, repeat=4) means the same as product(A, A, A, A)\n",
    "prod = product(short2, repeat = len(long1))\n",
    "for comb in prod:\n",
    "    print(comb)\n",
    "    i += 1\n",
    "print(i)\n",
    "# i =2**3"
   ]
  },
  {
   "cell_type": "code",
   "execution_count": 261,
   "metadata": {},
   "outputs": [
    {
     "name": "stdout",
     "output_type": "stream",
     "text": [
      "[[('a', 1), ('b', 1), ('c', 1)], [('a', 1), ('b', 1), ('c', 2)], [('a', 1), ('b', 2), ('c', 1)], [('a', 1), ('b', 2), ('c', 2)], [('a', 2), ('b', 1), ('c', 1)], [('a', 2), ('b', 1), ('c', 2)], [('a', 2), ('b', 2), ('c', 1)], [('a', 2), ('b', 2), ('c', 2)]]\n",
      "8\n"
     ]
    }
   ],
   "source": [
    "unique_combinations = [] \n",
    "prod = product(short2, repeat = len(long1))\n",
    "unique_combinations = list(list(zip(long1, element)) \n",
    "                           for element in prod) \n",
    "  \n",
    "print(unique_combinations)\n",
    "print(len(unique_combinations)) #2**3"
   ]
  },
  {
   "cell_type": "code",
   "execution_count": 262,
   "metadata": {
    "colab": {
     "base_uri": "https://localhost:8080/",
     "height": 717
    },
    "colab_type": "code",
    "id": "bJP1j0FJYiYZ",
    "outputId": "790a3be3-14a2-4272-d461-27422b709655"
   },
   "outputs": [],
   "source": [
    "# !pip install https://github.com/explosion/spacy-models/releases/download/en_core_web_md-2.3.1/en_core_web_md-2.3.1.tar.gz"
   ]
  },
  {
   "cell_type": "markdown",
   "metadata": {
    "colab_type": "text",
    "id": "HgV73fGkorbm"
   },
   "source": [
    "In colab we need to import the spacy en_core_web_md as a package with !pip install instead of python install on the terminal. After that we need to restart the runtime."
   ]
  },
  {
   "cell_type": "code",
   "execution_count": 263,
   "metadata": {
    "colab": {},
    "colab_type": "code",
    "id": "okwQiSSJPLHw"
   },
   "outputs": [],
   "source": [
    "import os\n",
    "import pickle\n",
    "\n",
    "import numpy as np\n",
    "\n",
    "from sklearn.feature_extraction.text import TfidfVectorizer\n",
    "from sklearn.neighbors import NearestNeighbors"
   ]
  },
  {
   "cell_type": "markdown",
   "metadata": {
    "colab_type": "text",
    "id": "-vfn67Ye9fKM"
   },
   "source": [
    "*Upload subreddit_db.sqlite3 database*\n"
   ]
  },
  {
   "cell_type": "code",
   "execution_count": 264,
   "metadata": {
    "colab": {
     "base_uri": "https://localhost:8080/",
     "height": 72,
     "resources": {
      "http://localhost:8080/nbextensions/google.colab/files.js": {
       "data": "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",
       "headers": [
        [
         "content-type",
         "application/javascript"
        ]
       ],
       "ok": true,
       "status": 200,
       "status_text": ""
      }
     }
    },
    "colab_type": "code",
    "id": "Tl_DvYWhQZrm",
    "outputId": "4edf1c98-6726-4aad-e420-34eb80a5ecea"
   },
   "outputs": [],
   "source": [
    "# from google.colab import files \n",
    "# uploaded = files.upload()"
   ]
  },
  {
   "cell_type": "code",
   "execution_count": 265,
   "metadata": {
    "colab": {},
    "colab_type": "code",
    "id": "6wHU9AHfPLHz"
   },
   "outputs": [],
   "source": [
    "import pandas as pd\n",
    "import sqlite3\n",
    "import numpy as np\n",
    "\n",
    "def refresh_connection_and_cursor():\n",
    "    try:\n",
    "        c.close()\n",
    "        conn.close()\n",
    "    except: pass\n",
    "  \n",
    "#     conn = sqlite3.connect('./submission_db.sqlite3')\n",
    "    conn = sqlite3.connect('./subreddit_db.sqlite3')\n",
    "\n",
    "    c = conn.cursor()\n",
    "    return conn, c\n",
    "\n",
    "conn, c = refresh_connection_and_cursor()\n",
    "\n",
    "data = pd.read_sql_query(\"select * from submission_table order by random() limit 100000;\", conn)\n",
    "\n",
    "c.close()\n",
    "conn.close()"
   ]
  },
  {
   "cell_type": "code",
   "execution_count": 266,
   "metadata": {
    "colab": {
     "base_uri": "https://localhost:8080/",
     "height": 221
    },
    "colab_type": "code",
    "id": "VJHnJGJVPLH2",
    "outputId": "e3c2071d-80fc-42a8-9fcc-31461e73fd41"
   },
   "outputs": [
    {
     "name": "stdout",
     "output_type": "stream",
     "text": [
      "(51610, 4)\n"
     ]
    },
    {
     "data": {
      "text/html": [
       "<div>\n",
       "<style scoped>\n",
       "    .dataframe tbody tr th:only-of-type {\n",
       "        vertical-align: middle;\n",
       "    }\n",
       "\n",
       "    .dataframe tbody tr th {\n",
       "        vertical-align: top;\n",
       "    }\n",
       "\n",
       "    .dataframe thead th {\n",
       "        text-align: right;\n",
       "    }\n",
       "</style>\n",
       "<table border=\"1\" class=\"dataframe\">\n",
       "  <thead>\n",
       "    <tr style=\"text-align: right;\">\n",
       "      <th></th>\n",
       "      <th>subreddit_name</th>\n",
       "      <th>subreddit_id</th>\n",
       "      <th>title</th>\n",
       "      <th>text</th>\n",
       "    </tr>\n",
       "  </thead>\n",
       "  <tbody>\n",
       "    <tr>\n",
       "      <th>0</th>\n",
       "      <td>travel</td>\n",
       "      <td>2qh41</td>\n",
       "      <td>Kylemore Abbey</td>\n",
       "      <td></td>\n",
       "    </tr>\n",
       "    <tr>\n",
       "      <th>1</th>\n",
       "      <td>Design</td>\n",
       "      <td>2qh78</td>\n",
       "      <td>Study in brand minimalism</td>\n",
       "      <td></td>\n",
       "    </tr>\n",
       "    <tr>\n",
       "      <th>2</th>\n",
       "      <td>television</td>\n",
       "      <td>2qh6e</td>\n",
       "      <td>‘Supernatural’s Jensen Ackles Joins ‘The Boys’...</td>\n",
       "      <td></td>\n",
       "    </tr>\n",
       "    <tr>\n",
       "      <th>3</th>\n",
       "      <td>personalfinance</td>\n",
       "      <td>2qstm</td>\n",
       "      <td>My husband died suddenly and I’m not sure what...</td>\n",
       "      <td>My husband died suddenly on Saturday and I’m n...</td>\n",
       "    </tr>\n",
       "    <tr>\n",
       "      <th>4</th>\n",
       "      <td>Fitness</td>\n",
       "      <td>2qhx4</td>\n",
       "      <td>My High School Transformation! 185 lb Fat Fres...</td>\n",
       "      <td>At the end of my Freshman year of high school,...</td>\n",
       "    </tr>\n",
       "  </tbody>\n",
       "</table>\n",
       "</div>"
      ],
      "text/plain": [
       "    subreddit_name subreddit_id  \\\n",
       "0           travel        2qh41   \n",
       "1           Design        2qh78   \n",
       "2       television        2qh6e   \n",
       "3  personalfinance        2qstm   \n",
       "4          Fitness        2qhx4   \n",
       "\n",
       "                                               title  \\\n",
       "0                                     Kylemore Abbey   \n",
       "1                          Study in brand minimalism   \n",
       "2  ‘Supernatural’s Jensen Ackles Joins ‘The Boys’...   \n",
       "3  My husband died suddenly and I’m not sure what...   \n",
       "4  My High School Transformation! 185 lb Fat Fres...   \n",
       "\n",
       "                                                text  \n",
       "0                                                     \n",
       "1                                                     \n",
       "2                                                     \n",
       "3  My husband died suddenly on Saturday and I’m n...  \n",
       "4  At the end of my Freshman year of high school,...  "
      ]
     },
     "execution_count": 266,
     "metadata": {},
     "output_type": "execute_result"
    }
   ],
   "source": [
    "# subreddit_subs: is the number of subscriber in the subreddit category\n",
    "print(data.shape)\n",
    "data.head()"
   ]
  },
  {
   "cell_type": "code",
   "execution_count": 267,
   "metadata": {},
   "outputs": [],
   "source": [
    "import re\n",
    "h = pd.DataFrame.to_html(data.head())\n",
    "# remove spaces\n",
    "h = re.sub('>\\s*<', '><', h)\n",
    "# add scroll\n",
    "h = re.sub('class=\"dataframe\"', 'class=\"dataframe\" style=\"overflow-x: scroll;display: block; max-height: 300px;\"', h)\n",
    "# write html to file \n",
    "text_file = open(\"index.html\", \"w\") \n",
    "text_file.write(h) \n",
    "text_file.close() "
   ]
  },
  {
   "cell_type": "code",
   "execution_count": 268,
   "metadata": {},
   "outputs": [
    {
     "data": {
      "text/plain": [
       "'<table border=\"1\" class=\"dataframe\" style=\"overflow-x: scroll;display: block; max-height: 300px;\"><thead><tr style=\"text-align: right;\"><th></th><th>subreddit_name</th><th>subreddit_id</th><th>title</th><th>text</th></tr></thead><tbody><tr><th>0</th><td>travel</td><td>2qh41</td><td>Kylemore Abbey</td><td></td></tr><tr><th>1</th><td>Design</td><td>2qh78</td><td>Study in brand minimalism</td><td></td></tr><tr><th>2</th><td>television</td><td>2qh6e</td><td>‘Supernatural’s Jensen Ackles Joins ‘The Boys’ Season 3</td><td></td></tr><tr><th>3</th><td>personalfinance</td><td>2qstm</td><td>My husband died suddenly and I’m not sure what to do.</td><td>My husband died suddenly on Saturday and I’m not sure what to do. We have a mortgage, one car payment, boat payment, $8000 in CC debt, and he did have a small student loan balance. Between his ESOP and IRAs he has about $200,000.00 and we had a small life Insurance policy on him through my work of $12,000.\\\\n\\\\nI will be selling the house, boat, and one of the vehicles and I may just pay off all the cc debt, but I don’t want to make any rash decisions.\\\\n\\\\nI’m so lost.\\\\n\\\\nEdit/Update: Thank you all so much for this information. A little more info on our full situation. My husband and I live in  Alaska in a more remote area and it was just the two of us. He died while running a 10k and I saw him about 3 minutes before and he was ecstatic and smiling and gave me a thumbs up. Both of our families live in New Mexico, so I will be moving back there. The boat was just a pleasure boat we\\'d use on the ocean and luckily it\\'s a very sought after boat in this state so it should move quickly. We have one truck that is paid off and I will be selling that and keeping my Subaru. I went ahead and canceled all of the auto payments on his credit cards and I\\'ve already begun paperwork on IRA\\'s and the life insurance policy. I\\'m fortunate that my family has means and are able to help me right now. My parents arrived the day after he died and his Dad and sister arrived Tuesday night, so I have a wonderful support network. I have about 13000 liquid with about 7000 more coming in so I\\'ll be able to make the mortgage payment, car, etc. while we\\'re waiting to clear things out. The ESOP is not paid out until a year after the event and my Dad has already contacted his financial advisor to help me navigate what to do with the money as well as not to be hit hard with taxes. I\\'ll also be able to receive his Permanent Fund Dividend this year which is good since I guess it\\'s supposed to be a whopper. I feel so fortunate that we somewhat had our shit together. My husband and I were both socking money away into our retirement accounts and we had a modest home so we could have lots of adventures, which we did. We lived without regrets and that is really helping me right now. Well I guess I slightly misspoke, I wish we did have more life insurance, but hindsights always 20/20. If anyone can learn anything from my situation it is this: Life is fleeting. Live everyday to the fullest. My husband and I went on adventures nearly every weekend. Whether it be hiking, backpacking, bike-packing, boating, fishing, hunting, traveling, we were always doing something. We told each other numerous times a day that we loved each other and we were each others world. I will get through this and I will continue to accomplish the goals that we shared together. Life through me a shitty surprise, but it\\'s not the end of the world. I will get better. My beloved loved to tell me to get my shit together when I was being a whiny pants and that\\'s just what I\\'m going to do. Also, because I\\'m selfish in my grief and if anyone is interested to learn more about my [amazing husband](https://www.sewardjournal.com/eedition/page/page_643cb6a9-a712-5261-8d3f-323e2b159dae.html), I wrote a letter of thanks and it\\'s been published in two papers.</td></tr><tr><th>4</th><td>Fitness</td><td>2qhx4</td><td>My High School Transformation! 185 lb Fat Freshman to 155 lb Fit Senior</td><td>At the end of my Freshman year of high school, I weighed in at nearly 190-200 lbs and hated how I looked. That summer, I decided to lose some weight, and got all the way down to 130 lbs! Unfortunately, in my sophomore year, I had developed anorexia and an  even more severe body dysmorphia problem. In my Junior year, I started lifting weights and was slowly able to overcome my terrible relationship with food, gaining a decent amount of muscle but also a decent amount of fat. Today, I am a Senior, and am finally coming to love the way I look. I have an amazing relationship with food, love to workout, and am starting to like the way I look! So please, if you have any questions, feel free to ask about my journey!\\\\n\\\\nMore specific information:\\\\n\\\\nStarting weight: 190-200 lbs\\\\nStarting Height: 5’7\\\\nAge: 15\\\\n\\\\nCurrent Weight: 155 lbs \\\\nCurrent Height: 5’7\\\\nCurrent Age: 18\\\\n\\\\nWorkout program:\\\\nI played a lot of sports during 9-10th grade, but in 11th I started lifting everyday. I alternated between the PPLx2 program and Layne Norton’s PHAT.  Mostly PPLx2 though. \\\\n\\\\nDiet: \\\\nI basically ate all clean foods, aka “bro foods.” I counted out my calories/macros to a T, and still continue to do that. When I wanted to lose weight, I was in a caloric deficit, and when I wanted to gain, I upped the calories and whatnot. \\\\n\\\\n\\\\n [Transformation Pictures](https://imgur.com/gallery/qTqEK)\\\\n\\\\n[More pics](https://imgur.com/gallery/beszu) \\\\n\\\\n\\\\n** You may notice that I don’t look very lean in the picture on the right, and that is partly due to me have a little fat left, but also a fair amount of loose skin. Can’t tell in the picture, but I can actually pull it out quite a bit. Covers all of my abs, unfortunately. Haha</td></tr></tbody></table>'"
      ]
     },
     "execution_count": 268,
     "metadata": {},
     "output_type": "execute_result"
    }
   ],
   "source": [
    "h"
   ]
  },
  {
   "cell_type": "code",
   "execution_count": 269,
   "metadata": {
    "colab": {
     "base_uri": "https://localhost:8080/",
     "height": 204
    },
    "colab_type": "code",
    "id": "eZbFt4KYqH1Z",
    "outputId": "7ca693ae-ccd6-4374-dfdf-4066c72f93d9"
   },
   "outputs": [
    {
     "name": "stdout",
     "output_type": "stream",
     "text": [
      "<class 'pandas.core.frame.DataFrame'>\n",
      "RangeIndex: 51610 entries, 0 to 51609\n",
      "Data columns (total 4 columns):\n",
      " #   Column          Non-Null Count  Dtype \n",
      "---  ------          --------------  ----- \n",
      " 0   subreddit_name  51610 non-null  object\n",
      " 1   subreddit_id    51610 non-null  object\n",
      " 2   title           51610 non-null  object\n",
      " 3   text            51610 non-null  object\n",
      "dtypes: object(4)\n",
      "memory usage: 1.6+ MB\n"
     ]
    }
   ],
   "source": [
    "data.info()"
   ]
  },
  {
   "cell_type": "code",
   "execution_count": 270,
   "metadata": {
    "colab": {
     "base_uri": "https://localhost:8080/",
     "height": 221
    },
    "colab_type": "code",
    "id": "BXH8JxH3cpcR",
    "outputId": "15bdb830-5bd5-4394-a838-57897e1fadfc"
   },
   "outputs": [
    {
     "data": {
      "text/plain": [
       "(53,\n",
       " array(['travel', 'Design', 'television', 'personalfinance', 'Fitness',\n",
       "        'Music', 'Art', 'books', 'technology', 'science', 'Documentaries',\n",
       "        'entertainment', 'funny', 'Cooking', 'worldpolitics',\n",
       "        'LifeProTips', 'conspiracy', 'biology', 'GetMotivated',\n",
       "        'MachineLearning', 'worldnews', 'nottheonion', 'Coronavirus',\n",
       "        'Showerthoughts', 'food', 'PublicFreakout', 'gadgets',\n",
       "        'socialskills', 'Health', 'AdviceAnimals', 'history', 'space',\n",
       "        'gaming', 'cars', 'TwoXChromosomes', 'DIY', 'math',\n",
       "        'HomeImprovement', 'WTF', 'sports', 'AskReddit', 'programming',\n",
       "        'Parenting', 'JusticeServed', 'news', 'camping', 'literature',\n",
       "        'scifi', 'movies', 'politics', 'investing', 'mildlyinteresting',\n",
       "        'announcements'], dtype=object))"
      ]
     },
     "execution_count": 270,
     "metadata": {},
     "output_type": "execute_result"
    }
   ],
   "source": [
    "# There are 53 subreddit categories\n",
    "subreddit_names = data['subreddit_name'].unique()\n",
    "len(subreddit_names), subreddit_names"
   ]
  },
  {
   "cell_type": "markdown",
   "metadata": {
    "colab_type": "text",
    "id": "3CB3-cW9-Llm"
   },
   "source": [
    "### Data Wrangling"
   ]
  },
  {
   "cell_type": "code",
   "execution_count": 271,
   "metadata": {
    "colab": {
     "base_uri": "https://localhost:8080/",
     "height": 71
    },
    "colab_type": "code",
    "id": "aPm9lRzC_9Tu",
    "outputId": "50a1848b-c025-4f91-a03d-9de031866a35"
   },
   "outputs": [],
   "source": [
    "import seaborn as sns\n",
    "import matplotlib.pyplot as plt"
   ]
  },
  {
   "cell_type": "code",
   "execution_count": 272,
   "metadata": {},
   "outputs": [
    {
     "data": {
      "text/html": [
       "<div>\n",
       "<style scoped>\n",
       "    .dataframe tbody tr th:only-of-type {\n",
       "        vertical-align: middle;\n",
       "    }\n",
       "\n",
       "    .dataframe tbody tr th {\n",
       "        vertical-align: top;\n",
       "    }\n",
       "\n",
       "    .dataframe thead th {\n",
       "        text-align: right;\n",
       "    }\n",
       "</style>\n",
       "<table border=\"1\" class=\"dataframe\">\n",
       "  <thead>\n",
       "    <tr style=\"text-align: right;\">\n",
       "      <th></th>\n",
       "      <th>subreddit_id</th>\n",
       "      <th>subreddit_name</th>\n",
       "    </tr>\n",
       "  </thead>\n",
       "  <tbody>\n",
       "    <tr>\n",
       "      <th>0</th>\n",
       "      <td>2qh41</td>\n",
       "      <td>travel</td>\n",
       "    </tr>\n",
       "  </tbody>\n",
       "</table>\n",
       "</div>"
      ],
      "text/plain": [
       "  subreddit_id subreddit_name\n",
       "0        2qh41         travel"
      ]
     },
     "execution_count": 272,
     "metadata": {},
     "output_type": "execute_result"
    }
   ],
   "source": [
    "data[['subreddit_id', 'subreddit_name']].head(1)"
   ]
  },
  {
   "cell_type": "code",
   "execution_count": 273,
   "metadata": {},
   "outputs": [
    {
     "data": {
      "text/plain": [
       "Coronavirus       985\n",
       "space             983\n",
       "PublicFreakout    983\n",
       "JusticeServed     983\n",
       "programming       983\n",
       "LifeProTips       970\n",
       "nottheonion       967\n",
       "Showerthoughts    962\n",
       "GetMotivated      932\n",
       "announcements     160\n",
       "Name: subreddit_name, dtype: int64"
      ]
     },
     "execution_count": 273,
     "metadata": {},
     "output_type": "execute_result"
    }
   ],
   "source": [
    "# number of posts per subreddit category\n",
    "data['subreddit_name'].value_counts().tail(10)"
   ]
  },
  {
   "cell_type": "code",
   "execution_count": 274,
   "metadata": {},
   "outputs": [
    {
     "data": {
      "text/plain": [
       "53"
      ]
     },
     "execution_count": 274,
     "metadata": {},
     "output_type": "execute_result"
    }
   ],
   "source": [
    "# number of subreddit categories\n",
    "data['subreddit_id'].nunique()"
   ]
  },
  {
   "cell_type": "code",
   "execution_count": 275,
   "metadata": {},
   "outputs": [
    {
     "data": {
      "text/plain": [
       "array([1000, 1000,  999,  999,  999,  999,  998,  998,  998,  996,  996,\n",
       "        995,  995,  995,  995,  995,  995,  994,  994,  994,  994,  994,\n",
       "        993,  993,  992,  992,  991,  991,  991,  990,  990,  990,  989,\n",
       "        989,  989,  989,  988,  988,  988,  988,  988,  986,  985,  985,\n",
       "        983,  983,  983,  983,  970,  967,  962,  932,  160])"
      ]
     },
     "execution_count": 275,
     "metadata": {},
     "output_type": "execute_result"
    }
   ],
   "source": [
    "data['subreddit_name'].value_counts().values"
   ]
  },
  {
   "cell_type": "code",
   "execution_count": 276,
   "metadata": {},
   "outputs": [
    {
     "data": {
      "text/plain": [
       "0        50\n",
       "1         6\n",
       "2        49\n",
       "3        40\n",
       "4         8\n",
       "         ..\n",
       "51605    43\n",
       "51606    42\n",
       "51607    50\n",
       "51608    10\n",
       "51609    29\n",
       "Length: 51610, dtype: int8"
      ]
     },
     "execution_count": 276,
     "metadata": {},
     "output_type": "execute_result"
    }
   ],
   "source": [
    "data['subreddit_name'].astype('category').cat.codes"
   ]
  },
  {
   "cell_type": "markdown",
   "metadata": {},
   "source": [
    "#### Number of posts per subreddit category"
   ]
  },
  {
   "cell_type": "code",
   "execution_count": 277,
   "metadata": {},
   "outputs": [
    {
     "data": {
      "image/png": "[encoded data removed]",
      "text/plain": [
       "<Figure size 432x288 with 1 Axes>"
      ]
     },
     "metadata": {
      "needs_background": "light"
     },
     "output_type": "display_data"
    }
   ],
   "source": [
    "fig = plt.figure()\n",
    "ax = sns.histplot(\n",
    "    x=data['subreddit_name'].astype('category').cat.codes, \n",
    "    bins=data['subreddit_id'].nunique(),\n",
    "    kde=True)\n",
    "ax.set(xlabel='Subreddit Category', ylabel='Number of posts')\n",
    "fig.savefig('post7_subredditposts.png')\n",
    "plt.show()"
   ]
  },
  {
   "cell_type": "markdown",
   "metadata": {},
   "source": [
    "#### pd.groupby() method:\n",
    "groupby creates a dataframe group for each value of the new index that the grouping is based on. The iterator method iterates through the new index value and the dataframe groups."
   ]
  },
  {
   "cell_type": "markdown",
   "metadata": {},
   "source": [
    "**Iterating in a for loop and printing the iterated index values and each of the dataframe groups**"
   ]
  },
  {
   "cell_type": "code",
   "execution_count": 278,
   "metadata": {},
   "outputs": [
    {
     "name": "stdout",
     "output_type": "stream",
     "text": [
      "index: 2qh03\n",
      "     subreddit_name subreddit_id                        title\n",
      "1506         gaming        2qh03  Hey cousin let's go bowling\n",
      "1508         gaming        2qh03           R.I.P TotalBiscuit\n",
      "----------- 1 ------------------\n",
      "index: 2qh1i\n",
      "     subreddit_name subreddit_id  \\\n",
      "1509      AskReddit        2qh1i   \n",
      "\n",
      "                                                  title  \n",
      "1509  What’s the most fucked up thing the US governm...  \n",
      "----------- 2 ------------------\n",
      "index: 2qh4r\n",
      "     subreddit_name subreddit_id  \\\n",
      "1503     conspiracy        2qh4r   \n",
      "\n",
      "                                                  title  \n",
      "1503  We are being lied to. (Not that you didn’t alr...  \n",
      "----------- 3 ------------------\n",
      "index: 2qh87\n",
      "     subreddit_name subreddit_id  \\\n",
      "1501          space        2qh87   \n",
      "\n",
      "                                                  title  \n",
      "1501  Physicist Freeman Dyson died today at age 96. ...  \n",
      "----------- 4 ------------------\n",
      "index: 2qhhq\n",
      "     subreddit_name subreddit_id  \\\n",
      "1502      investing        2qhhq   \n",
      "\n",
      "                                                  title  \n",
      "1502  How can the US stock market gain 7% on average...  \n",
      "----------- 5 ------------------\n",
      "index: 2qhl2\n",
      "     subreddit_name subreddit_id  \\\n",
      "1507           cars        2qhl2   \n",
      "\n",
      "                                                  title  \n",
      "1507  I made a short film about my father who has be...  \n",
      "----------- 6 ------------------\n",
      "index: 2qk80\n",
      "     subreddit_name subreddit_id  \\\n",
      "1505        camping        2qk80   \n",
      "\n",
      "                                                  title  \n",
      "1505  The best camping buddy I’ve ever known passed ...  \n",
      "----------- 7 ------------------\n",
      "index: 2s7tt\n",
      "     subreddit_name subreddit_id                                title\n",
      "1504  AdviceAnimals        2s7tt  Scumbag Trump-in-Law, Jared Kushner\n",
      "----------- 8 ------------------\n",
      "index: 2szyo\n",
      "      subreddit_name subreddit_id  \\\n",
      "1500  Showerthoughts        2szyo   \n",
      "\n",
      "                                                  title  \n",
      "1500  We really take for granted that both our legs ...  \n",
      "----------- 9 ------------------\n"
     ]
    }
   ],
   "source": [
    "grouped = data[data.columns[:3]][1500:1510].groupby(by='subreddit_id')\n",
    "i = 0\n",
    "for index, row in grouped:\n",
    "    print(\"index:\", index)\n",
    "    print(row)\n",
    "    i +=1\n",
    "    print(\"-----------\", i, \"------------------\")"
   ]
  },
  {
   "cell_type": "markdown",
   "metadata": {},
   "source": [
    "**Alternative to using a loop to iterate over a DataFrameGroupby object is to use the pandas .apply() method.**"
   ]
  },
  {
   "cell_type": "code",
   "execution_count": 279,
   "metadata": {},
   "outputs": [
    {
     "data": {
      "text/html": [
       "<div>\n",
       "<style scoped>\n",
       "    .dataframe tbody tr th:only-of-type {\n",
       "        vertical-align: middle;\n",
       "    }\n",
       "\n",
       "    .dataframe tbody tr th {\n",
       "        vertical-align: top;\n",
       "    }\n",
       "\n",
       "    .dataframe thead th {\n",
       "        text-align: right;\n",
       "    }\n",
       "</style>\n",
       "<table border=\"1\" class=\"dataframe\">\n",
       "  <thead>\n",
       "    <tr style=\"text-align: right;\">\n",
       "      <th></th>\n",
       "      <th></th>\n",
       "      <th>subreddit_name</th>\n",
       "      <th>subreddit_id</th>\n",
       "      <th>title</th>\n",
       "      <th>subreddit_subs</th>\n",
       "    </tr>\n",
       "    <tr>\n",
       "      <th>subreddit_id</th>\n",
       "      <th></th>\n",
       "      <th></th>\n",
       "      <th></th>\n",
       "      <th></th>\n",
       "      <th></th>\n",
       "    </tr>\n",
       "  </thead>\n",
       "  <tbody>\n",
       "    <tr>\n",
       "      <th rowspan=\"3\" valign=\"top\">2qh03</th>\n",
       "      <th>1506</th>\n",
       "      <td>gaming</td>\n",
       "      <td>2qh03</td>\n",
       "      <td>Hey cousin let's go bowling</td>\n",
       "      <td>NaN</td>\n",
       "    </tr>\n",
       "    <tr>\n",
       "      <th>1508</th>\n",
       "      <td>gaming</td>\n",
       "      <td>2qh03</td>\n",
       "      <td>R.I.P TotalBiscuit</td>\n",
       "      <td>NaN</td>\n",
       "    </tr>\n",
       "    <tr>\n",
       "      <th>--</th>\n",
       "      <td>-----</td>\n",
       "      <td>-----</td>\n",
       "      <td>NaN</td>\n",
       "      <td>-----</td>\n",
       "    </tr>\n",
       "    <tr>\n",
       "      <th rowspan=\"2\" valign=\"top\">2qh1i</th>\n",
       "      <th>1509</th>\n",
       "      <td>AskReddit</td>\n",
       "      <td>2qh1i</td>\n",
       "      <td>What’s the most fucked up thing the US governm...</td>\n",
       "      <td>NaN</td>\n",
       "    </tr>\n",
       "    <tr>\n",
       "      <th>--</th>\n",
       "      <td>-----</td>\n",
       "      <td>-----</td>\n",
       "      <td>NaN</td>\n",
       "      <td>-----</td>\n",
       "    </tr>\n",
       "    <tr>\n",
       "      <th rowspan=\"2\" valign=\"top\">2qh4r</th>\n",
       "      <th>1503</th>\n",
       "      <td>conspiracy</td>\n",
       "      <td>2qh4r</td>\n",
       "      <td>We are being lied to. (Not that you didn’t alr...</td>\n",
       "      <td>NaN</td>\n",
       "    </tr>\n",
       "    <tr>\n",
       "      <th>--</th>\n",
       "      <td>-----</td>\n",
       "      <td>-----</td>\n",
       "      <td>NaN</td>\n",
       "      <td>-----</td>\n",
       "    </tr>\n",
       "    <tr>\n",
       "      <th rowspan=\"2\" valign=\"top\">2qh87</th>\n",
       "      <th>1501</th>\n",
       "      <td>space</td>\n",
       "      <td>2qh87</td>\n",
       "      <td>Physicist Freeman Dyson died today at age 96. ...</td>\n",
       "      <td>NaN</td>\n",
       "    </tr>\n",
       "    <tr>\n",
       "      <th>--</th>\n",
       "      <td>-----</td>\n",
       "      <td>-----</td>\n",
       "      <td>NaN</td>\n",
       "      <td>-----</td>\n",
       "    </tr>\n",
       "    <tr>\n",
       "      <th rowspan=\"2\" valign=\"top\">2qhhq</th>\n",
       "      <th>1502</th>\n",
       "      <td>investing</td>\n",
       "      <td>2qhhq</td>\n",
       "      <td>How can the US stock market gain 7% on average...</td>\n",
       "      <td>NaN</td>\n",
       "    </tr>\n",
       "    <tr>\n",
       "      <th>--</th>\n",
       "      <td>-----</td>\n",
       "      <td>-----</td>\n",
       "      <td>NaN</td>\n",
       "      <td>-----</td>\n",
       "    </tr>\n",
       "    <tr>\n",
       "      <th rowspan=\"2\" valign=\"top\">2qhl2</th>\n",
       "      <th>1507</th>\n",
       "      <td>cars</td>\n",
       "      <td>2qhl2</td>\n",
       "      <td>I made a short film about my father who has be...</td>\n",
       "      <td>NaN</td>\n",
       "    </tr>\n",
       "    <tr>\n",
       "      <th>--</th>\n",
       "      <td>-----</td>\n",
       "      <td>-----</td>\n",
       "      <td>NaN</td>\n",
       "      <td>-----</td>\n",
       "    </tr>\n",
       "    <tr>\n",
       "      <th rowspan=\"2\" valign=\"top\">2qk80</th>\n",
       "      <th>1505</th>\n",
       "      <td>camping</td>\n",
       "      <td>2qk80</td>\n",
       "      <td>The best camping buddy I’ve ever known passed ...</td>\n",
       "      <td>NaN</td>\n",
       "    </tr>\n",
       "    <tr>\n",
       "      <th>--</th>\n",
       "      <td>-----</td>\n",
       "      <td>-----</td>\n",
       "      <td>NaN</td>\n",
       "      <td>-----</td>\n",
       "    </tr>\n",
       "    <tr>\n",
       "      <th rowspan=\"2\" valign=\"top\">2s7tt</th>\n",
       "      <th>1504</th>\n",
       "      <td>AdviceAnimals</td>\n",
       "      <td>2s7tt</td>\n",
       "      <td>Scumbag Trump-in-Law, Jared Kushner</td>\n",
       "      <td>NaN</td>\n",
       "    </tr>\n",
       "    <tr>\n",
       "      <th>--</th>\n",
       "      <td>-----</td>\n",
       "      <td>-----</td>\n",
       "      <td>NaN</td>\n",
       "      <td>-----</td>\n",
       "    </tr>\n",
       "    <tr>\n",
       "      <th rowspan=\"2\" valign=\"top\">2szyo</th>\n",
       "      <th>1500</th>\n",
       "      <td>Showerthoughts</td>\n",
       "      <td>2szyo</td>\n",
       "      <td>We really take for granted that both our legs ...</td>\n",
       "      <td>NaN</td>\n",
       "    </tr>\n",
       "    <tr>\n",
       "      <th>--</th>\n",
       "      <td>-----</td>\n",
       "      <td>-----</td>\n",
       "      <td>NaN</td>\n",
       "      <td>-----</td>\n",
       "    </tr>\n",
       "  </tbody>\n",
       "</table>\n",
       "</div>"
      ],
      "text/plain": [
       "                   subreddit_name subreddit_id  \\\n",
       "subreddit_id                                     \n",
       "2qh03        1506          gaming        2qh03   \n",
       "             1508          gaming        2qh03   \n",
       "             --             -----        -----   \n",
       "2qh1i        1509       AskReddit        2qh1i   \n",
       "             --             -----        -----   \n",
       "2qh4r        1503      conspiracy        2qh4r   \n",
       "             --             -----        -----   \n",
       "2qh87        1501           space        2qh87   \n",
       "             --             -----        -----   \n",
       "2qhhq        1502       investing        2qhhq   \n",
       "             --             -----        -----   \n",
       "2qhl2        1507            cars        2qhl2   \n",
       "             --             -----        -----   \n",
       "2qk80        1505         camping        2qk80   \n",
       "             --             -----        -----   \n",
       "2s7tt        1504   AdviceAnimals        2s7tt   \n",
       "             --             -----        -----   \n",
       "2szyo        1500  Showerthoughts        2szyo   \n",
       "             --             -----        -----   \n",
       "\n",
       "                                                               title  \\\n",
       "subreddit_id                                                           \n",
       "2qh03        1506                        Hey cousin let's go bowling   \n",
       "             1508                                 R.I.P TotalBiscuit   \n",
       "             --                                                  NaN   \n",
       "2qh1i        1509  What’s the most fucked up thing the US governm...   \n",
       "             --                                                  NaN   \n",
       "2qh4r        1503  We are being lied to. (Not that you didn’t alr...   \n",
       "             --                                                  NaN   \n",
       "2qh87        1501  Physicist Freeman Dyson died today at age 96. ...   \n",
       "             --                                                  NaN   \n",
       "2qhhq        1502  How can the US stock market gain 7% on average...   \n",
       "             --                                                  NaN   \n",
       "2qhl2        1507  I made a short film about my father who has be...   \n",
       "             --                                                  NaN   \n",
       "2qk80        1505  The best camping buddy I’ve ever known passed ...   \n",
       "             --                                                  NaN   \n",
       "2s7tt        1504                Scumbag Trump-in-Law, Jared Kushner   \n",
       "             --                                                  NaN   \n",
       "2szyo        1500  We really take for granted that both our legs ...   \n",
       "             --                                                  NaN   \n",
       "\n",
       "                  subreddit_subs  \n",
       "subreddit_id                      \n",
       "2qh03        1506            NaN  \n",
       "             1508            NaN  \n",
       "             --            -----  \n",
       "2qh1i        1509            NaN  \n",
       "             --            -----  \n",
       "2qh4r        1503            NaN  \n",
       "             --            -----  \n",
       "2qh87        1501            NaN  \n",
       "             --            -----  \n",
       "2qhhq        1502            NaN  \n",
       "             --            -----  \n",
       "2qhl2        1507            NaN  \n",
       "             --            -----  \n",
       "2qk80        1505            NaN  \n",
       "             --            -----  \n",
       "2s7tt        1504            NaN  \n",
       "             --            -----  \n",
       "2szyo        1500            NaN  \n",
       "             --            -----  "
      ]
     },
     "execution_count": 279,
     "metadata": {},
     "output_type": "execute_result"
    }
   ],
   "source": [
    "grouped.apply(lambda a: pd.concat([a,pd.DataFrame(\n",
    "    [[\"-----\"]*3], index = [\"--\"], columns=[\"subreddit_id\", \"subreddit_name\", \"subreddit_subs\"])]))"
   ]
  },
  {
   "cell_type": "markdown",
   "metadata": {},
   "source": [
    "**groupby create a multilevel index. Below code iterates over dataframe groups and grabs 'subreddit_name' column. Then by using .loc() method we slice both index levels on the 0 axis and return it on the output display**"
   ]
  },
  {
   "cell_type": "code",
   "execution_count": 280,
   "metadata": {},
   "outputs": [
    {
     "data": {
      "text/plain": [
       "[('3icow', 3995),\n",
       " ('3icow', 3996),\n",
       " ('3icow', 3997),\n",
       " ('3icow', 3998),\n",
       " ('3icow', 3999)]"
      ]
     },
     "execution_count": 280,
     "metadata": {},
     "output_type": "execute_result"
    }
   ],
   "source": [
    "list1 = [\"2cneq\", \"2r2jt\", \"3icow\"]\n",
    "idx_lst = []\n",
    "for lv1 in list1:\n",
    "    for lv2 in range(1270,4000,1):\n",
    "        idx_lst.append((lv1, lv2))\n",
    "idx_lst[-5:]"
   ]
  },
  {
   "cell_type": "code",
   "execution_count": 281,
   "metadata": {},
   "outputs": [
    {
     "data": {
      "text/plain": [
       "worldnews             995\n",
       "television            999\n",
       "Health               1000\n",
       "Parenting             996\n",
       "camping               993\n",
       "biology               989\n",
       "mildlyinteresting     991\n",
       "socialskills          994\n",
       "investing             992\n",
       "AdviceAnimals         999\n",
       "Name: subreddit_name, dtype: int64"
      ]
     },
     "execution_count": 281,
     "metadata": {},
     "output_type": "execute_result"
    }
   ],
   "source": [
    "\"\"\"\n",
    "subreddit_id has become an index identifying each group.\n",
    "'subreddit_name' is the values to perform group value_counts on.\n",
    "\"\"\"\n",
    "data.groupby(by='subreddit_id').apply(lambda a: a['subreddit_name']).value_counts().sample(10)"
   ]
  },
  {
   "cell_type": "markdown",
   "metadata": {},
   "source": [
    "* Filter out subreddit_id with low number of posts"
   ]
  },
  {
   "cell_type": "code",
   "execution_count": 282,
   "metadata": {},
   "outputs": [
    {
     "data": {
      "text/plain": [
       "(51450, 4)"
      ]
     },
     "execution_count": 282,
     "metadata": {},
     "output_type": "execute_result"
    }
   ],
   "source": [
    "# filters group as subreddit_name similar to subreddit_id is the group identifier.\n",
    "data.groupby(by='subreddit_id').filter(func=(lambda x: (x['subreddit_name'].value_counts() > 200))).shape"
   ]
  },
  {
   "cell_type": "markdown",
   "metadata": {},
   "source": [
    "* Alternative approach"
   ]
  },
  {
   "cell_type": "code",
   "execution_count": 283,
   "metadata": {},
   "outputs": [
    {
     "data": {
      "text/plain": [
       "(51450, 4)"
      ]
     },
     "execution_count": 283,
     "metadata": {},
     "output_type": "execute_result"
    }
   ],
   "source": [
    "a=data['subreddit_id'].value_counts()>200\n",
    "# b is the subreddit_id that has met the condition\n",
    "b = a.index[a].copy()\n",
    "# c is the boolean values corresponding to the indices based on the conition\n",
    "c = data[\"subreddit_id\"].isin(b)\n",
    "\n",
    "data[c].shape"
   ]
  },
  {
   "cell_type": "markdown",
   "metadata": {},
   "source": [
    "Alternative way to show the same thing"
   ]
  },
  {
   "cell_type": "markdown",
   "metadata": {},
   "source": [
    "#### pd.agg() method:"
   ]
  },
  {
   "cell_type": "code",
   "execution_count": 284,
   "metadata": {},
   "outputs": [
    {
     "data": {
      "text/html": [
       "<div>\n",
       "<style scoped>\n",
       "    .dataframe tbody tr th:only-of-type {\n",
       "        vertical-align: middle;\n",
       "    }\n",
       "\n",
       "    .dataframe tbody tr th {\n",
       "        vertical-align: top;\n",
       "    }\n",
       "\n",
       "    .dataframe thead th {\n",
       "        text-align: right;\n",
       "    }\n",
       "</style>\n",
       "<table border=\"1\" class=\"dataframe\">\n",
       "  <thead>\n",
       "    <tr style=\"text-align: right;\">\n",
       "      <th></th>\n",
       "      <th>title</th>\n",
       "      <th>text</th>\n",
       "    </tr>\n",
       "  </thead>\n",
       "  <tbody>\n",
       "    <tr>\n",
       "      <th>4</th>\n",
       "      <td>My High School Transformation! 185 lb Fat Fres...</td>\n",
       "      <td>At the end of my Freshman year of high school,...</td>\n",
       "    </tr>\n",
       "  </tbody>\n",
       "</table>\n",
       "</div>"
      ],
      "text/plain": [
       "                                               title  \\\n",
       "4  My High School Transformation! 185 lb Fat Fres...   \n",
       "\n",
       "                                                text  \n",
       "4  At the end of my Freshman year of high school,...  "
      ]
     },
     "execution_count": 284,
     "metadata": {},
     "output_type": "execute_result"
    }
   ],
   "source": [
    "data[['title', 'text']][4:5]"
   ]
  },
  {
   "cell_type": "code",
   "execution_count": 285,
   "metadata": {},
   "outputs": [
    {
     "data": {
      "text/html": [
       "<div>\n",
       "<style scoped>\n",
       "    .dataframe tbody tr th:only-of-type {\n",
       "        vertical-align: middle;\n",
       "    }\n",
       "\n",
       "    .dataframe tbody tr th {\n",
       "        vertical-align: top;\n",
       "    }\n",
       "\n",
       "    .dataframe thead th {\n",
       "        text-align: right;\n",
       "    }\n",
       "</style>\n",
       "<table border=\"1\" class=\"dataframe\">\n",
       "  <thead>\n",
       "    <tr style=\"text-align: right;\">\n",
       "      <th></th>\n",
       "      <th>title</th>\n",
       "      <th>text</th>\n",
       "    </tr>\n",
       "  </thead>\n",
       "  <tbody>\n",
       "    <tr>\n",
       "      <th>4</th>\n",
       "      <td>My High School Transformation! 185 lb Fat Fres...</td>\n",
       "      <td>At the end of my Freshman year of high school,...</td>\n",
       "    </tr>\n",
       "  </tbody>\n",
       "</table>\n",
       "</div>"
      ],
      "text/plain": [
       "                                               title  \\\n",
       "4  My High School Transformation! 185 lb Fat Fres...   \n",
       "\n",
       "                                                text  \n",
       "4  At the end of my Freshman year of high school,...  "
      ]
     },
     "execution_count": 285,
     "metadata": {},
     "output_type": "execute_result"
    }
   ],
   "source": [
    "data[['title', 'text']][4:5].agg(lambda a: a[:])"
   ]
  },
  {
   "cell_type": "markdown",
   "metadata": {},
   "source": [
    "#### Length of posts per subreddit category"
   ]
  },
  {
   "cell_type": "code",
   "execution_count": 286,
   "metadata": {},
   "outputs": [],
   "source": [
    "data1 = data.copy()\n",
    "data1['joint_text'] = data[['title', 'text']].agg(' '.join, axis=1).str.replace(\n",
    "        \"[^\\w\\s']\",' ').str.lower().apply(\n",
    "        lambda row: ' '.join(row.split()))\n",
    "\n",
    "data1['text_length'] = data1['joint_text'].apply(lambda row: len(row))"
   ]
  },
  {
   "cell_type": "code",
   "execution_count": 287,
   "metadata": {},
   "outputs": [
    {
     "data": {
      "image/png": "[encoded data removed]",
      "text/plain": [
       "<Figure size 576x288 with 1 Axes>"
      ]
     },
     "metadata": {
      "needs_background": "light"
     },
     "output_type": "display_data"
    }
   ],
   "source": [
    "ax = sns.catplot(x=data1['subreddit_name'].astype('category').cat.codes, \n",
    "    y= 'text_length', data = data1, height=4, aspect=8/4)\n",
    "ax.set(xlabel='Subreddit Category', ylabel='Length of posts')\n",
    "ax.set(xticklabels=[])\n",
    "ax.savefig('post7_postlength.png')\n",
    "plt.show()"
   ]
  },
  {
   "cell_type": "markdown",
   "metadata": {},
   "source": [
    "**Average of the post length per category**"
   ]
  },
  {
   "cell_type": "code",
   "execution_count": 288,
   "metadata": {},
   "outputs": [
    {
     "data": {
      "image/png": "[encoded data removed]",
      "text/plain": [
       "<Figure size 576x288 with 1 Axes>"
      ]
     },
     "metadata": {
      "needs_background": "light"
     },
     "output_type": "display_data"
    }
   ],
   "source": [
    "post_mean = data1.groupby(by='subreddit_name').apply(lambda x: x['text_length'].mean())\n",
    "plt.figure(figsize=(8,4))\n",
    "ax = sns.barplot(x=post_mean.index, y=post_mean.values)\n",
    "ax.set(xlabel='Subreddit Category', ylabel='Average length of posts')\n",
    "ax.set(xticklabels=[])\n",
    "fig = ax.get_figure()\n",
    "fig.savefig('post7_postlength_avg.png')\n",
    "plt.show()"
   ]
  },
  {
   "cell_type": "code",
   "execution_count": 289,
   "metadata": {
    "colab": {},
    "colab_type": "code",
    "id": "frWf31V5-XF5"
   },
   "outputs": [],
   "source": [
    "def wrangle(data, text_len_min=100, subreddit_num=50):\n",
    "    \"\"\"\n",
    "    data: dataframe containg the subreddits and their categories\n",
    "    text_len_min: minimum length of subreddit text required to be analyzed\n",
    "    statistical trimming:\n",
    "    subreddit_num: sampled number of subreddit posts in each category\n",
    "    \"\"\"\n",
    "    print(\"\\n original data shape: \", data.shape)\n",
    "\n",
    "    # converting the title and text columns to string type\n",
    "    data[['title', 'text']] = data[['title', 'text']].astype('str')\n",
    "    \n",
    "    # Pandas Series.agg() is used to pass a function or list of function to be \n",
    "    # applied on a series or even each element of series separately.\n",
    "    # merge title and text. ' '.join is a function\n",
    "    data['joint_text'] = data[['title', 'text']].agg(' '.join, axis=1)\n",
    "\n",
    "    # filter out non word and non space characters.\n",
    "    # lower case the text and remove extra spaces\n",
    "    data['joint_text'] = data['joint_text'].str.replace(\n",
    "        \"[^\\w\\s']\",' ').str.lower().apply(\n",
    "        lambda row: ' '.join(row.split()))\n",
    "    \n",
    "    # filter out the rows with no significant subreddit text\n",
    "    data = data[[len(i)>text_len_min for i in data['joint_text']]]\n",
    "    print(f\"\\n data shape after filter of length > {text_len_min}:\")\n",
    "    print(data.shape)\n",
    "\n",
    "    # Plot the frequency of subreddit_id in the data set\n",
    "    subid_count = data['subreddit_id'].value_counts(ascending=False)\n",
    "    plt.figure(figsize=(12,5))\n",
    "    # y axis is density plot\n",
    "    # y is the count of subreddit categories with a certain mumber\n",
    "    # of redit posts as ignified on x axis.\n",
    "    sns.distplot(a=subid_count, kde=False)\n",
    "    plt.title('''# of subreddit categories for bins of \"# of posts\n",
    "    \\nafter filtering out short posts''')\n",
    "    plt.xlabel('bin of # of posts')\n",
    "    plt.ylabel(\"# of subreddit categories for bins of posts counts\")\n",
    "\n",
    "    \"\"\"\n",
    "    pandas.core.groupby.DataFrameGroupBy.filter(func=)\n",
    "    Return a copy of a DataFrame excluding elements from groups \n",
    "    that do not satisfy the boolean criterion specified by func.\n",
    "    func: Function to apply to each subframe(dataframe group). Should return True or False.\n",
    "    \n",
    "    don't confuse this with dataframe.filter(items=)\n",
    "    \"\"\"\n",
    "    # filter out the subreddit_ids with low count of posts\n",
    "    data = data.groupby(by='subreddit_id').filter(\n",
    "        lambda x: (x['subreddit_id'].value_counts() > subreddit_num))\n",
    "    print(f\"\\ndata shape after dropping low counts subreddit names: {subreddit_num}\")\n",
    "    print(data.shape)\n",
    "\n",
    "\n",
    "    # Sample a fixed number of posts from each category\n",
    "    df = data.groupby(by='subreddit_id', as_index=False).apply(\n",
    "        lambda x: x.sample(n=subreddit_num, replace=False, random_state=1)).reset_index(\n",
    "        level=0, drop=True)\n",
    "    print(f\"\\ndf shape after sampling {subreddit_num} posts per subreddit category\")\n",
    "    print(df.shape)\n",
    "\n",
    "    # Number of subreddit categories to classify on\n",
    "    print(f\"\\n# of subreddit categories: {len(df['subreddit_id'].value_counts())}\")\n",
    "\n",
    "    return data, df"
   ]
  },
  {
   "cell_type": "code",
   "execution_count": 292,
   "metadata": {
    "colab": {
     "base_uri": "https://localhost:8080/",
     "height": 571
    },
    "colab_type": "code",
    "id": "z_t-n80GHvDH",
    "outputId": "fbd1ca9f-cd89-4203-8f60-00eaa39f6cc2"
   },
   "outputs": [
    {
     "name": "stdout",
     "output_type": "stream",
     "text": [
      "\n",
      " original data shape:  (51610, 4)\n",
      "\n",
      " data shape after filter of length > 100:\n",
      "(20918, 5)\n",
      "\n",
      "data shape after dropping low counts subreddit names: 100\n",
      "(20368, 5)\n",
      "\n",
      "df shape after sampling 100 posts per subreddit category\n",
      "(4400, 5)\n",
      "\n",
      "# of subreddit categories: 44\n"
     ]
    },
    {
     "name": "stderr",
     "output_type": "stream",
     "text": [
      "/Users/gholami/anaconda3/envs/SubReddit/lib/python3.8/site-packages/seaborn/distributions.py:2551: FutureWarning: `distplot` is a deprecated function and will be removed in a future version. Please adapt your code to use either `displot` (a figure-level function with similar flexibility) or `histplot` (an axes-level function for histograms).\n",
      "  warnings.warn(msg, FutureWarning)\n"
     ]
    },
    {
     "data": {
      "image/png": "[encoded data removed]",
      "text/plain": [
       "<Figure size 864x360 with 1 Axes>"
      ]
     },
     "metadata": {
      "needs_background": "light"
     },
     "output_type": "display_data"
    }
   ],
   "source": [
    "data, df = wrangle(data, text_len_min=100, subreddit_num=100);"
   ]
  },
  {
   "cell_type": "code",
   "execution_count": 293,
   "metadata": {
    "colab": {
     "base_uri": "https://localhost:8080/",
     "height": 306
    },
    "colab_type": "code",
    "id": "22DRCLaQTQKr",
    "outputId": "63c2fcc3-f78c-42cf-de51-29807ff907d7"
   },
   "outputs": [
    {
     "name": "stdout",
     "output_type": "stream",
     "text": [
      "(4400, 5)\n"
     ]
    },
    {
     "data": {
      "text/html": [
       "<div>\n",
       "<style scoped>\n",
       "    .dataframe tbody tr th:only-of-type {\n",
       "        vertical-align: middle;\n",
       "    }\n",
       "\n",
       "    .dataframe tbody tr th {\n",
       "        vertical-align: top;\n",
       "    }\n",
       "\n",
       "    .dataframe thead th {\n",
       "        text-align: right;\n",
       "    }\n",
       "</style>\n",
       "<table border=\"1\" class=\"dataframe\">\n",
       "  <thead>\n",
       "    <tr style=\"text-align: right;\">\n",
       "      <th></th>\n",
       "      <th>subreddit_name</th>\n",
       "      <th>subreddit_id</th>\n",
       "      <th>title</th>\n",
       "      <th>text</th>\n",
       "      <th>joint_text</th>\n",
       "    </tr>\n",
       "  </thead>\n",
       "  <tbody>\n",
       "    <tr>\n",
       "      <th>48039</th>\n",
       "      <td>personalfinance</td>\n",
       "      <td>2qstm</td>\n",
       "      <td>Beware Other Ally Bank Users</td>\n",
       "      <td>Recently my bank card was somehow comprised an...</td>\n",
       "      <td>beware other ally bank users recently my bank ...</td>\n",
       "    </tr>\n",
       "    <tr>\n",
       "      <th>12588</th>\n",
       "      <td>travel</td>\n",
       "      <td>2qh41</td>\n",
       "      <td>The amazing view from my Airbnb's bedroom wind...</td>\n",
       "      <td></td>\n",
       "      <td>the amazing view from my airbnb's bedroom wind...</td>\n",
       "    </tr>\n",
       "    <tr>\n",
       "      <th>34418</th>\n",
       "      <td>socialskills</td>\n",
       "      <td>2r275</td>\n",
       "      <td>Does anyone else feel like their public and pr...</td>\n",
       "      <td>Im not sure how to accurately describe what im...</td>\n",
       "      <td>does anyone else feel like their public and pr...</td>\n",
       "    </tr>\n",
       "    <tr>\n",
       "      <th>34364</th>\n",
       "      <td>Coronavirus</td>\n",
       "      <td>2x4yx</td>\n",
       "      <td>Several states in Mexico are running out of de...</td>\n",
       "      <td></td>\n",
       "      <td>several states in mexico are running out of de...</td>\n",
       "    </tr>\n",
       "    <tr>\n",
       "      <th>21619</th>\n",
       "      <td>history</td>\n",
       "      <td>2qh53</td>\n",
       "      <td>Interactive 360 of Halifax Explosion. 1917. La...</td>\n",
       "      <td></td>\n",
       "      <td>interactive 360 of halifax explosion 1917 larg...</td>\n",
       "    </tr>\n",
       "  </tbody>\n",
       "</table>\n",
       "</div>"
      ],
      "text/plain": [
       "        subreddit_name subreddit_id  \\\n",
       "48039  personalfinance        2qstm   \n",
       "12588           travel        2qh41   \n",
       "34418     socialskills        2r275   \n",
       "34364      Coronavirus        2x4yx   \n",
       "21619          history        2qh53   \n",
       "\n",
       "                                                   title  \\\n",
       "48039                       Beware Other Ally Bank Users   \n",
       "12588  The amazing view from my Airbnb's bedroom wind...   \n",
       "34418  Does anyone else feel like their public and pr...   \n",
       "34364  Several states in Mexico are running out of de...   \n",
       "21619  Interactive 360 of Halifax Explosion. 1917. La...   \n",
       "\n",
       "                                                    text  \\\n",
       "48039  Recently my bank card was somehow comprised an...   \n",
       "12588                                                      \n",
       "34418  Im not sure how to accurately describe what im...   \n",
       "34364                                                      \n",
       "21619                                                      \n",
       "\n",
       "                                              joint_text  \n",
       "48039  beware other ally bank users recently my bank ...  \n",
       "12588  the amazing view from my airbnb's bedroom wind...  \n",
       "34418  does anyone else feel like their public and pr...  \n",
       "34364  several states in mexico are running out of de...  \n",
       "21619  interactive 360 of halifax explosion 1917 larg...  "
      ]
     },
     "execution_count": 293,
     "metadata": {},
     "output_type": "execute_result"
    }
   ],
   "source": [
    "print(df.shape)\n",
    "df.sample(n=5, axis=0)"
   ]
  },
  {
   "cell_type": "code",
   "execution_count": 296,
   "metadata": {
    "colab": {
     "base_uri": "https://localhost:8080/",
     "height": 187
    },
    "colab_type": "code",
    "id": "-MMcDs2isr5F",
    "outputId": "3f5b056d-97b3-4782-d77f-67159ddede24"
   },
   "outputs": [
    {
     "name": "stdout",
     "output_type": "stream",
     "text": [
      "44\n"
     ]
    },
    {
     "data": {
      "text/plain": [
       "array(['politics', 'programming', 'sports', 'gaming', 'entertainment',\n",
       "       'math', 'worldnews', 'technology', 'AskReddit', 'Music', 'scifi',\n",
       "       'news', 'movies', 'travel', 'books', 'conspiracy', 'history',\n",
       "       'television', 'Design', 'DIY', 'Cooking', 'space', 'worldpolitics',\n",
       "       'Health', 'investing', 'cars', 'Documentaries', 'Parenting',\n",
       "       'biology', 'literature', 'Fitness', 'camping', 'HomeImprovement',\n",
       "       'personalfinance', 'announcements', 'socialskills',\n",
       "       'TwoXChromosomes', 'MachineLearning', 'LifeProTips',\n",
       "       'Showerthoughts', 'JusticeServed', 'Coronavirus', 'PublicFreakout',\n",
       "       'science'], dtype=object)"
      ]
     },
     "execution_count": 296,
     "metadata": {},
     "output_type": "execute_result"
    }
   ],
   "source": [
    "print(df['subreddit_name'].nunique())\n",
    "df['subreddit_name'].unique()"
   ]
  },
  {
   "cell_type": "code",
   "execution_count": 297,
   "metadata": {},
   "outputs": [
    {
     "data": {
      "text/plain": [
       "(4400, 5)"
      ]
     },
     "execution_count": 297,
     "metadata": {},
     "output_type": "execute_result"
    }
   ],
   "source": [
    "df.shape"
   ]
  },
  {
   "cell_type": "markdown",
   "metadata": {
    "colab_type": "text",
    "id": "qCIs13xSUGkw"
   },
   "source": [
    "### Train and test data"
   ]
  },
  {
   "cell_type": "code",
   "execution_count": 298,
   "metadata": {
    "colab": {
     "base_uri": "https://localhost:8080/",
     "height": 34
    },
    "colab_type": "code",
    "id": "scjeu5zioL6_",
    "outputId": "543f173d-f47d-46c4-cde6-a2c6f9318061"
   },
   "outputs": [
    {
     "data": {
      "text/plain": [
       "((3520,), (3520,))"
      ]
     },
     "execution_count": 298,
     "metadata": {},
     "output_type": "execute_result"
    }
   ],
   "source": [
    "from sklearn.model_selection import train_test_split\n",
    "\n",
    "#split dataset into train and test data\n",
    "X_train, X_test, y_train, y_test = train_test_split(df['joint_text'], df['subreddit_name'], \n",
    "                                                    test_size=0.2, \n",
    "                                                    random_state=110, \n",
    "                                                    shuffle=True,\n",
    "                                                    stratify = df['subreddit_name'])\n",
    "\n",
    "X_train.shape, y_train.shape"
   ]
  },
  {
   "cell_type": "markdown",
   "metadata": {
    "colab_type": "text",
    "id": "2XC3Z_YtVf1W"
   },
   "source": [
    "## Pipeline of Spacy embedding and various classifiers"
   ]
  },
  {
   "cell_type": "code",
   "execution_count": 33,
   "metadata": {
    "colab": {},
    "colab_type": "code",
    "id": "pH16Sq9dR_Hi"
   },
   "outputs": [],
   "source": [
    "from sklearn.neighbors import KNeighborsClassifier\n",
    "from sklearn.model_selection import RandomizedSearchCV, GridSearchCV\n",
    "from sklearn.pipeline import Pipeline\n",
    "\n",
    "from sklearn.ensemble import GradientBoostingClassifier\n",
    "import numpy as np\n",
    "from scipy.stats import randint\n",
    "from sklearn.preprocessing import FunctionTransformer\n",
    "from xgboost import XGBClassifier"
   ]
  },
  {
   "cell_type": "markdown",
   "metadata": {
    "colab_type": "text",
    "id": "fzqAzWsXb0VU"
   },
   "source": [
    "### Classifiers"
   ]
  },
  {
   "cell_type": "code",
   "execution_count": 34,
   "metadata": {
    "colab": {},
    "colab_type": "code",
    "id": "c_gyEGC6SCaL"
   },
   "outputs": [],
   "source": [
    "# NearestNeighbors is the same as the classifier one but unsupervised\n",
    "knc = KNeighborsClassifier(n_neighbors = 15, radius=1.0, algorithm='auto', \n",
    "                           leaf_size=30, metric='minkowski', p=2, n_jobs=7)"
   ]
  },
  {
   "cell_type": "code",
   "execution_count": 35,
   "metadata": {
    "colab": {},
    "colab_type": "code",
    "id": "VU1qanc8ZYvJ"
   },
   "outputs": [],
   "source": [
    "# GradientBoostingClassifier\n",
    "gbc = GradientBoostingClassifier(loss='deviance', learning_rate=0.1, n_estimators=100, \n",
    "                               subsample=1.0, criterion='friedman_mse', min_samples_split=2, \n",
    "                               min_samples_leaf=1, min_weight_fraction_leaf=0.0, \n",
    "                               max_depth=3, min_impurity_decrease=0.0, min_impurity_split=None, \n",
    "                               init=None, random_state=None, max_features=None, verbose=0, \n",
    "                               max_leaf_nodes=None, warm_start=False, presort='deprecated', \n",
    "                               validation_fraction=0.1, n_iter_no_change=None, tol=0.0001, ccp_alpha=0.0)"
   ]
  },
  {
   "cell_type": "code",
   "execution_count": 36,
   "metadata": {
    "colab": {},
    "colab_type": "code",
    "id": "_KnmiR1_bseF"
   },
   "outputs": [],
   "source": [
    "# XGBoost\n",
    "# It can handle NaNs\n",
    "xgbc = XGBClassifier(max_depth=6, learning_rate=0.3, n_estimators=100, random_state=42,\n",
    "                  verbosity=1, objective='reg:logistic', booster='gbtree', n_jobs=4,\n",
    "                  min_split_loss=0, subsample=0.5, sampling_method='uniform',\n",
    "                  tree_method='auto', num_parallel_tree=1, eval_metric='merror')"
   ]
  },
  {
   "cell_type": "markdown",
   "metadata": {
    "colab_type": "text",
    "id": "nmyJ8Avdbuks"
   },
   "source": [
    "### Parameter distributions"
   ]
  },
  {
   "cell_type": "code",
   "execution_count": 37,
   "metadata": {
    "colab": {},
    "colab_type": "code",
    "id": "3ag0lAOPS0RM"
   },
   "outputs": [],
   "source": [
    "# KN Classifier Parameters\n",
    "algorithm_knc = ['ball_tree', 'kd_tree']\n",
    "leaf_size_knc = range(30,150,30)\n",
    "p_knc = [1, 2]\n",
    "\n",
    "param_dist_knc = {\n",
    "    'clf__algorithm': algorithm_knc, \n",
    "    'clf__leaf_size': leaf_size_knc, \n",
    "    'clf__p': p_knc\n",
    "    }"
   ]
  },
  {
   "cell_type": "code",
   "execution_count": 38,
   "metadata": {
    "colab": {
     "base_uri": "https://localhost:8080/",
     "height": 34
    },
    "colab_type": "code",
    "id": "x2Au-X4ToZb7",
    "outputId": "93478a26-ebf5-4eac-e6fd-b6e74c6f473b"
   },
   "outputs": [
    {
     "data": {
      "text/plain": [
       "array([ 5, 10, 15, 20, 25])"
      ]
     },
     "execution_count": 38,
     "metadata": {},
     "output_type": "execute_result"
    }
   ],
   "source": [
    "np.logspace(2, 3, num=5, endpoint=False, base=10).astype(int)\n",
    "np.arange(5,30,5)"
   ]
  },
  {
   "cell_type": "code",
   "execution_count": 39,
   "metadata": {
    "colab": {},
    "colab_type": "code",
    "id": "gr1S6eVhZYvR"
   },
   "outputs": [],
   "source": [
    "# Gradient Boost Classifier Parameters\n",
    "max_features_gbc = np.arange(5,30,5)\n",
    "max_depth_gbc = range(4,16,4)\n",
    "min_samples_split_gbc = np.linspace(2, 20, 10, endpoint=True).astype(int)\n",
    "min_samples_leaf_gbc = np.linspace(2, 20, 10, endpoint=True).astype(int)\n",
    "\n",
    "param_dist_gbc = {\n",
    "    'clf__max_features': max_features_gbc, \n",
    "    'clf__max_depth': max_depth_gbc, \n",
    "    'clf__min_samples_split': min_samples_split_gbc, \n",
    "    'clf__min_samples_leaf': min_samples_leaf_gbc,\n",
    "    }"
   ]
  },
  {
   "cell_type": "code",
   "execution_count": 40,
   "metadata": {
    "colab": {},
    "colab_type": "code",
    "id": "En4RvWyCZXam"
   },
   "outputs": [],
   "source": [
    "# XGBC Parameters\n",
    "colsample_bytree_xgbc = np.arange(0.5,1.01,0.1)\n",
    "max_depth_xgbc = range(2,16,2)\n",
    "min_child_weight_xgbc = np.linspace(1, 40, 10, endpoint=True).astype(int)\n",
    "learning_rate_xgbc = [0.01, 0.1, 0.3]\n",
    "n_estimators_xgbc = [100, 250, 500]\n",
    "\n",
    "param_dist_xgbc = {\n",
    "    'clf__colsample_bytree': colsample_bytree_xgbc, \n",
    "    'clf__max_depth': max_depth_xgbc, \n",
    "    'clf__min_child_weight': min_child_weight_xgbc, \n",
    "    'clf__learning_rate': learning_rate_xgbc,\n",
    "    'clf__n_estimators': n_estimators_xgbc\n",
    "    }"
   ]
  },
  {
   "cell_type": "markdown",
   "metadata": {
    "colab_type": "text",
    "id": "3k2XQZ7jeI0u"
   },
   "source": [
    "### Spacy Embedding"
   ]
  },
  {
   "cell_type": "code",
   "execution_count": 41,
   "metadata": {
    "colab": {},
    "colab_type": "code",
    "id": "z74d5vjudEsI"
   },
   "outputs": [],
   "source": [
    "import spacy\n",
    "from spacy.tokenizer import Tokenizer\n",
    "from spacy.lang.en.stop_words import STOP_WORDS\n",
    "#Create the nlp object\n",
    "nlp = spacy.load(\"en_core_web_md\")"
   ]
  },
  {
   "cell_type": "code",
   "execution_count": 42,
   "metadata": {
    "colab": {},
    "colab_type": "code",
    "id": "Gw_B3lRCdFf_"
   },
   "outputs": [],
   "source": [
    "# Spacy embedding\n",
    "def get_word_vectors(docs):\n",
    "    \"\"\"\n",
    "    docs: can be string or a list of strings\n",
    "    \"\"\"\n",
    "    if isinstance(docs, str):\n",
    "      docs = [docs]\n",
    "    return np.array([nlp(str(doc)).vector for doc in docs])"
   ]
  },
  {
   "cell_type": "code",
   "execution_count": 43,
   "metadata": {
    "colab": {},
    "colab_type": "code",
    "id": "8JJtoPgXdFgD"
   },
   "outputs": [],
   "source": [
    "# Instantiate functiontransformer of the spacy vectorizer\n",
    "embed = FunctionTransformer(get_word_vectors)"
   ]
  },
  {
   "cell_type": "code",
   "execution_count": 44,
   "metadata": {
    "colab": {},
    "colab_type": "code",
    "id": "_sg5_o4ihj2M"
   },
   "outputs": [],
   "source": [
    "est_dict = {\n",
    "    'gbc': [gbc, param_dist_gbc],\n",
    "    'xgbc': [xgbc, param_dist_xgbc],\n",
    "    'knc': [knc, param_dist_knc]\n",
    "            }"
   ]
  },
  {
   "cell_type": "markdown",
   "metadata": {
    "colab_type": "text",
    "id": "ReixjW2uu5cm"
   },
   "source": [
    "- When running RandomizedSearchCV with Spacy we may get a error that workers cannot work with unpickled file. We need to set the n_jobs=1 instead of parallel processing.\n",
    "\n",
    "- To speed up the simulation we can do the Spacy embedding outside of the pipeline and feed the embedded X into the model instead of the text ndarray. The drawback is for prediction we would need to preprocess the input as well to embed the query before passing it to the trained model.\n"
   ]
  },
  {
   "cell_type": "code",
   "execution_count": 45,
   "metadata": {
    "colab": {
     "base_uri": "https://localhost:8080/",
     "height": 445
    },
    "colab_type": "code",
    "id": "onuJzVUtgyAX",
    "outputId": "4af03d53-ac2e-41d2-99a1-17634a1d7db3"
   },
   "outputs": [
    {
     "name": "stdout",
     "output_type": "stream",
     "text": [
      "\n",
      " *****  fitting gbc  estimator.....  *****\n",
      "Fitting 2 folds for each of 4 candidates, totalling 8 fits\n"
     ]
    },
    {
     "name": "stderr",
     "output_type": "stream",
     "text": [
      "[Parallel(n_jobs=1)]: Using backend SequentialBackend with 1 concurrent workers.\n",
      "[Parallel(n_jobs=1)]: Done   8 out of   8 | elapsed: 22.2min finished\n"
     ]
    },
    {
     "name": "stdout",
     "output_type": "stream",
     "text": [
      "best params:  {'clf__min_samples_split': 2, 'clf__min_samples_leaf': 18, 'clf__max_features': 15, 'clf__max_depth': 12}\n",
      "best score:  0.49375\n",
      "Test score:  0.5238636363636363\n",
      "\n",
      " *****  fitting xgbc  estimator.....  *****\n",
      "Fitting 2 folds for each of 4 candidates, totalling 8 fits\n"
     ]
    },
    {
     "name": "stderr",
     "output_type": "stream",
     "text": [
      "[Parallel(n_jobs=1)]: Using backend SequentialBackend with 1 concurrent workers.\n",
      "/Users/gholami/anaconda3/envs/SubReddit/lib/python3.8/site-packages/xgboost/sklearn.py:888: UserWarning: The use of label encoder in XGBClassifier is deprecated and will be removed in a future release. To remove this warning, do the following: 1) Pass option use_label_encoder=False when constructing XGBClassifier object; and 2) Encode your labels (y) as integers starting with 0, i.e. 0, 1, 2, ..., [num_class - 1].\n",
      "  warnings.warn(label_encoder_deprecation_msg, UserWarning)\n",
      "[Parallel(n_jobs=1)]: Done   8 out of   8 | elapsed: 14.7min finished\n"
     ]
    },
    {
     "name": "stdout",
     "output_type": "stream",
     "text": [
      "best params:  {'clf__n_estimators': 500, 'clf__min_child_weight': 5, 'clf__max_depth': 8, 'clf__learning_rate': 0.1, 'clf__colsample_bytree': 0.7999999999999999}\n",
      "best score:  0.5159090909090909\n",
      "Test score:  0.5625\n",
      "\n",
      " *****  fitting knc  estimator.....  *****\n",
      "Fitting 2 folds for each of 4 candidates, totalling 8 fits\n"
     ]
    },
    {
     "name": "stderr",
     "output_type": "stream",
     "text": [
      "[Parallel(n_jobs=1)]: Using backend SequentialBackend with 1 concurrent workers.\n",
      "[Parallel(n_jobs=1)]: Done   8 out of   8 | elapsed: 10.8min finished\n"
     ]
    },
    {
     "name": "stdout",
     "output_type": "stream",
     "text": [
      "best params:  {'clf__p': 1, 'clf__leaf_size': 30, 'clf__algorithm': 'kd_tree'}\n",
      "best score:  0.31051136363636367\n",
      "Test score:  0.3386363636363636\n"
     ]
    }
   ],
   "source": [
    "est = {}\n",
    "for key, value in est_dict.items():\n",
    "  clfi = value[0]\n",
    "  # print(clfi, type(clfi))\n",
    "  param_dist = value[1]\n",
    "  \n",
    "  # spacy embedding can be taken out of the pipeline to save time in hyperparameter tunning\n",
    "  pipe = Pipeline([\n",
    "                   ('emb', embed), \n",
    "                   ('clf', clfi)])\n",
    "  \n",
    "  est[\"{0}_est\".format(key)] = RandomizedSearchCV(pipe, \n",
    "                                                  param_distributions=param_dist, \n",
    "                                                  n_iter=4, cv=2, verbose=1)\n",
    "  \n",
    "  print('\\n', 5*'*',' fitting',key, ' estimator..... ',5*'*')\n",
    "  est[\"{0}_est\".format(key)].fit(X_train.values, y_train.values)\n",
    "  print(\"best params: \",est[\"{0}_est\".format(key)].best_params_)\n",
    "  print(\"best score: \",est[\"{0}_est\".format(key)].best_score_)\n",
    "  print(\"Test score: \",est[\"{0}_est\".format(key)].score(X_test.values, y_test.values))\n"
   ]
  },
  {
   "cell_type": "markdown",
   "metadata": {
    "colab_type": "text",
    "id": "5QDMtHATwguM"
   },
   "source": [
    "Baseline Accuracy"
   ]
  },
  {
   "cell_type": "code",
   "execution_count": 46,
   "metadata": {
    "colab": {
     "base_uri": "https://localhost:8080/",
     "height": 34
    },
    "colab_type": "code",
    "id": "y4qbqDTOwQW7",
    "outputId": "79d59e86-f5f0-4c0c-e72f-aceb87999b6e"
   },
   "outputs": [
    {
     "data": {
      "text/plain": [
       "0.022727272727272728"
      ]
     },
     "execution_count": 46,
     "metadata": {},
     "output_type": "execute_result"
    }
   ],
   "source": [
    "baseline = 1/ len(df['subreddit_id'].value_counts())\n",
    "baseline"
   ]
  },
  {
   "cell_type": "code",
   "execution_count": 47,
   "metadata": {
    "colab": {
     "base_uri": "https://localhost:8080/",
     "height": 190
    },
    "colab_type": "code",
    "id": "Jgocdq7XFv0h",
    "outputId": "f660fdd5-25b0-466e-8b6d-e1c6bd916d20"
   },
   "outputs": [
    {
     "name": "stdout",
     "output_type": "stream",
     "text": [
      "knc best_params: {'clf__p': 1, 'clf__leaf_size': 30, 'clf__algorithm': 'kd_tree'}, \n",
      "best score: 0.31051136363636367\n",
      "\n",
      "gbc best_params: {'clf__min_samples_split': 2, 'clf__min_samples_leaf': 18, 'clf__max_features': 15, 'clf__max_depth': 12}, \n",
      "best score: 0.49375\n",
      "\n",
      "xgbc best_params: {'clf__n_estimators': 500, 'clf__min_child_weight': 5, 'clf__max_depth': 8, 'clf__learning_rate': 0.1, 'clf__colsample_bytree': 0.7999999999999999}, \n",
      "best score: 0.5159090909090909\n",
      "\n"
     ]
    }
   ],
   "source": [
    "print(f\"knc best_params: {est['knc_est'].best_params_}, \\nbest score: {est['knc_est'].best_score_}\\n\")\n",
    "print(f\"gbc best_params: {est['gbc_est'].best_params_}, \\nbest score: {est['gbc_est'].best_score_}\\n\")\n",
    "print(f\"xgbc best_params: {est['xgbc_est'].best_params_}, \\nbest score: {est['xgbc_est'].best_score_}\\n\")"
   ]
  },
  {
   "cell_type": "code",
   "execution_count": 48,
   "metadata": {
    "colab": {},
    "colab_type": "code",
    "id": "RnmMlTABclok"
   },
   "outputs": [],
   "source": [
    "knc_best = est['knc_est'].best_estimator_"
   ]
  },
  {
   "cell_type": "code",
   "execution_count": 49,
   "metadata": {
    "colab": {
     "base_uri": "https://localhost:8080/",
     "height": 595
    },
    "colab_type": "code",
    "id": "0kp2NDojcymL",
    "outputId": "61832a26-c43b-4f6e-c572-139d1a584b11"
   },
   "outputs": [
    {
     "data": {
      "text/plain": [
       "{'gbc': [GradientBoostingClassifier(),\n",
       "  {'clf__max_features': array([ 5, 10, 15, 20, 25]),\n",
       "   'clf__max_depth': range(4, 16, 4),\n",
       "   'clf__min_samples_split': array([ 2,  4,  6,  8, 10, 12, 14, 16, 18, 20]),\n",
       "   'clf__min_samples_leaf': array([ 2,  4,  6,  8, 10, 12, 14, 16, 18, 20])}],\n",
       " 'xgbc': [XGBClassifier(base_score=None, booster='gbtree', colsample_bylevel=None,\n",
       "                colsample_bynode=None, colsample_bytree=None,\n",
       "                eval_metric='merror', gamma=None, gpu_id=None,\n",
       "                importance_type='gain', interaction_constraints=None,\n",
       "                learning_rate=0.3, max_delta_step=None, max_depth=6,\n",
       "                min_child_weight=None, min_split_loss=0, missing=nan,\n",
       "                monotone_constraints=None, n_estimators=100, n_jobs=4,\n",
       "                num_parallel_tree=1, objective='reg:logistic', random_state=42,\n",
       "                reg_alpha=None, reg_lambda=None, sampling_method='uniform',\n",
       "                scale_pos_weight=None, subsample=0.5, tree_method='auto',\n",
       "                validate_parameters=None, verbosity=1),\n",
       "  {'clf__colsample_bytree': array([0.5, 0.6, 0.7, 0.8, 0.9, 1. ]),\n",
       "   'clf__max_depth': range(2, 16, 2),\n",
       "   'clf__min_child_weight': array([ 1,  5,  9, 14, 18, 22, 27, 31, 35, 40]),\n",
       "   'clf__learning_rate': [0.01, 0.1, 0.3],\n",
       "   'clf__n_estimators': [100, 250, 500]}],\n",
       " 'knc': [KNeighborsClassifier(n_jobs=7, n_neighbors=15),\n",
       "  {'clf__algorithm': ['ball_tree', 'kd_tree'],\n",
       "   'clf__leaf_size': range(30, 150, 30),\n",
       "   'clf__p': [1, 2]}]}"
      ]
     },
     "execution_count": 49,
     "metadata": {},
     "output_type": "execute_result"
    }
   ],
   "source": [
    "est_dict"
   ]
  },
  {
   "cell_type": "markdown",
   "metadata": {
    "colab_type": "text",
    "id": "nPGQp-jydtBt"
   },
   "source": [
    "*Best estimators (pipeline) after hyper parameter tunning*"
   ]
  },
  {
   "cell_type": "code",
   "execution_count": 50,
   "metadata": {
    "colab": {},
    "colab_type": "code",
    "id": "N4wjJ3-OcfxJ"
   },
   "outputs": [],
   "source": [
    "est_best = {}\n",
    "for key in est_dict:\n",
    "  est_best[key] = est['{0}_est'.format(key)].best_estimator_"
   ]
  },
  {
   "cell_type": "code",
   "execution_count": 51,
   "metadata": {
    "colab": {},
    "colab_type": "code",
    "id": "YjUc-XRIdarN"
   },
   "outputs": [],
   "source": [
    "# Convert input string to embedded vector\n",
    "def preprocess(query, vectorize):\n",
    "  \"\"\"\n",
    "  Vectorizes the 'query' string by spacy pretrained model (nlp). \n",
    "  the return value serves as a query to the prediction model\n",
    "  \"\"\"\n",
    "  return vectorize(query).reshape(1,-1)\n",
    "\n",
    "# Accessing the neighbors() method of the KNClassifier of the trained pipeline estimator \n",
    "def knneighbors(clf, input, X_train, y_train):\n",
    "  \"\"\"\n",
    "  input: a string type text or vectorized array or an iterable data type\n",
    "  return: Dataframe of nearest neighbors and their subreddit categories\n",
    "  \"\"\"\n",
    "  results = clf.kneighbors(input)\n",
    "  neighbors_idx, neighbors_dist = results[1][0], results[0][0]\n",
    "  neighbors_df = pd.concat([X_train.iloc[neighbors_idx], y_train.iloc[neighbors_idx]], axis=1)\n",
    "  return neighbors_df"
   ]
  },
  {
   "cell_type": "markdown",
   "metadata": {
    "colab_type": "text",
    "id": "6vlCP_hffZjb"
   },
   "source": [
    "*prediction function to get the list of predicted subreddit categories*"
   ]
  },
  {
   "cell_type": "code",
   "execution_count": 52,
   "metadata": {
    "colab": {},
    "colab_type": "code",
    "id": "Jta_VvKtR_UL"
   },
   "outputs": [],
   "source": [
    "def prediction(model, input, n):\n",
    "  \"\"\"\n",
    "  input: text string or iterable dtype (list, np.array, vectorized array)as input\n",
    "  model: trained model with predict_proba method\n",
    "  returns a pandas series containing the recommended subreddit names\n",
    "  \"\"\"\n",
    "  # Return whether an object is an instance of a class \n",
    "  if isinstance(input, str):\n",
    "    input = [input]\n",
    "  # probability of each class\n",
    "  proba = model.predict_proba(input)\n",
    "  # print(proba.shape)\n",
    "\n",
    "  # index of the highest probable classes in descending order\n",
    "  # i[0] is index and i[1] is probability\n",
    "  index_max = [i[0] for i in sorted(enumerate(proba[0]), key=lambda x:x[1])][::-1]\n",
    "  \n",
    "  # Alternative way\n",
    "  # index_max = proba[0].argsort()[::-1]\n",
    "\n",
    "  # get the most probable class names\n",
    "  name = pd.Series(model.classes_[index_max][:n])\n",
    "  return pd.Series(data= name.to_list(), index = index_max[:n])"
   ]
  },
  {
   "cell_type": "markdown",
   "metadata": {
    "colab_type": "text",
    "id": "X-4v2jZWVSvc"
   },
   "source": [
    "**knneighbors() returns the subreddit category of the nearest neighbors to the input query among the inputs in X_train. Neigbhbors could be repeatedly from the same class. This is different from prediction() function which predicts the most probable subreddit categories that the query belongs to.**"
   ]
  },
  {
   "cell_type": "markdown",
   "metadata": {
    "colab_type": "text",
    "id": "ijUVTieLgM-Y"
   },
   "source": [
    "*Input query*"
   ]
  },
  {
   "cell_type": "code",
   "execution_count": 53,
   "metadata": {
    "colab": {},
    "colab_type": "code",
    "id": "3qccNNMgDB4m"
   },
   "outputs": [],
   "source": [
    "query = \"\"\"Does this seem too advanced for first month of kindergarten?\n",
    "Usually my husband is sitting with my son (working from home, but present) \n",
    "during my son's Zoom class but yesterday I did. I was really surprised by \n",
    "what the teacher was asking of the kids. My son's teacher wanted the students \n",
    "to write stories live during the zoom meeting. She expected them to write full \n",
    "sentences with words like \"suddenly.\" She told them if they can't spell the \n",
    "words to \"sound it out.\" She kept reminding them to use connecting words to \n",
    "transition between topics. The example story she wrote was about 5-6 sentences. \n",
    "It was about going to the playground and waiting for her turn on the swings. \n",
    "I was pretty surprised because the kids are still learning the alphabet. \n",
    "how would they be able to write sentences for before learning letters? Before we \n",
    "started school, the principal specifically told families at an info night, \n",
    "\"Don't worry if your kid doesn't know the alphabet, we'll reach them!\" \n",
    "So I don't think the teacher has expectations that the kids could already write.\"\"\"\n"
   ]
  },
  {
   "cell_type": "markdown",
   "metadata": {
    "colab_type": "text",
    "id": "B0e3pwHpfs1t"
   },
   "source": [
    "*Separately embedding the input query allows to access .kneighbors() method of the classifier to get the nearest neighbors for that query*"
   ]
  },
  {
   "cell_type": "code",
   "execution_count": 54,
   "metadata": {
    "colab": {
     "base_uri": "https://localhost:8080/",
     "height": 514
    },
    "colab_type": "code",
    "id": "3KH9JvItQdOa",
    "outputId": "e6bfbe6b-058b-4c8e-e547-e104e4d43ac2"
   },
   "outputs": [
    {
     "data": {
      "text/html": [
       "<div>\n",
       "<style scoped>\n",
       "    .dataframe tbody tr th:only-of-type {\n",
       "        vertical-align: middle;\n",
       "    }\n",
       "\n",
       "    .dataframe tbody tr th {\n",
       "        vertical-align: top;\n",
       "    }\n",
       "\n",
       "    .dataframe thead th {\n",
       "        text-align: right;\n",
       "    }\n",
       "</style>\n",
       "<table border=\"1\" class=\"dataframe\">\n",
       "  <thead>\n",
       "    <tr style=\"text-align: right;\">\n",
       "      <th></th>\n",
       "      <th>joint_text</th>\n",
       "      <th>subreddit_name</th>\n",
       "    </tr>\n",
       "  </thead>\n",
       "  <tbody>\n",
       "    <tr>\n",
       "      <th>40348</th>\n",
       "      <td>n netflix and european space agency no longer ...</td>\n",
       "      <td>MachineLearning</td>\n",
       "    </tr>\n",
       "    <tr>\n",
       "      <th>15958</th>\n",
       "      <td>i'm being put off maths by the arrogance of ot...</td>\n",
       "      <td>math</td>\n",
       "    </tr>\n",
       "    <tr>\n",
       "      <th>48220</th>\n",
       "      <td>my experience being a woman of color in the us...</td>\n",
       "      <td>TwoXChromosomes</td>\n",
       "    </tr>\n",
       "    <tr>\n",
       "      <th>46865</th>\n",
       "      <td>my son told me something heartbreaking this mo...</td>\n",
       "      <td>Parenting</td>\n",
       "    </tr>\n",
       "    <tr>\n",
       "      <th>24689</th>\n",
       "      <td>lpt if you see a kid do something awesome tell...</td>\n",
       "      <td>Parenting</td>\n",
       "    </tr>\n",
       "    <tr>\n",
       "      <th>14298</th>\n",
       "      <td>i ve finished the name of the wind and i am bl...</td>\n",
       "      <td>books</td>\n",
       "    </tr>\n",
       "    <tr>\n",
       "      <th>33305</th>\n",
       "      <td>today some of my male coworkers amplified my v...</td>\n",
       "      <td>TwoXChromosomes</td>\n",
       "    </tr>\n",
       "    <tr>\n",
       "      <th>27655</th>\n",
       "      <td>i want to check if you guys are interested in ...</td>\n",
       "      <td>history</td>\n",
       "    </tr>\n",
       "    <tr>\n",
       "      <th>46357</th>\n",
       "      <td>people who discourage kids from reading books ...</td>\n",
       "      <td>books</td>\n",
       "    </tr>\n",
       "    <tr>\n",
       "      <th>20073</th>\n",
       "      <td>mil ruined my engagement pregnancy labor and f...</td>\n",
       "      <td>Parenting</td>\n",
       "    </tr>\n",
       "    <tr>\n",
       "      <th>9239</th>\n",
       "      <td>update daughter abused at slumber party here i...</td>\n",
       "      <td>Parenting</td>\n",
       "    </tr>\n",
       "    <tr>\n",
       "      <th>32219</th>\n",
       "      <td>super proud of my wife tonight my wife has cri...</td>\n",
       "      <td>TwoXChromosomes</td>\n",
       "    </tr>\n",
       "    <tr>\n",
       "      <th>24217</th>\n",
       "      <td>nobody is coming to our son's 6th birthday par...</td>\n",
       "      <td>Parenting</td>\n",
       "    </tr>\n",
       "    <tr>\n",
       "      <th>5988</th>\n",
       "      <td>sitting next to an extrovert at grad so i grad...</td>\n",
       "      <td>socialskills</td>\n",
       "    </tr>\n",
       "    <tr>\n",
       "      <th>49088</th>\n",
       "      <td>my almost two year old refused to nap today no...</td>\n",
       "      <td>Parenting</td>\n",
       "    </tr>\n",
       "  </tbody>\n",
       "</table>\n",
       "</div>"
      ],
      "text/plain": [
       "                                              joint_text   subreddit_name\n",
       "40348  n netflix and european space agency no longer ...  MachineLearning\n",
       "15958  i'm being put off maths by the arrogance of ot...             math\n",
       "48220  my experience being a woman of color in the us...  TwoXChromosomes\n",
       "46865  my son told me something heartbreaking this mo...        Parenting\n",
       "24689  lpt if you see a kid do something awesome tell...        Parenting\n",
       "14298  i ve finished the name of the wind and i am bl...            books\n",
       "33305  today some of my male coworkers amplified my v...  TwoXChromosomes\n",
       "27655  i want to check if you guys are interested in ...          history\n",
       "46357  people who discourage kids from reading books ...            books\n",
       "20073  mil ruined my engagement pregnancy labor and f...        Parenting\n",
       "9239   update daughter abused at slumber party here i...        Parenting\n",
       "32219  super proud of my wife tonight my wife has cri...  TwoXChromosomes\n",
       "24217  nobody is coming to our son's 6th birthday par...        Parenting\n",
       "5988   sitting next to an extrovert at grad so i grad...     socialskills\n",
       "49088  my almost two year old refused to nap today no...        Parenting"
      ]
     },
     "execution_count": 54,
     "metadata": {},
     "output_type": "execute_result"
    }
   ],
   "source": [
    "vect = preprocess(query, get_word_vectors)\n",
    "neighbors = knneighbors(est_best['knc']['clf'], vect, X_train, y_train)\n",
    "neighbors"
   ]
  },
  {
   "cell_type": "markdown",
   "metadata": {
    "colab_type": "text",
    "id": "ShN1Se_cfD-X"
   },
   "source": [
    "*Using preprocess to embed the query string and then calling the prediction function on classifier step of pipeline:*"
   ]
  },
  {
   "cell_type": "code",
   "execution_count": 55,
   "metadata": {
    "colab": {
     "base_uri": "https://localhost:8080/",
     "height": 204
    },
    "colab_type": "code",
    "id": "GOrOjWPqQrqn",
    "outputId": "71edf3e9-1ff4-483d-d386-7940d8d774ec"
   },
   "outputs": [
    {
     "data": {
      "text/plain": [
       "13          Parenting\n",
       "16    TwoXChromosomes\n",
       "19              books\n",
       "36       socialskills\n",
       "28               math\n",
       "25            history\n",
       "11    MachineLearning\n",
       "43      worldpolitics\n",
       "42          worldnews\n",
       "41             travel\n",
       "dtype: object"
      ]
     },
     "execution_count": 55,
     "metadata": {},
     "output_type": "execute_result"
    }
   ],
   "source": [
    "preds = prediction(est_best['knc']['clf'], vect, 10)\n",
    "preds"
   ]
  },
  {
   "cell_type": "markdown",
   "metadata": {
    "colab_type": "text",
    "id": "y5j7jQgmev7K"
   },
   "source": [
    "*Alternatively we can call the prediction function on pipeline estimator to pass string query instead of embedding*"
   ]
  },
  {
   "cell_type": "code",
   "execution_count": 56,
   "metadata": {
    "colab": {
     "base_uri": "https://localhost:8080/",
     "height": 204
    },
    "colab_type": "code",
    "id": "6CwAFyVvehuy",
    "outputId": "78334d8c-74ad-47e6-ee73-d68407540961"
   },
   "outputs": [
    {
     "data": {
      "text/plain": [
       "13          Parenting\n",
       "16    TwoXChromosomes\n",
       "19              books\n",
       "36       socialskills\n",
       "28               math\n",
       "25            history\n",
       "11    MachineLearning\n",
       "43      worldpolitics\n",
       "42          worldnews\n",
       "41             travel\n",
       "dtype: object"
      ]
     },
     "execution_count": 56,
     "metadata": {},
     "output_type": "execute_result"
    }
   ],
   "source": [
    "prediction(est_best['knc'], query, 10)"
   ]
  },
  {
   "cell_type": "markdown",
   "metadata": {
    "colab_type": "text",
    "id": "7E_3f5XdgTdR"
   },
   "source": [
    "## Model Serialization"
   ]
  },
  {
   "cell_type": "code",
   "execution_count": 57,
   "metadata": {
    "colab": {},
    "colab_type": "code",
    "id": "vJaRr0xIjGn7"
   },
   "outputs": [],
   "source": [
    "import pickle"
   ]
  },
  {
   "cell_type": "code",
   "execution_count": 58,
   "metadata": {
    "colab": {
     "base_uri": "https://localhost:8080/",
     "height": 425
    },
    "colab_type": "code",
    "id": "LGbTKvBkll_R",
    "outputId": "291aab7c-eec6-423d-a55e-1c18bb4024ce"
   },
   "outputs": [
    {
     "data": {
      "text/plain": [
       "Pipeline(steps=[('emb',\n",
       "                 FunctionTransformer(func=<function get_word_vectors at 0x11d1af040>)),\n",
       "                ('clf',\n",
       "                 GradientBoostingClassifier(max_depth=12, max_features=15,\n",
       "                                            min_samples_leaf=18))])"
      ]
     },
     "execution_count": 58,
     "metadata": {},
     "output_type": "execute_result"
    }
   ],
   "source": [
    "est_best['gbc']"
   ]
  },
  {
   "cell_type": "code",
   "execution_count": 59,
   "metadata": {
    "colab": {},
    "colab_type": "code",
    "id": "Vv56yG6HjJjJ"
   },
   "outputs": [
    {
     "name": "stdout",
     "output_type": "stream",
     "text": [
      "key: gbc\n",
      "key: xgbc\n",
      "key: knc\n"
     ]
    }
   ],
   "source": [
    "est_pickle = {}\n",
    "loaded_pickle ={}\n",
    "\n",
    "for key in est_dict:\n",
    "    print(\"key:\", key)\n",
    "    with open(f'{key}_pkl', 'wb') as est_pickle[key]:\n",
    "        pickle.dump(est_best[key], est_pickle[key])\n",
    "\n",
    "    loaded_pickle[key] = pickle.load(open(f'{key}_pkl', 'rb'))\n",
    "\n",
    "# pickle the dataframe\n",
    "X_train.to_pickle(\"./X_train_pkl\")\n",
    "y_train.to_pickle(\"./y_train_pkl\")\n",
    "\n",
    "loaded_X_train = pd.read_pickle(\"./X_train_pkl\")\n",
    "loaded_y_train = pd.read_pickle(\"./y_train_pkl\")"
   ]
  },
  {
   "cell_type": "code",
   "execution_count": 60,
   "metadata": {},
   "outputs": [
    {
     "data": {
      "text/plain": [
       "dict_keys(['gbc', 'xgbc', 'knc'])"
      ]
     },
     "execution_count": 60,
     "metadata": {},
     "output_type": "execute_result"
    }
   ],
   "source": [
    "loaded_pickle.keys()"
   ]
  },
  {
   "cell_type": "code",
   "execution_count": 61,
   "metadata": {
    "colab": {
     "base_uri": "https://localhost:8080/",
     "height": 204
    },
    "colab_type": "code",
    "id": "gYuwVK1Sn6nU",
    "outputId": "71f20de4-d095-459a-8e39-bf44b5615936"
   },
   "outputs": [
    {
     "data": {
      "text/plain": [
       "13          Parenting\n",
       "16    TwoXChromosomes\n",
       "19              books\n",
       "36       socialskills\n",
       "28               math\n",
       "25            history\n",
       "11    MachineLearning\n",
       "43      worldpolitics\n",
       "42          worldnews\n",
       "41             travel\n",
       "dtype: object"
      ]
     },
     "execution_count": 61,
     "metadata": {},
     "output_type": "execute_result"
    }
   ],
   "source": [
    "prediction(loaded_pickle['knc'], query, 10)"
   ]
  },
  {
   "cell_type": "markdown",
   "metadata": {
    "colab_type": "text",
    "id": "Uj5pQh7q6_k-"
   },
   "source": [
    "## Latent Semantic Indexing (LSI)"
   ]
  },
  {
   "cell_type": "code",
   "execution_count": 62,
   "metadata": {
    "colab": {},
    "colab_type": "code",
    "id": "fmN2_Bo17K-D"
   },
   "outputs": [],
   "source": [
    "from sklearn.feature_extraction.text import TfidfVectorizer\n",
    "# from sklearn.pipeline import Pipeline\n",
    "from sklearn.ensemble import RandomForestClassifier\n",
    "# from sklearn.model_selection import GridSearchCV\n",
    "from sklearn.decomposition import TruncatedSVD"
   ]
  },
  {
   "cell_type": "code",
   "execution_count": 63,
   "metadata": {
    "colab": {},
    "colab_type": "code",
    "id": "y-LKphwU7XBs"
   },
   "outputs": [],
   "source": [
    "# Create Pipeline Components\n",
    "\n",
    "vect = TfidfVectorizer(stop_words='english', \n",
    "                       ngram_range=(1,2),\n",
    "                       lowercase=True,\n",
    "                       max_df=0.9,\n",
    "                       min_df=1,\n",
    "                       max_features=None)\n",
    "\n",
    "svd = TruncatedSVD(n_components=100,\n",
    "                   algorithm='randomized',\n",
    "                   n_iter=10, random_state=1)\n",
    "\n",
    "rfc = RandomForestClassifier()"
   ]
  },
  {
   "cell_type": "code",
   "execution_count": 64,
   "metadata": {
    "colab": {},
    "colab_type": "code",
    "id": "Iu49nwdT7ofb"
   },
   "outputs": [],
   "source": [
    "lsi = Pipeline([('vect', vect), ('svd', svd)])\n",
    "pipe = Pipeline([('lsi', lsi), ('clf', rfc)])"
   ]
  },
  {
   "cell_type": "code",
   "execution_count": 65,
   "metadata": {
    "colab": {},
    "colab_type": "code",
    "id": "WpxzqSGm7Yrb"
   },
   "outputs": [],
   "source": [
    "# variables are referenced to \"pipe\"\n",
    "parameters = {\n",
    "    'lsi__vect__max_df': ( 0.75, 1.0),\n",
    "    'lsi__vect__min_df': (.02, .05),\n",
    "    'lsi__vect__max_features': (500, 2000, 5000),\n",
    "    'lsi__svd__n_components': [50, 250, 500],\n",
    "    'clf__n_estimators':(5, 10),\n",
    "    'clf__max_depth':(8, 15, 20)\n",
    "}\n",
    "\n",
    "est = GridSearchCV(pipe,parameters, cv=3, n_jobs=7, verbose=1)"
   ]
  },
  {
   "cell_type": "code",
   "execution_count": 66,
   "metadata": {
    "colab": {
     "base_uri": "https://localhost:8080/",
     "height": 646
    },
    "colab_type": "code",
    "id": "aqH6LrjflnW5",
    "outputId": "2bc37586-21be-417e-c1c9-abaa99656c55"
   },
   "outputs": [
    {
     "name": "stdout",
     "output_type": "stream",
     "text": [
      "Fitting 3 folds for each of 216 candidates, totalling 648 fits\n"
     ]
    },
    {
     "name": "stderr",
     "output_type": "stream",
     "text": [
      "[Parallel(n_jobs=7)]: Using backend LokyBackend with 7 concurrent workers.\n",
      "[Parallel(n_jobs=7)]: Done  36 tasks      | elapsed:   21.6s\n",
      "[Parallel(n_jobs=7)]: Done 186 tasks      | elapsed:  1.5min\n",
      "[Parallel(n_jobs=7)]: Done 436 tasks      | elapsed:  3.2min\n",
      "[Parallel(n_jobs=7)]: Done 648 out of 648 | elapsed:  4.9min finished\n"
     ]
    },
    {
     "data": {
      "text/plain": [
       "GridSearchCV(cv=3,\n",
       "             estimator=Pipeline(steps=[('lsi',\n",
       "                                        Pipeline(steps=[('vect',\n",
       "                                                         TfidfVectorizer(max_df=0.9,\n",
       "                                                                         ngram_range=(1,\n",
       "                                                                                      2),\n",
       "                                                                         stop_words='english')),\n",
       "                                                        ('svd',\n",
       "                                                         TruncatedSVD(n_components=100,\n",
       "                                                                      n_iter=10,\n",
       "                                                                      random_state=1))])),\n",
       "                                       ('clf', RandomForestClassifier())]),\n",
       "             n_jobs=7,\n",
       "             param_grid={'clf__max_depth': (8, 15, 20),\n",
       "                         'clf__n_estimators': (5, 10),\n",
       "                         'lsi__svd__n_components': [50, 250, 500],\n",
       "                         'lsi__vect__max_df': (0.75, 1.0),\n",
       "                         'lsi__vect__max_features': (500, 2000, 5000),\n",
       "                         'lsi__vect__min_df': (0.02, 0.05)},\n",
       "             verbose=1)"
      ]
     },
     "execution_count": 66,
     "metadata": {},
     "output_type": "execute_result"
    }
   ],
   "source": [
    "est.fit(X_train, y_train)"
   ]
  },
  {
   "cell_type": "code",
   "execution_count": 67,
   "metadata": {
    "colab": {
     "base_uri": "https://localhost:8080/",
     "height": 34
    },
    "colab_type": "code",
    "id": "cBxgChVy7ikP",
    "outputId": "b32504af-d557-4901-85ae-35c0a3965b80"
   },
   "outputs": [
    {
     "data": {
      "text/plain": [
       "0.19005951144746966"
      ]
     },
     "execution_count": 67,
     "metadata": {},
     "output_type": "execute_result"
    }
   ],
   "source": [
    "# The accuracy is less that spacy vectorizer\n",
    "est.best_score_"
   ]
  },
  {
   "cell_type": "code",
   "execution_count": 68,
   "metadata": {
    "colab": {
     "base_uri": "https://localhost:8080/",
     "height": 34
    },
    "colab_type": "code",
    "id": "WeNVeLKs7lNQ",
    "outputId": "24d7ee99-4e82-4377-ec57-ed15bc731bde"
   },
   "outputs": [
    {
     "data": {
      "text/plain": [
       "array(['personalfinance'], dtype=object)"
      ]
     },
     "execution_count": 68,
     "metadata": {},
     "output_type": "execute_result"
    }
   ],
   "source": [
    "est.predict([query])"
   ]
  },
  {
   "cell_type": "code",
   "execution_count": 69,
   "metadata": {
    "colab": {
     "base_uri": "https://localhost:8080/",
     "height": 204
    },
    "colab_type": "code",
    "id": "3VU3Agtn04Ni",
    "outputId": "ba92a2e2-7f59-4cea-e9de-dcf7d95fec96"
   },
   "outputs": [
    {
     "data": {
      "text/plain": [
       "31    personalfinance\n",
       "13          Parenting\n",
       "19              books\n",
       "0           AskReddit\n",
       "6             Fitness\n",
       "16    TwoXChromosomes\n",
       "10        LifeProTips\n",
       "1             Cooking\n",
       "38             sports\n",
       "15     Showerthoughts\n",
       "dtype: object"
      ]
     },
     "execution_count": 69,
     "metadata": {},
     "output_type": "execute_result"
    }
   ],
   "source": [
    "prediction(est, query, 10)"
   ]
  },
  {
   "cell_type": "code",
   "execution_count": 70,
   "metadata": {
    "colab": {
     "base_uri": "https://localhost:8080/",
     "height": 510
    },
    "colab_type": "code",
    "id": "rnCco6Xak6JI",
    "outputId": "0c1d714d-8cb4-4a6a-97bd-66fa914a7e6a"
   },
   "outputs": [
    {
     "data": {
      "text/plain": [
       "Pipeline(steps=[('lsi',\n",
       "                 Pipeline(steps=[('vect',\n",
       "                                  TfidfVectorizer(max_df=0.75,\n",
       "                                                  max_features=2000,\n",
       "                                                  min_df=0.02,\n",
       "                                                  ngram_range=(1, 2),\n",
       "                                                  stop_words='english')),\n",
       "                                 ('svd',\n",
       "                                  TruncatedSVD(n_components=50, n_iter=10,\n",
       "                                               random_state=1))])),\n",
       "                ('clf', RandomForestClassifier(max_depth=15, n_estimators=10))])"
      ]
     },
     "execution_count": 70,
     "metadata": {},
     "output_type": "execute_result"
    }
   ],
   "source": [
    "est.best_estimator_"
   ]
  },
  {
   "cell_type": "code",
   "execution_count": 71,
   "metadata": {
    "colab": {},
    "colab_type": "code",
    "id": "KdzT3lK9VELS"
   },
   "outputs": [],
   "source": [
    "# pickle grid search model with rfc+lsi\n",
    "with open('rfclsi_pkl', 'wb') as rfclsi:\n",
    "    pickle.dump(est, rfclsi)   "
   ]
  },
  {
   "cell_type": "code",
   "execution_count": 72,
   "metadata": {
    "colab": {},
    "colab_type": "code",
    "id": "DVsnvafXfNxU"
   },
   "outputs": [],
   "source": [
    "loaded_rfclsi = pickle.load(open('rfclsi_pkl', 'rb'))"
   ]
  },
  {
   "cell_type": "code",
   "execution_count": 73,
   "metadata": {
    "colab": {
     "base_uri": "https://localhost:8080/",
     "height": 204
    },
    "colab_type": "code",
    "id": "HeYf1alDfh4b",
    "outputId": "1f18a21a-df42-498a-bbfa-f2bbdf70ee92"
   },
   "outputs": [
    {
     "data": {
      "text/plain": [
       "31    personalfinance\n",
       "13          Parenting\n",
       "19              books\n",
       "0           AskReddit\n",
       "6             Fitness\n",
       "16    TwoXChromosomes\n",
       "10        LifeProTips\n",
       "1             Cooking\n",
       "38             sports\n",
       "15     Showerthoughts\n",
       "dtype: object"
      ]
     },
     "execution_count": 73,
     "metadata": {},
     "output_type": "execute_result"
    }
   ],
   "source": [
    "prediction(loaded_rfclsi, query, n=10)"
   ]
  },
  {
   "cell_type": "code",
   "execution_count": null,
   "metadata": {},
   "outputs": [],
   "source": []
  }
 ],
 "metadata": {
  "colab": {
   "collapsed_sections": [],
   "name": "redditmodel_final.ipynb",
   "provenance": [],
   "toc_visible": true
  },
  "kernelspec": {
   "display_name": "SubReddit",
   "language": "python",
   "name": "subreddit"
  },
  "language_info": {
   "codemirror_mode": {
    "name": "ipython",
    "version": 3
   },
   "file_extension": ".py",
   "mimetype": "text/x-python",
   "name": "python",
   "nbconvert_exporter": "python",
   "pygments_lexer": "ipython3",
   "version": "3.8.8"
  }
 },
 "nbformat": 4,
 "nbformat_minor": 4
}
