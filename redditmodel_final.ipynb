{
  "nbformat": 4,
  "nbformat_minor": 0,
  "metadata": {
    "kernelspec": {
      "name": "python3",
      "display_name": "Python 3"
    },
    "colab": {
      "name": "redditmodel_final.ipynb",
      "provenance": [],
      "collapsed_sections": [],
      "toc_visible": true
    }
  },
  "cells": [
    {
      "cell_type": "markdown",
      "metadata": {
        "id": "HgV73fGkorbm",
        "colab_type": "text"
      },
      "source": [
        "In colab we need to import the spacy en_core_web_md as a package with !pip install instead of python install on the terminal. After that we need to restart the runtime."
      ]
    },
    {
      "cell_type": "code",
      "metadata": {
        "id": "bJP1j0FJYiYZ",
        "colab_type": "code",
        "colab": {
          "base_uri": "https://localhost:8080/",
          "height": 717
        },
        "outputId": "790a3be3-14a2-4272-d461-27422b709655"
      },
      "source": [
        "!pip install https://github.com/explosion/spacy-models/releases/download/en_core_web_md-2.3.1/en_core_web_md-2.3.1.tar.gz"
      ],
      "execution_count": 1,
      "outputs": [
        {
          "output_type": "stream",
          "text": [
            "Collecting https://github.com/explosion/spacy-models/releases/download/en_core_web_md-2.3.1/en_core_web_md-2.3.1.tar.gz\n",
            "\u001b[?25l  Downloading https://github.com/explosion/spacy-models/releases/download/en_core_web_md-2.3.1/en_core_web_md-2.3.1.tar.gz (50.8MB)\n",
            "\u001b[K     |████████████████████████████████| 50.8MB 75kB/s \n",
            "\u001b[?25hCollecting spacy<2.4.0,>=2.3.0\n",
            "\u001b[?25l  Downloading https://files.pythonhosted.org/packages/10/b5/c7a92c7ce5d4b353b70b4b5b4385687206c8b230ddfe08746ab0fd310a3a/spacy-2.3.2-cp36-cp36m-manylinux1_x86_64.whl (9.9MB)\n",
            "\u001b[K     |████████████████████████████████| 10.0MB 2.9MB/s \n",
            "\u001b[?25hRequirement already satisfied: tqdm<5.0.0,>=4.38.0 in /usr/local/lib/python3.6/dist-packages (from spacy<2.4.0,>=2.3.0->en-core-web-md==2.3.1) (4.41.1)\n",
            "Requirement already satisfied: murmurhash<1.1.0,>=0.28.0 in /usr/local/lib/python3.6/dist-packages (from spacy<2.4.0,>=2.3.0->en-core-web-md==2.3.1) (1.0.2)\n",
            "Requirement already satisfied: wasabi<1.1.0,>=0.4.0 in /usr/local/lib/python3.6/dist-packages (from spacy<2.4.0,>=2.3.0->en-core-web-md==2.3.1) (0.8.0)\n",
            "Requirement already satisfied: blis<0.5.0,>=0.4.0 in /usr/local/lib/python3.6/dist-packages (from spacy<2.4.0,>=2.3.0->en-core-web-md==2.3.1) (0.4.1)\n",
            "Requirement already satisfied: preshed<3.1.0,>=3.0.2 in /usr/local/lib/python3.6/dist-packages (from spacy<2.4.0,>=2.3.0->en-core-web-md==2.3.1) (3.0.2)\n",
            "Requirement already satisfied: srsly<1.1.0,>=1.0.2 in /usr/local/lib/python3.6/dist-packages (from spacy<2.4.0,>=2.3.0->en-core-web-md==2.3.1) (1.0.2)\n",
            "Requirement already satisfied: numpy>=1.15.0 in /usr/local/lib/python3.6/dist-packages (from spacy<2.4.0,>=2.3.0->en-core-web-md==2.3.1) (1.18.5)\n",
            "Collecting thinc==7.4.1\n",
            "\u001b[?25l  Downloading https://files.pythonhosted.org/packages/10/ae/ef3ae5e93639c0ef8e3eb32e3c18341e511b3c515fcfc603f4b808087651/thinc-7.4.1-cp36-cp36m-manylinux1_x86_64.whl (2.1MB)\n",
            "\u001b[K     |████████████████████████████████| 2.1MB 33.5MB/s \n",
            "\u001b[?25hRequirement already satisfied: plac<1.2.0,>=0.9.6 in /usr/local/lib/python3.6/dist-packages (from spacy<2.4.0,>=2.3.0->en-core-web-md==2.3.1) (1.1.3)\n",
            "Requirement already satisfied: cymem<2.1.0,>=2.0.2 in /usr/local/lib/python3.6/dist-packages (from spacy<2.4.0,>=2.3.0->en-core-web-md==2.3.1) (2.0.3)\n",
            "Requirement already satisfied: setuptools in /usr/local/lib/python3.6/dist-packages (from spacy<2.4.0,>=2.3.0->en-core-web-md==2.3.1) (50.3.0)\n",
            "Requirement already satisfied: requests<3.0.0,>=2.13.0 in /usr/local/lib/python3.6/dist-packages (from spacy<2.4.0,>=2.3.0->en-core-web-md==2.3.1) (2.23.0)\n",
            "Requirement already satisfied: catalogue<1.1.0,>=0.0.7 in /usr/local/lib/python3.6/dist-packages (from spacy<2.4.0,>=2.3.0->en-core-web-md==2.3.1) (1.0.0)\n",
            "Requirement already satisfied: chardet<4,>=3.0.2 in /usr/local/lib/python3.6/dist-packages (from requests<3.0.0,>=2.13.0->spacy<2.4.0,>=2.3.0->en-core-web-md==2.3.1) (3.0.4)\n",
            "Requirement already satisfied: urllib3!=1.25.0,!=1.25.1,<1.26,>=1.21.1 in /usr/local/lib/python3.6/dist-packages (from requests<3.0.0,>=2.13.0->spacy<2.4.0,>=2.3.0->en-core-web-md==2.3.1) (1.24.3)\n",
            "Requirement already satisfied: certifi>=2017.4.17 in /usr/local/lib/python3.6/dist-packages (from requests<3.0.0,>=2.13.0->spacy<2.4.0,>=2.3.0->en-core-web-md==2.3.1) (2020.6.20)\n",
            "Requirement already satisfied: idna<3,>=2.5 in /usr/local/lib/python3.6/dist-packages (from requests<3.0.0,>=2.13.0->spacy<2.4.0,>=2.3.0->en-core-web-md==2.3.1) (2.10)\n",
            "Requirement already satisfied: importlib-metadata>=0.20; python_version < \"3.8\" in /usr/local/lib/python3.6/dist-packages (from catalogue<1.1.0,>=0.0.7->spacy<2.4.0,>=2.3.0->en-core-web-md==2.3.1) (1.7.0)\n",
            "Requirement already satisfied: zipp>=0.5 in /usr/local/lib/python3.6/dist-packages (from importlib-metadata>=0.20; python_version < \"3.8\"->catalogue<1.1.0,>=0.0.7->spacy<2.4.0,>=2.3.0->en-core-web-md==2.3.1) (3.1.0)\n",
            "Building wheels for collected packages: en-core-web-md\n",
            "  Building wheel for en-core-web-md (setup.py) ... \u001b[?25l\u001b[?25hdone\n",
            "  Created wheel for en-core-web-md: filename=en_core_web_md-2.3.1-cp36-none-any.whl size=50916643 sha256=29cd5ac914b02de82c3822823dab2a04a120241ada4ce50a8dce4ab2f8871f5b\n",
            "  Stored in directory: /root/.cache/pip/wheels/6e/65/3a/34cdc26d4084d1d1f1e2ec9914964759ea17aa382c53a57d9f\n",
            "Successfully built en-core-web-md\n",
            "Installing collected packages: thinc, spacy, en-core-web-md\n",
            "  Found existing installation: thinc 7.4.0\n",
            "    Uninstalling thinc-7.4.0:\n",
            "      Successfully uninstalled thinc-7.4.0\n",
            "  Found existing installation: spacy 2.2.4\n",
            "    Uninstalling spacy-2.2.4:\n",
            "      Successfully uninstalled spacy-2.2.4\n",
            "Successfully installed en-core-web-md-2.3.1 spacy-2.3.2 thinc-7.4.1\n"
          ],
          "name": "stdout"
        }
      ]
    },
    {
      "cell_type": "code",
      "metadata": {
        "id": "okwQiSSJPLHw",
        "colab_type": "code",
        "colab": {}
      },
      "source": [
        "import os\n",
        "import pickle\n",
        "\n",
        "import numpy as np\n",
        "\n",
        "from sklearn.feature_extraction.text import TfidfVectorizer\n",
        "from sklearn.neighbors import NearestNeighbors"
      ],
      "execution_count": 2,
      "outputs": []
    },
    {
      "cell_type": "markdown",
      "metadata": {
        "id": "-vfn67Ye9fKM",
        "colab_type": "text"
      },
      "source": [
        "*Upload submission_db.sqlite3 database*\n"
      ]
    },
    {
      "cell_type": "code",
      "metadata": {
        "id": "Tl_DvYWhQZrm",
        "colab_type": "code",
        "colab": {
          "resources": {
            "http://localhost:8080/nbextensions/google.colab/files.js": {
              "data": "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",
              "ok": true,
              "headers": [
                [
                  "content-type",
                  "application/javascript"
                ]
              ],
              "status": 200,
              "status_text": ""
            }
          },
          "base_uri": "https://localhost:8080/",
          "height": 72
        },
        "outputId": "4edf1c98-6726-4aad-e420-34eb80a5ecea"
      },
      "source": [
        "from google.colab import files \n",
        "uploaded = files.upload()"
      ],
      "execution_count": 3,
      "outputs": [
        {
          "output_type": "display_data",
          "data": {
            "text/html": [
              "\n",
              "     <input type=\"file\" id=\"files-bad2d37d-039a-4f87-ad75-228c35524332\" name=\"files[]\" multiple disabled\n",
              "        style=\"border:none\" />\n",
              "     <output id=\"result-bad2d37d-039a-4f87-ad75-228c35524332\">\n",
              "      Upload widget is only available when the cell has been executed in the\n",
              "      current browser session. Please rerun this cell to enable.\n",
              "      </output>\n",
              "      <script src=\"/nbextensions/google.colab/files.js\"></script> "
            ],
            "text/plain": [
              "<IPython.core.display.HTML object>"
            ]
          },
          "metadata": {
            "tags": []
          }
        },
        {
          "output_type": "stream",
          "text": [
            "Saving subreddit_db.sqlite3 to subreddit_db.sqlite3\n"
          ],
          "name": "stdout"
        }
      ]
    },
    {
      "cell_type": "code",
      "metadata": {
        "id": "6wHU9AHfPLHz",
        "colab_type": "code",
        "colab": {}
      },
      "source": [
        "import pandas as pd\n",
        "import sqlite3\n",
        "import numpy as np\n",
        "\n",
        "def refresh_connection_and_cursor():\n",
        "  try:\n",
        "    c.close()\n",
        "    conn.close()\n",
        "  except: pass\n",
        "  conn = sqlite3.connect('/content/subreddit_db.sqlite3')\n",
        "  c = conn.cursor()\n",
        "  return conn, c\n",
        "\n",
        "conn, c = refresh_connection_and_cursor()\n",
        "\n",
        "data = pd.read_sql_query(\n",
        "    \"select * from submission_table order by random() limit 100000;\", \n",
        "    conn)\n",
        "\n",
        "c.close()\n",
        "conn.close()"
      ],
      "execution_count": 4,
      "outputs": []
    },
    {
      "cell_type": "code",
      "metadata": {
        "id": "VJHnJGJVPLH2",
        "colab_type": "code",
        "colab": {
          "base_uri": "https://localhost:8080/",
          "height": 221
        },
        "outputId": "e3c2071d-80fc-42a8-9fcc-31461e73fd41"
      },
      "source": [
        "print(data.shape)\n",
        "data.head()"
      ],
      "execution_count": 5,
      "outputs": [
        {
          "output_type": "stream",
          "text": [
            "(51610, 4)\n"
          ],
          "name": "stdout"
        },
        {
          "output_type": "execute_result",
          "data": {
            "text/html": [
              "<div>\n",
              "<style scoped>\n",
              "    .dataframe tbody tr th:only-of-type {\n",
              "        vertical-align: middle;\n",
              "    }\n",
              "\n",
              "    .dataframe tbody tr th {\n",
              "        vertical-align: top;\n",
              "    }\n",
              "\n",
              "    .dataframe thead th {\n",
              "        text-align: right;\n",
              "    }\n",
              "</style>\n",
              "<table border=\"1\" class=\"dataframe\">\n",
              "  <thead>\n",
              "    <tr style=\"text-align: right;\">\n",
              "      <th></th>\n",
              "      <th>subreddit_name</th>\n",
              "      <th>subreddit_id</th>\n",
              "      <th>title</th>\n",
              "      <th>text</th>\n",
              "    </tr>\n",
              "  </thead>\n",
              "  <tbody>\n",
              "    <tr>\n",
              "      <th>0</th>\n",
              "      <td>entertainment</td>\n",
              "      <td>2qh0f</td>\n",
              "      <td>Ellen Page calls out Chris Pratt for attending...</td>\n",
              "      <td></td>\n",
              "    </tr>\n",
              "    <tr>\n",
              "      <th>1</th>\n",
              "      <td>books</td>\n",
              "      <td>2qh4i</td>\n",
              "      <td>School district that has allowed religious gro...</td>\n",
              "      <td></td>\n",
              "    </tr>\n",
              "    <tr>\n",
              "      <th>2</th>\n",
              "      <td>camping</td>\n",
              "      <td>2qk80</td>\n",
              "      <td>took my girlfriend camping for the first time ...</td>\n",
              "      <td></td>\n",
              "    </tr>\n",
              "    <tr>\n",
              "      <th>3</th>\n",
              "      <td>sports</td>\n",
              "      <td>2qgzy</td>\n",
              "      <td>Ballboy's Awesome Catch</td>\n",
              "      <td></td>\n",
              "    </tr>\n",
              "    <tr>\n",
              "      <th>4</th>\n",
              "      <td>funny</td>\n",
              "      <td>2qh33</td>\n",
              "      <td>10 days it is</td>\n",
              "      <td></td>\n",
              "    </tr>\n",
              "  </tbody>\n",
              "</table>\n",
              "</div>"
            ],
            "text/plain": [
              "  subreddit_name  ... text\n",
              "0  entertainment  ...     \n",
              "1          books  ...     \n",
              "2        camping  ...     \n",
              "3         sports  ...     \n",
              "4          funny  ...     \n",
              "\n",
              "[5 rows x 4 columns]"
            ]
          },
          "metadata": {
            "tags": []
          },
          "execution_count": 5
        }
      ]
    },
    {
      "cell_type": "code",
      "metadata": {
        "id": "eZbFt4KYqH1Z",
        "colab_type": "code",
        "colab": {
          "base_uri": "https://localhost:8080/",
          "height": 204
        },
        "outputId": "7ca693ae-ccd6-4374-dfdf-4066c72f93d9"
      },
      "source": [
        "data.info()"
      ],
      "execution_count": 6,
      "outputs": [
        {
          "output_type": "stream",
          "text": [
            "<class 'pandas.core.frame.DataFrame'>\n",
            "RangeIndex: 51610 entries, 0 to 51609\n",
            "Data columns (total 4 columns):\n",
            " #   Column          Non-Null Count  Dtype \n",
            "---  ------          --------------  ----- \n",
            " 0   subreddit_name  51610 non-null  object\n",
            " 1   subreddit_id    51610 non-null  object\n",
            " 2   title           51610 non-null  object\n",
            " 3   text            51610 non-null  object\n",
            "dtypes: object(4)\n",
            "memory usage: 1.6+ MB\n"
          ],
          "name": "stdout"
        }
      ]
    },
    {
      "cell_type": "code",
      "metadata": {
        "id": "BXH8JxH3cpcR",
        "colab_type": "code",
        "colab": {
          "base_uri": "https://localhost:8080/",
          "height": 221
        },
        "outputId": "15bdb830-5bd5-4394-a838-57897e1fadfc"
      },
      "source": [
        "data['subreddit_name'].unique()"
      ],
      "execution_count": 7,
      "outputs": [
        {
          "output_type": "execute_result",
          "data": {
            "text/plain": [
              "array(['entertainment', 'books', 'camping', 'sports', 'funny', 'movies',\n",
              "       'PublicFreakout', 'television', 'news', 'DIY', 'AskReddit',\n",
              "       'gadgets', 'Parenting', 'Fitness', 'socialskills', 'programming',\n",
              "       'GetMotivated', 'personalfinance', 'Cooking', 'nottheonion',\n",
              "       'worldnews', 'MachineLearning', 'AdviceAnimals', 'cars', 'space',\n",
              "       'TwoXChromosomes', 'literature', 'Coronavirus', 'biology',\n",
              "       'travel', 'HomeImprovement', 'scifi', 'WTF', 'LifeProTips',\n",
              "       'politics', 'math', 'Health', 'investing', 'Showerthoughts',\n",
              "       'worldpolitics', 'Documentaries', 'science', 'JusticeServed',\n",
              "       'mildlyinteresting', 'gaming', 'technology', 'food', 'history',\n",
              "       'Design', 'Art', 'Music', 'conspiracy', 'announcements'],\n",
              "      dtype=object)"
            ]
          },
          "metadata": {
            "tags": []
          },
          "execution_count": 7
        }
      ]
    },
    {
      "cell_type": "markdown",
      "metadata": {
        "id": "3CB3-cW9-Llm",
        "colab_type": "text"
      },
      "source": [
        "*Data Wrangling*"
      ]
    },
    {
      "cell_type": "code",
      "metadata": {
        "id": "aPm9lRzC_9Tu",
        "colab_type": "code",
        "colab": {
          "base_uri": "https://localhost:8080/",
          "height": 71
        },
        "outputId": "50a1848b-c025-4f91-a03d-9de031866a35"
      },
      "source": [
        "import seaborn as sns\n",
        "import matplotlib.pyplot as plt"
      ],
      "execution_count": 8,
      "outputs": [
        {
          "output_type": "stream",
          "text": [
            "/usr/local/lib/python3.6/dist-packages/statsmodels/tools/_testing.py:19: FutureWarning: pandas.util.testing is deprecated. Use the functions in the public API at pandas.testing instead.\n",
            "  import pandas.util.testing as tm\n"
          ],
          "name": "stderr"
        }
      ]
    },
    {
      "cell_type": "code",
      "metadata": {
        "id": "frWf31V5-XF5",
        "colab_type": "code",
        "colab": {}
      },
      "source": [
        "def warngle(data, text_len_min=100, subreddit_num=50):\n",
        "  \"\"\"\n",
        "  data: dataframe containg the subreddits and their categories\n",
        "  text_len_min: minimum length of subreddit text required to be analyzed\n",
        "  statistical trimming:\n",
        "  subreddit_num: sampled number of subreddit posts in each category\n",
        "  \"\"\"\n",
        "  print(\"\\ndata shape: \", data.shape)\n",
        "\n",
        "  # converting the title and text columns to string type\n",
        "  data[['title', 'text']] = data[['title', 'text']].astype('str')\n",
        "  \n",
        "  # merge title and text\n",
        "  data['joint_text'] = data[['title', 'text']].agg(' '.join, axis=1)\n",
        "\n",
        "  # filter out non word and non space characters.\n",
        "  # lower case the text and remove extra spaces\n",
        "  data['joint_text'] = data['joint_text'].str.replace(\"[^\\w\\s']\",' ').str.lower().apply(lambda row: ' '.join(row.split()))\n",
        "  # print(data['text'][:10])\n",
        "\n",
        "\n",
        "  # filter out the rows with no significant subreddit text\n",
        "  data = data[[len(i)>100 for i in data['joint_text']]]\n",
        "  print(f\"\\ndata shape after text length filter: {text_len_min}:\")\n",
        "  print(data.shape)\n",
        "\n",
        "\n",
        "  # Plot the frequency of subreddit_name in the data set\n",
        "  subid_count = data['subreddit_id'].value_counts(ascending=False)\n",
        "  plt.figure(figsize=(12,5))\n",
        "  # y axis is density plot\n",
        "  sns.distplot(subid_count, kde=False, bins=len(data['subreddit_id'].value_counts()))\n",
        "  plt.title('Subreddit category histogram')\n",
        "  plt.xlabel('#of posts per subreddit category')\n",
        "  plt.ylabel('# of subreddit categories')\n",
        "\n",
        "\n",
        "  # filter out the subreddit_ids with low count of posts\n",
        "  data = data.groupby('subreddit_id').filter(\n",
        "      lambda x: (x['subreddit_id'].value_counts() > subreddit_num))\n",
        "  print(f\"\\ndata shape after dropping low counts subreddit names: {subreddit_num}\")\n",
        "  print(data.shape)\n",
        "\n",
        "\n",
        "  # Sample a fixed number of posts from each category\n",
        "  df = data.groupby('subreddit_id', as_index=False).apply(lambda x: x.sample(\n",
        "      n=subreddit_num, replace=False, random_state=1)).reset_index(level=0, drop=True)\n",
        "  print(f\"\\ndf shape after sampling {subreddit_num} posts per subreddit category\")\n",
        "  print(df.shape)\n",
        "  \n",
        "  # Number of subreddit categories to classify on\n",
        "  print(f\"\\n# of subreddit categories: {len(df['subreddit_id'].value_counts())}\")\n",
        "\n",
        "  return data, df"
      ],
      "execution_count": 9,
      "outputs": []
    },
    {
      "cell_type": "code",
      "metadata": {
        "id": "z_t-n80GHvDH",
        "colab_type": "code",
        "colab": {
          "base_uri": "https://localhost:8080/",
          "height": 571
        },
        "outputId": "fbd1ca9f-cd89-4203-8f60-00eaa39f6cc2"
      },
      "source": [
        "data, df = warngle(data, text_len_min=100, subreddit_num=100);"
      ],
      "execution_count": 10,
      "outputs": [
        {
          "output_type": "stream",
          "text": [
            "\n",
            "data shape:  (51610, 4)\n",
            "\n",
            "data shape after text length filter: 100:\n",
            "(20918, 5)\n",
            "\n",
            "data shape after dropping low counts subreddit names: 100\n",
            "(20368, 5)\n",
            "\n",
            "df shape after sampling 100 posts per subreddit category\n",
            "(4400, 5)\n",
            "\n",
            "# of subreddit categories: 44\n"
          ],
          "name": "stdout"
        },
        {
          "output_type": "display_data",
          "data": {
            "image/png": "[encoded data removed]",
            "text/plain": [
              "<Figure size 864x360 with 1 Axes>"
            ]
          },
          "metadata": {
            "tags": [],
            "needs_background": "light"
          }
        }
      ]
    },
    {
      "cell_type": "code",
      "metadata": {
        "id": "22DRCLaQTQKr",
        "colab_type": "code",
        "colab": {
          "base_uri": "https://localhost:8080/",
          "height": 306
        },
        "outputId": "63c2fcc3-f78c-42cf-de51-29807ff907d7"
      },
      "source": [
        "print(df.shape)\n",
        "df.sample(n=5, axis=0)\n",
        "df.head()"
      ],
      "execution_count": 11,
      "outputs": [
        {
          "output_type": "stream",
          "text": [
            "(4400, 5)\n"
          ],
          "name": "stdout"
        },
        {
          "output_type": "execute_result",
          "data": {
            "text/html": [
              "<div>\n",
              "<style scoped>\n",
              "    .dataframe tbody tr th:only-of-type {\n",
              "        vertical-align: middle;\n",
              "    }\n",
              "\n",
              "    .dataframe tbody tr th {\n",
              "        vertical-align: top;\n",
              "    }\n",
              "\n",
              "    .dataframe thead th {\n",
              "        text-align: right;\n",
              "    }\n",
              "</style>\n",
              "<table border=\"1\" class=\"dataframe\">\n",
              "  <thead>\n",
              "    <tr style=\"text-align: right;\">\n",
              "      <th></th>\n",
              "      <th>subreddit_name</th>\n",
              "      <th>subreddit_id</th>\n",
              "      <th>title</th>\n",
              "      <th>text</th>\n",
              "      <th>joint_text</th>\n",
              "    </tr>\n",
              "  </thead>\n",
              "  <tbody>\n",
              "    <tr>\n",
              "      <th>21635</th>\n",
              "      <td>politics</td>\n",
              "      <td>2cneq</td>\n",
              "      <td>Trump bragged about bringing Michigan 'so many...</td>\n",
              "      <td></td>\n",
              "      <td>trump bragged about bringing michigan 'so many...</td>\n",
              "    </tr>\n",
              "    <tr>\n",
              "      <th>47116</th>\n",
              "      <td>politics</td>\n",
              "      <td>2cneq</td>\n",
              "      <td>Source: Leaked Documents Show the U.S. Governm...</td>\n",
              "      <td></td>\n",
              "      <td>source leaked documents show the u s governmen...</td>\n",
              "    </tr>\n",
              "    <tr>\n",
              "      <th>30561</th>\n",
              "      <td>politics</td>\n",
              "      <td>2cneq</td>\n",
              "      <td>#DeleteFacebook Trends After Report That Mark ...</td>\n",
              "      <td></td>\n",
              "      <td>deletefacebook trends after report that mark z...</td>\n",
              "    </tr>\n",
              "    <tr>\n",
              "      <th>33923</th>\n",
              "      <td>politics</td>\n",
              "      <td>2cneq</td>\n",
              "      <td>Megathread: Robert Mueller has agreed to testi...</td>\n",
              "      <td>Former special counsel Robert S. Mueller III w...</td>\n",
              "      <td>megathread robert mueller has agreed to testif...</td>\n",
              "    </tr>\n",
              "    <tr>\n",
              "      <th>35053</th>\n",
              "      <td>politics</td>\n",
              "      <td>2cneq</td>\n",
              "      <td>'The President is afraid of the American peopl...</td>\n",
              "      <td></td>\n",
              "      <td>'the president is afraid of the american peopl...</td>\n",
              "    </tr>\n",
              "  </tbody>\n",
              "</table>\n",
              "</div>"
            ],
            "text/plain": [
              "      subreddit_name  ...                                         joint_text\n",
              "21635       politics  ...  trump bragged about bringing michigan 'so many...\n",
              "47116       politics  ...  source leaked documents show the u s governmen...\n",
              "30561       politics  ...  deletefacebook trends after report that mark z...\n",
              "33923       politics  ...  megathread robert mueller has agreed to testif...\n",
              "35053       politics  ...  'the president is afraid of the american peopl...\n",
              "\n",
              "[5 rows x 5 columns]"
            ]
          },
          "metadata": {
            "tags": []
          },
          "execution_count": 11
        }
      ]
    },
    {
      "cell_type": "code",
      "metadata": {
        "id": "-MMcDs2isr5F",
        "colab_type": "code",
        "colab": {
          "base_uri": "https://localhost:8080/",
          "height": 187
        },
        "outputId": "3f5b056d-97b3-4782-d77f-67159ddede24"
      },
      "source": [
        "df['subreddit_name'].unique()"
      ],
      "execution_count": 12,
      "outputs": [
        {
          "output_type": "execute_result",
          "data": {
            "text/plain": [
              "array(['politics', 'programming', 'sports', 'gaming', 'entertainment',\n",
              "       'math', 'worldnews', 'technology', 'AskReddit', 'Music', 'scifi',\n",
              "       'news', 'movies', 'travel', 'books', 'conspiracy', 'history',\n",
              "       'television', 'Design', 'DIY', 'Cooking', 'space', 'worldpolitics',\n",
              "       'Health', 'investing', 'cars', 'Documentaries', 'Parenting',\n",
              "       'biology', 'literature', 'Fitness', 'camping', 'HomeImprovement',\n",
              "       'personalfinance', 'announcements', 'socialskills',\n",
              "       'TwoXChromosomes', 'MachineLearning', 'LifeProTips',\n",
              "       'Showerthoughts', 'JusticeServed', 'Coronavirus', 'PublicFreakout',\n",
              "       'science'], dtype=object)"
            ]
          },
          "metadata": {
            "tags": []
          },
          "execution_count": 12
        }
      ]
    },
    {
      "cell_type": "markdown",
      "metadata": {
        "id": "qCIs13xSUGkw",
        "colab_type": "text"
      },
      "source": [
        "### Train and test data"
      ]
    },
    {
      "cell_type": "code",
      "metadata": {
        "id": "scjeu5zioL6_",
        "colab_type": "code",
        "colab": {
          "base_uri": "https://localhost:8080/",
          "height": 34
        },
        "outputId": "543f173d-f47d-46c4-cde6-a2c6f9318061"
      },
      "source": [
        "from sklearn.model_selection import train_test_split\n",
        "\n",
        "#split dataset into train and test data\n",
        "X_train, X_test, y_train, y_test = train_test_split(df['joint_text'], df['subreddit_name'], \n",
        "                                                    test_size=0.2, \n",
        "                                                    random_state=110, \n",
        "                                                    shuffle=True,\n",
        "                                                    stratify = df['subreddit_name'])\n",
        "\n",
        "X_train.shape, y_train.shape"
      ],
      "execution_count": 13,
      "outputs": [
        {
          "output_type": "execute_result",
          "data": {
            "text/plain": [
              "((3520,), (3520,))"
            ]
          },
          "metadata": {
            "tags": []
          },
          "execution_count": 13
        }
      ]
    },
    {
      "cell_type": "markdown",
      "metadata": {
        "id": "2XC3Z_YtVf1W",
        "colab_type": "text"
      },
      "source": [
        "## Pipeline of Spacy embedding and various classifiers"
      ]
    },
    {
      "cell_type": "code",
      "metadata": {
        "id": "pH16Sq9dR_Hi",
        "colab_type": "code",
        "colab": {}
      },
      "source": [
        "from sklearn.neighbors import KNeighborsClassifier\n",
        "from sklearn.model_selection import RandomizedSearchCV, GridSearchCV\n",
        "from sklearn.pipeline import Pipeline\n",
        "\n",
        "from sklearn.ensemble import GradientBoostingClassifier\n",
        "import numpy as np\n",
        "from scipy.stats import randint\n",
        "from sklearn.preprocessing import FunctionTransformer\n",
        "from xgboost import XGBClassifier"
      ],
      "execution_count": 14,
      "outputs": []
    },
    {
      "cell_type": "markdown",
      "metadata": {
        "id": "fzqAzWsXb0VU",
        "colab_type": "text"
      },
      "source": [
        "### Classifiers"
      ]
    },
    {
      "cell_type": "code",
      "metadata": {
        "id": "c_gyEGC6SCaL",
        "colab_type": "code",
        "colab": {}
      },
      "source": [
        "# NearestNeighbors is the same as the classifier one but unsupervised\n",
        "knc = KNeighborsClassifier(n_neighbors = 15, radius=1.0, algorithm='auto', \n",
        "                           leaf_size=30, metric='minkowski', p=2, n_jobs=7)"
      ],
      "execution_count": 15,
      "outputs": []
    },
    {
      "cell_type": "code",
      "metadata": {
        "colab_type": "code",
        "id": "VU1qanc8ZYvJ",
        "colab": {}
      },
      "source": [
        "# GradientBoostingClassifier\n",
        "gbc = GradientBoostingClassifier(loss='deviance', learning_rate=0.1, n_estimators=100, \n",
        "                               subsample=1.0, criterion='friedman_mse', min_samples_split=2, \n",
        "                               min_samples_leaf=1, min_weight_fraction_leaf=0.0, \n",
        "                               max_depth=3, min_impurity_decrease=0.0, min_impurity_split=None, \n",
        "                               init=None, random_state=None, max_features=None, verbose=0, \n",
        "                               max_leaf_nodes=None, warm_start=False, presort='deprecated', \n",
        "                               validation_fraction=0.1, n_iter_no_change=None, tol=0.0001, ccp_alpha=0.0)"
      ],
      "execution_count": 16,
      "outputs": []
    },
    {
      "cell_type": "code",
      "metadata": {
        "id": "_KnmiR1_bseF",
        "colab_type": "code",
        "colab": {}
      },
      "source": [
        "# XGBoost\n",
        "# It can handle NaNs\n",
        "xgbc = XGBClassifier(max_depth=6, learning_rate=0.3, n_estimators=100, random_state=42,\n",
        "                  verbosity=1, objective='reg:logistic', booster='gbtree', n_jobs=4,\n",
        "                  min_split_loss=0, subsample=0.5, sampling_method='uniform',\n",
        "                  tree_method='auto', num_parallel_tree=1, eval_metric='merror')"
      ],
      "execution_count": 17,
      "outputs": []
    },
    {
      "cell_type": "markdown",
      "metadata": {
        "id": "nmyJ8Avdbuks",
        "colab_type": "text"
      },
      "source": [
        "### Parameter distributions"
      ]
    },
    {
      "cell_type": "code",
      "metadata": {
        "id": "3ag0lAOPS0RM",
        "colab_type": "code",
        "colab": {}
      },
      "source": [
        "# KN Classifier Parameters\n",
        "algorithm_knc = ['ball_tree', 'kd_tree']\n",
        "leaf_size_knc = range(30,150,30)\n",
        "p_knc = [1, 2]\n",
        "\n",
        "param_dist_knc = {\n",
        "    'clf__algorithm': algorithm_knc, \n",
        "    'clf__leaf_size': leaf_size_knc, \n",
        "    'clf__p': p_knc\n",
        "    }"
      ],
      "execution_count": 18,
      "outputs": []
    },
    {
      "cell_type": "code",
      "metadata": {
        "id": "x2Au-X4ToZb7",
        "colab_type": "code",
        "colab": {
          "base_uri": "https://localhost:8080/",
          "height": 34
        },
        "outputId": "93478a26-ebf5-4eac-e6fd-b6e74c6f473b"
      },
      "source": [
        "np.logspace(2, 3, num=5, endpoint=False, base=10).astype(int)\n",
        "np.arange(5,30,5)"
      ],
      "execution_count": 19,
      "outputs": [
        {
          "output_type": "execute_result",
          "data": {
            "text/plain": [
              "array([ 5, 10, 15, 20, 25])"
            ]
          },
          "metadata": {
            "tags": []
          },
          "execution_count": 19
        }
      ]
    },
    {
      "cell_type": "code",
      "metadata": {
        "colab_type": "code",
        "id": "gr1S6eVhZYvR",
        "colab": {}
      },
      "source": [
        "# Gradient Boost Classifier Parameters\n",
        "max_features_gbc = np.arange(5,30,5)\n",
        "max_depth_gbc = range(4,16,4)\n",
        "min_samples_split_gbc = np.linspace(2, 20, 10, endpoint=True).astype(int)\n",
        "min_samples_leaf_gbc = np.linspace(2, 20, 10, endpoint=True).astype(int)\n",
        "\n",
        "param_dist_gbc = {\n",
        "    'clf__max_features': max_features_gbc, \n",
        "    'clf__max_depth': max_depth_gbc, \n",
        "    'clf__min_samples_split': min_samples_split_gbc, \n",
        "    'clf__min_samples_leaf': min_samples_leaf_gbc,\n",
        "    }"
      ],
      "execution_count": 20,
      "outputs": []
    },
    {
      "cell_type": "code",
      "metadata": {
        "id": "En4RvWyCZXam",
        "colab_type": "code",
        "colab": {}
      },
      "source": [
        "# XGBC Parameters\n",
        "colsample_bytree_xgbc = np.arange(0.5,1.01,0.1)\n",
        "max_depth_xgbc = range(2,16,2)\n",
        "min_child_weight_xgbc = np.linspace(1, 40, 10, endpoint=True).astype(int)\n",
        "learning_rate_xgbc = [0.01, 0.1, 0.3]\n",
        "n_estimators_xgbc = [100, 250, 500]\n",
        "\n",
        "param_dist_xgbc = {\n",
        "    'clf__colsample_bytree': colsample_bytree_xgbc, \n",
        "    'clf__max_depth': max_depth_xgbc, \n",
        "    'clf__min_child_weight': min_child_weight_xgbc, \n",
        "    'clf__learning_rate': learning_rate_xgbc,\n",
        "    'clf__n_estimators': n_estimators_xgbc\n",
        "    }"
      ],
      "execution_count": 21,
      "outputs": []
    },
    {
      "cell_type": "markdown",
      "metadata": {
        "id": "3k2XQZ7jeI0u",
        "colab_type": "text"
      },
      "source": [
        "### Spacy Embedding"
      ]
    },
    {
      "cell_type": "code",
      "metadata": {
        "id": "z74d5vjudEsI",
        "colab_type": "code",
        "colab": {}
      },
      "source": [
        "import spacy\n",
        "from spacy.tokenizer import Tokenizer\n",
        "from spacy.lang.en.stop_words import STOP_WORDS\n",
        "#Create the nlp object\n",
        "nlp = spacy.load(\"en_core_web_md\")"
      ],
      "execution_count": 22,
      "outputs": []
    },
    {
      "cell_type": "code",
      "metadata": {
        "colab_type": "code",
        "id": "Gw_B3lRCdFf_",
        "colab": {}
      },
      "source": [
        "# Spacy embedding\n",
        "def get_word_vectors(docs):\n",
        "    if isinstance(docs, str):\n",
        "      docs = [docs]\n",
        "    return np.array([nlp(str(doc)).vector for doc in docs])"
      ],
      "execution_count": 23,
      "outputs": []
    },
    {
      "cell_type": "code",
      "metadata": {
        "colab_type": "code",
        "id": "8JJtoPgXdFgD",
        "colab": {}
      },
      "source": [
        "# Instantiate functiontransformer of the spacy vectorizer\n",
        "embed = FunctionTransformer(get_word_vectors)"
      ],
      "execution_count": 24,
      "outputs": []
    },
    {
      "cell_type": "code",
      "metadata": {
        "id": "_sg5_o4ihj2M",
        "colab_type": "code",
        "colab": {}
      },
      "source": [
        "est_dict = {\n",
        "    'gbc': [gbc, param_dist_gbc],\n",
        "    'xgbc': [xgbc, param_dist_xgbc],\n",
        "    'knc': [knc, param_dist_knc]\n",
        "            }"
      ],
      "execution_count": 25,
      "outputs": []
    },
    {
      "cell_type": "markdown",
      "metadata": {
        "id": "ReixjW2uu5cm",
        "colab_type": "text"
      },
      "source": [
        "- When running RandomizedSearchCV with Spacy we may get a error that workers cannot work with unpickled file. We need to set the n_jobs=1 instead of parallel processing.\n",
        "\n",
        "- To speed up the simulation we can do the Spacy embedding outside of the pipeline and feed the embedded X into the model instead of the text ndarray. Thedrawback is for prediction we woul need to preprocess the input as well to embed the query before passing it to the trained model.\n"
      ]
    },
    {
      "cell_type": "code",
      "metadata": {
        "id": "onuJzVUtgyAX",
        "colab_type": "code",
        "colab": {
          "base_uri": "https://localhost:8080/",
          "height": 445
        },
        "outputId": "4af03d53-ac2e-41d2-99a1-17634a1d7db3"
      },
      "source": [
        "est = {}\n",
        "for key, value in est_dict.items():\n",
        "  clfi = value[0]\n",
        "  # print(clfi, type(clfi))\n",
        "  param_dist = value[1]\n",
        "  \n",
        "  # spacy embedding is taken out of the pipeline to save time in hyperparameter tunning\n",
        "  pipe = Pipeline([\n",
        "                   ('emb', embed), \n",
        "                   ('clf', clfi)])\n",
        "  \n",
        "  est[\"{0}_est\".format(key)] = RandomizedSearchCV(pipe, \n",
        "                                                  param_distributions=param_dist, \n",
        "                                                  n_iter=4, cv=2, verbose=1)\n",
        "  \n",
        "  print('\\n', 5*'*',' fitting',key, ' estimator..... ',5*'*')\n",
        "  est[\"{0}_est\".format(key)].fit(X_train.values, y_train.values)\n",
        "  print(\"best params: \",est[\"{0}_est\".format(key)].best_params_)\n",
        "  print(\"best score: \",est[\"{0}_est\".format(key)].best_score_)\n",
        "  print(\"Test score: \",est[\"{0}_est\".format(key)].score(X_test.values, y_test.values))\n"
      ],
      "execution_count": 26,
      "outputs": [
        {
          "output_type": "stream",
          "text": [
            "\n",
            " *****  fitting gbc  estimator.....  *****\n",
            "Fitting 2 folds for each of 4 candidates, totalling 8 fits\n"
          ],
          "name": "stdout"
        },
        {
          "output_type": "stream",
          "text": [
            "[Parallel(n_jobs=1)]: Using backend SequentialBackend with 1 concurrent workers.\n",
            "[Parallel(n_jobs=1)]: Done   8 out of   8 | elapsed: 22.0min finished\n"
          ],
          "name": "stderr"
        },
        {
          "output_type": "stream",
          "text": [
            "best params:  {'clf__min_samples_split': 12, 'clf__min_samples_leaf': 18, 'clf__max_features': 15, 'clf__max_depth': 4}\n",
            "best score:  0.4877840909090909\n",
            "Test score:  0.5193181818181818\n",
            "\n",
            " *****  fitting xgbc  estimator.....  *****\n",
            "Fitting 2 folds for each of 4 candidates, totalling 8 fits\n"
          ],
          "name": "stdout"
        },
        {
          "output_type": "stream",
          "text": [
            "[Parallel(n_jobs=1)]: Using backend SequentialBackend with 1 concurrent workers.\n",
            "[Parallel(n_jobs=1)]: Done   8 out of   8 | elapsed: 21.7min finished\n"
          ],
          "name": "stderr"
        },
        {
          "output_type": "stream",
          "text": [
            "best params:  {'clf__n_estimators': 500, 'clf__min_child_weight': 1, 'clf__max_depth': 14, 'clf__learning_rate': 0.3, 'clf__colsample_bytree': 0.6}\n",
            "best score:  0.4784090909090909\n",
            "Test score:  0.5272727272727272\n",
            "\n",
            " *****  fitting knc  estimator.....  *****\n",
            "Fitting 2 folds for each of 4 candidates, totalling 8 fits\n"
          ],
          "name": "stdout"
        },
        {
          "output_type": "stream",
          "text": [
            "[Parallel(n_jobs=1)]: Using backend SequentialBackend with 1 concurrent workers.\n",
            "[Parallel(n_jobs=1)]: Done   8 out of   8 | elapsed: 13.1min finished\n"
          ],
          "name": "stderr"
        },
        {
          "output_type": "stream",
          "text": [
            "best params:  {'clf__p': 2, 'clf__leaf_size': 90, 'clf__algorithm': 'ball_tree'}\n",
            "best score:  0.30113636363636365\n",
            "Test score:  0.3215909090909091\n"
          ],
          "name": "stdout"
        }
      ]
    },
    {
      "cell_type": "markdown",
      "metadata": {
        "id": "5QDMtHATwguM",
        "colab_type": "text"
      },
      "source": [
        "Baseline Accuracy"
      ]
    },
    {
      "cell_type": "code",
      "metadata": {
        "id": "y4qbqDTOwQW7",
        "colab_type": "code",
        "colab": {
          "base_uri": "https://localhost:8080/",
          "height": 34
        },
        "outputId": "79d59e86-f5f0-4c0c-e72f-aceb87999b6e"
      },
      "source": [
        "baseline = 1/ len(df['subreddit_id'].value_counts())\n",
        "baseline"
      ],
      "execution_count": 27,
      "outputs": [
        {
          "output_type": "execute_result",
          "data": {
            "text/plain": [
              "0.022727272727272728"
            ]
          },
          "metadata": {
            "tags": []
          },
          "execution_count": 27
        }
      ]
    },
    {
      "cell_type": "code",
      "metadata": {
        "id": "Jgocdq7XFv0h",
        "colab_type": "code",
        "colab": {
          "base_uri": "https://localhost:8080/",
          "height": 190
        },
        "outputId": "f660fdd5-25b0-466e-8b6d-e1c6bd916d20"
      },
      "source": [
        "print(f\"knc best_params: {est['knc_est'].best_params_}, \\nbest score: {est['knc_est'].best_score_}\\n\")\n",
        "print(f\"gbc best_params: {est['gbc_est'].best_params_}, \\nbest score: {est['gbc_est'].best_score_}\\n\")\n",
        "print(f\"xgbc best_params: {est['xgbc_est'].best_params_}, \\nbest score: {est['xgbc_est'].best_score_}\\n\")"
      ],
      "execution_count": 28,
      "outputs": [
        {
          "output_type": "stream",
          "text": [
            "knc best_params: {'clf__p': 2, 'clf__leaf_size': 90, 'clf__algorithm': 'ball_tree'}, \n",
            "best score: 0.30113636363636365\n",
            "\n",
            "gbc best_params: {'clf__min_samples_split': 12, 'clf__min_samples_leaf': 18, 'clf__max_features': 15, 'clf__max_depth': 4}, \n",
            "best score: 0.4877840909090909\n",
            "\n",
            "xgbc best_params: {'clf__n_estimators': 500, 'clf__min_child_weight': 1, 'clf__max_depth': 14, 'clf__learning_rate': 0.3, 'clf__colsample_bytree': 0.6}, \n",
            "best score: 0.4784090909090909\n",
            "\n"
          ],
          "name": "stdout"
        }
      ]
    },
    {
      "cell_type": "code",
      "metadata": {
        "id": "RnmMlTABclok",
        "colab_type": "code",
        "colab": {}
      },
      "source": [
        "knc_best = est['knc_est'].best_estimator_\n"
      ],
      "execution_count": 29,
      "outputs": []
    },
    {
      "cell_type": "code",
      "metadata": {
        "id": "0kp2NDojcymL",
        "colab_type": "code",
        "colab": {
          "base_uri": "https://localhost:8080/",
          "height": 595
        },
        "outputId": "61832a26-c43b-4f6e-c572-139d1a584b11"
      },
      "source": [
        "est_dict"
      ],
      "execution_count": 30,
      "outputs": [
        {
          "output_type": "execute_result",
          "data": {
            "text/plain": [
              "{'gbc': [GradientBoostingClassifier(ccp_alpha=0.0, criterion='friedman_mse', init=None,\n",
              "                             learning_rate=0.1, loss='deviance', max_depth=3,\n",
              "                             max_features=None, max_leaf_nodes=None,\n",
              "                             min_impurity_decrease=0.0, min_impurity_split=None,\n",
              "                             min_samples_leaf=1, min_samples_split=2,\n",
              "                             min_weight_fraction_leaf=0.0, n_estimators=100,\n",
              "                             n_iter_no_change=None, presort='deprecated',\n",
              "                             random_state=None, subsample=1.0, tol=0.0001,\n",
              "                             validation_fraction=0.1, verbose=0,\n",
              "                             warm_start=False),\n",
              "  {'clf__max_depth': range(4, 16, 4),\n",
              "   'clf__max_features': array([ 5, 10, 15, 20, 25]),\n",
              "   'clf__min_samples_leaf': array([ 2,  4,  6,  8, 10, 12, 14, 16, 18, 20]),\n",
              "   'clf__min_samples_split': array([ 2,  4,  6,  8, 10, 12, 14, 16, 18, 20])}],\n",
              " 'knc': [KNeighborsClassifier(algorithm='auto', leaf_size=30, metric='minkowski',\n",
              "                       metric_params=None, n_jobs=7, n_neighbors=15, p=2,\n",
              "                       weights='uniform'),\n",
              "  {'clf__algorithm': ['ball_tree', 'kd_tree'],\n",
              "   'clf__leaf_size': range(30, 150, 30),\n",
              "   'clf__p': [1, 2]}],\n",
              " 'xgbc': [XGBClassifier(base_score=0.5, booster='gbtree', colsample_bylevel=1,\n",
              "                colsample_bynode=1, colsample_bytree=1, eval_metric='merror',\n",
              "                gamma=0, learning_rate=0.3, max_delta_step=0, max_depth=6,\n",
              "                min_child_weight=1, min_split_loss=0, missing=None,\n",
              "                n_estimators=100, n_jobs=4, nthread=None, num_parallel_tree=1,\n",
              "                objective='reg:logistic', random_state=42, reg_alpha=0,\n",
              "                reg_lambda=1, sampling_method='uniform', scale_pos_weight=1,\n",
              "                seed=None, silent=None, subsample=0.5, tree_method='auto',\n",
              "                verbosity=1),\n",
              "  {'clf__colsample_bytree': array([0.5, 0.6, 0.7, 0.8, 0.9, 1. ]),\n",
              "   'clf__learning_rate': [0.01, 0.1, 0.3],\n",
              "   'clf__max_depth': range(2, 16, 2),\n",
              "   'clf__min_child_weight': array([ 1,  5,  9, 14, 18, 22, 27, 31, 35, 40]),\n",
              "   'clf__n_estimators': [100, 250, 500]}]}"
            ]
          },
          "metadata": {
            "tags": []
          },
          "execution_count": 30
        }
      ]
    },
    {
      "cell_type": "markdown",
      "metadata": {
        "id": "nPGQp-jydtBt",
        "colab_type": "text"
      },
      "source": [
        "*Best estimators (pipeline) after hyper parameter tunning*"
      ]
    },
    {
      "cell_type": "code",
      "metadata": {
        "id": "N4wjJ3-OcfxJ",
        "colab_type": "code",
        "colab": {}
      },
      "source": [
        "est_best = {}\n",
        "for key in est_dict:\n",
        "  est_best[key] = est['{0}_est'.format(key)].best_estimator_"
      ],
      "execution_count": 31,
      "outputs": []
    },
    {
      "cell_type": "code",
      "metadata": {
        "id": "YjUc-XRIdarN",
        "colab_type": "code",
        "colab": {}
      },
      "source": [
        "# Convert input string to embedded vector\n",
        "def preprocess(query, vectorize):\n",
        "  \"\"\"\n",
        "  Vectorizes the 'query' string by spacy pretrained model (nlp). \n",
        "  the return value serves as a query to the prediction model\n",
        "  \"\"\"\n",
        "  return vectorize(query).reshape(1,-1)\n",
        "\n",
        "# Accessing the neighbors() method of the KNClassifier of the trained pipeline estimator \n",
        "def knneighbors(clf, input, X_train, y_train):\n",
        "  \"\"\"\n",
        "  input: a string type text or vectorized array or an iterable data type\n",
        "  return: Dataframe of nearest neighbors and their subreddit categories\n",
        "  \"\"\"\n",
        "  results = clf.kneighbors(input)\n",
        "  neighbors_idx, neighbors_dist = results[1][0], results[0][0]\n",
        "  neighbors_df = pd.concat([X_train.iloc[neighbors_idx], y_train.iloc[neighbors_idx]], axis=1)\n",
        "  return neighbors_df"
      ],
      "execution_count": 32,
      "outputs": []
    },
    {
      "cell_type": "markdown",
      "metadata": {
        "id": "6vlCP_hffZjb",
        "colab_type": "text"
      },
      "source": [
        "*prediction function to get the list of predicted subreddit categories*"
      ]
    },
    {
      "cell_type": "code",
      "metadata": {
        "id": "Jta_VvKtR_UL",
        "colab_type": "code",
        "colab": {}
      },
      "source": [
        "def prediction(model, input, n):\n",
        "  \"\"\"\n",
        "  input: text string or iterable dtype (list, np.array, vectorized array)as input\n",
        "  model: trained model with predict_proba method\n",
        "  returns a pandas series containing the the recommended subreddit names\n",
        "  \"\"\"\n",
        "  \n",
        "  if isinstance(input, str):\n",
        "    input = [input]\n",
        "  # probability of each class\n",
        "  proba = model.predict_proba(input)\n",
        "  # print(proba.shape)\n",
        "\n",
        "  # index of the highest probable classes in descending order\n",
        "  # i[0] is index and i[1] is probability\n",
        "  index_max = [i[0] for i in sorted(enumerate(proba[0]), key=lambda x:x[1])][::-1]\n",
        "  \n",
        "  # Alternative way\n",
        "  # index_max = proba[0].argsort()[::-1]\n",
        "\n",
        "  # get the most probable class names\n",
        "  name = pd.Series(model.classes_[index_max][:n])\n",
        "  return pd.Series(data= name.to_list(), index = index_max[:n])"
      ],
      "execution_count": 33,
      "outputs": []
    },
    {
      "cell_type": "markdown",
      "metadata": {
        "id": "X-4v2jZWVSvc",
        "colab_type": "text"
      },
      "source": [
        "**knneighbors() returns the subreddit category of the nearest neighbors to the input query. This is different from prediction() function which predicts the most probable subreddit categories that the query belongs to.**"
      ]
    },
    {
      "cell_type": "markdown",
      "metadata": {
        "id": "ijUVTieLgM-Y",
        "colab_type": "text"
      },
      "source": [
        "*Input query*"
      ]
    },
    {
      "cell_type": "code",
      "metadata": {
        "id": "3qccNNMgDB4m",
        "colab_type": "code",
        "colab": {}
      },
      "source": [
        "query = \"\"\"Does this seem too advanced for first month of kindergarten?\n",
        "Usually my husband is sitting with my son (working from home, but present) \n",
        "during my son's Zoom class but yesterday I did. I was really surprised by \n",
        "what the teacher was asking of the kids. My son's teacher wanted the students \n",
        "to write stories live during the zoom meeting. She expected them to write full \n",
        "sentences with words like \"suddenly.\" She told them if they can't spell the \n",
        "words to \"sound it out.\" She kept reminding them to use connecting words to \n",
        "transition between topics. The example story she wrote was about 5-6 sentences. \n",
        "It was about going to the playground and waiting for her turn on the swings. \n",
        "I was pretty surprised because the kids are still learning the alphabet. \n",
        "how would they be able to write sentences for before learning letters? Before we \n",
        "started school, the principal specifically told families at an info night, \n",
        "\"Don't worry if your kid doesn't know the alphabet, we'll reach them!\" \n",
        "So I don't think the teacher has expectations that the kids could already write.\"\"\"\n"
      ],
      "execution_count": 34,
      "outputs": []
    },
    {
      "cell_type": "markdown",
      "metadata": {
        "id": "B0e3pwHpfs1t",
        "colab_type": "text"
      },
      "source": [
        "*Separately embedding the input query allows to access .kneighbors() method of the classifier to get the nearest neighbors for that query*"
      ]
    },
    {
      "cell_type": "code",
      "metadata": {
        "id": "3KH9JvItQdOa",
        "colab_type": "code",
        "colab": {
          "base_uri": "https://localhost:8080/",
          "height": 514
        },
        "outputId": "e6bfbe6b-058b-4c8e-e547-e104e4d43ac2"
      },
      "source": [
        "vect = preprocess(query, get_word_vectors)\n",
        "neighbors = knneighbors(est_best['knc']['clf'], vect, X_train, y_train)\n",
        "neighbors"
      ],
      "execution_count": 35,
      "outputs": [
        {
          "output_type": "execute_result",
          "data": {
            "text/html": [
              "<div>\n",
              "<style scoped>\n",
              "    .dataframe tbody tr th:only-of-type {\n",
              "        vertical-align: middle;\n",
              "    }\n",
              "\n",
              "    .dataframe tbody tr th {\n",
              "        vertical-align: top;\n",
              "    }\n",
              "\n",
              "    .dataframe thead th {\n",
              "        text-align: right;\n",
              "    }\n",
              "</style>\n",
              "<table border=\"1\" class=\"dataframe\">\n",
              "  <thead>\n",
              "    <tr style=\"text-align: right;\">\n",
              "      <th></th>\n",
              "      <th>joint_text</th>\n",
              "      <th>subreddit_name</th>\n",
              "    </tr>\n",
              "  </thead>\n",
              "  <tbody>\n",
              "    <tr>\n",
              "      <th>23420</th>\n",
              "      <td>when a 33 year old dad spends a day in kinderg...</td>\n",
              "      <td>Parenting</td>\n",
              "    </tr>\n",
              "    <tr>\n",
              "      <th>7121</th>\n",
              "      <td>lpt at the beginning of every semester make a ...</td>\n",
              "      <td>LifeProTips</td>\n",
              "    </tr>\n",
              "    <tr>\n",
              "      <th>30659</th>\n",
              "      <td>update help wife died how to tell my 2yo mummy...</td>\n",
              "      <td>Parenting</td>\n",
              "    </tr>\n",
              "    <tr>\n",
              "      <th>10757</th>\n",
              "      <td>me 30m single parent had to console my 10 year...</td>\n",
              "      <td>Parenting</td>\n",
              "    </tr>\n",
              "    <tr>\n",
              "      <th>15417</th>\n",
              "      <td>i'm so grateful for my daughter's teacher bein...</td>\n",
              "      <td>Parenting</td>\n",
              "    </tr>\n",
              "    <tr>\n",
              "      <th>36205</th>\n",
              "      <td>this is america so i'll pronounce your kid's n...</td>\n",
              "      <td>Parenting</td>\n",
              "    </tr>\n",
              "    <tr>\n",
              "      <th>43634</th>\n",
              "      <td>i tried using a school fundraiser to teach my ...</td>\n",
              "      <td>Parenting</td>\n",
              "    </tr>\n",
              "    <tr>\n",
              "      <th>29517</th>\n",
              "      <td>i'm being put off maths by the arrogance of ot...</td>\n",
              "      <td>math</td>\n",
              "    </tr>\n",
              "    <tr>\n",
              "      <th>45933</th>\n",
              "      <td>i never imagined having a baby would make me h...</td>\n",
              "      <td>Parenting</td>\n",
              "    </tr>\n",
              "    <tr>\n",
              "      <th>8112</th>\n",
              "      <td>friendly reminder that ya books are for teenag...</td>\n",
              "      <td>books</td>\n",
              "    </tr>\n",
              "    <tr>\n",
              "      <th>23531</th>\n",
              "      <td>update wife has almost completely stopped taki...</td>\n",
              "      <td>Parenting</td>\n",
              "    </tr>\n",
              "    <tr>\n",
              "      <th>6174</th>\n",
              "      <td>6 24 months until totally disabled 5 10 years ...</td>\n",
              "      <td>personalfinance</td>\n",
              "    </tr>\n",
              "    <tr>\n",
              "      <th>2054</th>\n",
              "      <td>the awakening by kate chopin there are spoiler...</td>\n",
              "      <td>literature</td>\n",
              "    </tr>\n",
              "    <tr>\n",
              "      <th>49803</th>\n",
              "      <td>it did eventually get easier i have three smal...</td>\n",
              "      <td>Parenting</td>\n",
              "    </tr>\n",
              "    <tr>\n",
              "      <th>15622</th>\n",
              "      <td>my doctor called me sad for wanting an abortio...</td>\n",
              "      <td>TwoXChromosomes</td>\n",
              "    </tr>\n",
              "  </tbody>\n",
              "</table>\n",
              "</div>"
            ],
            "text/plain": [
              "                                              joint_text   subreddit_name\n",
              "23420  when a 33 year old dad spends a day in kinderg...        Parenting\n",
              "7121   lpt at the beginning of every semester make a ...      LifeProTips\n",
              "30659  update help wife died how to tell my 2yo mummy...        Parenting\n",
              "10757  me 30m single parent had to console my 10 year...        Parenting\n",
              "15417  i'm so grateful for my daughter's teacher bein...        Parenting\n",
              "36205  this is america so i'll pronounce your kid's n...        Parenting\n",
              "43634  i tried using a school fundraiser to teach my ...        Parenting\n",
              "29517  i'm being put off maths by the arrogance of ot...             math\n",
              "45933  i never imagined having a baby would make me h...        Parenting\n",
              "8112   friendly reminder that ya books are for teenag...            books\n",
              "23531  update wife has almost completely stopped taki...        Parenting\n",
              "6174   6 24 months until totally disabled 5 10 years ...  personalfinance\n",
              "2054   the awakening by kate chopin there are spoiler...       literature\n",
              "49803  it did eventually get easier i have three smal...        Parenting\n",
              "15622  my doctor called me sad for wanting an abortio...  TwoXChromosomes"
            ]
          },
          "metadata": {
            "tags": []
          },
          "execution_count": 35
        }
      ]
    },
    {
      "cell_type": "markdown",
      "metadata": {
        "id": "ShN1Se_cfD-X",
        "colab_type": "text"
      },
      "source": [
        "*Using preprocess to embed the query string and then calling the prediction function on classifier step of pipeline:*"
      ]
    },
    {
      "cell_type": "code",
      "metadata": {
        "id": "GOrOjWPqQrqn",
        "colab_type": "code",
        "colab": {
          "base_uri": "https://localhost:8080/",
          "height": 204
        },
        "outputId": "71edf3e9-1ff4-483d-d386-7940d8d774ec"
      },
      "source": [
        "vect = preprocess(query, get_word_vectors)\n",
        "preds = prediction(est_best['knc']['clf'], vect, 10)\n",
        "preds"
      ],
      "execution_count": 36,
      "outputs": [
        {
          "output_type": "execute_result",
          "data": {
            "text/plain": [
              "13          Parenting\n",
              "31    personalfinance\n",
              "28               math\n",
              "27         literature\n",
              "19              books\n",
              "16    TwoXChromosomes\n",
              "10        LifeProTips\n",
              "43      worldpolitics\n",
              "42          worldnews\n",
              "41             travel\n",
              "dtype: object"
            ]
          },
          "metadata": {
            "tags": []
          },
          "execution_count": 36
        }
      ]
    },
    {
      "cell_type": "markdown",
      "metadata": {
        "id": "y5j7jQgmev7K",
        "colab_type": "text"
      },
      "source": [
        "*Alternatively we can call the prediction function on pipeline estimator to pass string query instead of embedding*"
      ]
    },
    {
      "cell_type": "code",
      "metadata": {
        "id": "6CwAFyVvehuy",
        "colab_type": "code",
        "colab": {
          "base_uri": "https://localhost:8080/",
          "height": 204
        },
        "outputId": "78334d8c-74ad-47e6-ee73-d68407540961"
      },
      "source": [
        "prediction(est_best['knc'], query, 10)"
      ],
      "execution_count": 37,
      "outputs": [
        {
          "output_type": "execute_result",
          "data": {
            "text/plain": [
              "13          Parenting\n",
              "31    personalfinance\n",
              "28               math\n",
              "27         literature\n",
              "19              books\n",
              "16    TwoXChromosomes\n",
              "10        LifeProTips\n",
              "43      worldpolitics\n",
              "42          worldnews\n",
              "41             travel\n",
              "dtype: object"
            ]
          },
          "metadata": {
            "tags": []
          },
          "execution_count": 37
        }
      ]
    },
    {
      "cell_type": "markdown",
      "metadata": {
        "id": "7E_3f5XdgTdR",
        "colab_type": "text"
      },
      "source": [
        "## Model Serialization"
      ]
    },
    {
      "cell_type": "code",
      "metadata": {
        "id": "vJaRr0xIjGn7",
        "colab_type": "code",
        "colab": {}
      },
      "source": [
        "import pickle"
      ],
      "execution_count": 38,
      "outputs": []
    },
    {
      "cell_type": "code",
      "metadata": {
        "id": "LGbTKvBkll_R",
        "colab_type": "code",
        "colab": {
          "base_uri": "https://localhost:8080/",
          "height": 425
        },
        "outputId": "291aab7c-eec6-423d-a55e-1c18bb4024ce"
      },
      "source": [
        "est_best['gbc']"
      ],
      "execution_count": 39,
      "outputs": [
        {
          "output_type": "execute_result",
          "data": {
            "text/plain": [
              "Pipeline(memory=None,\n",
              "         steps=[('emb',\n",
              "                 FunctionTransformer(accept_sparse=False, check_inverse=True,\n",
              "                                     func=<function get_word_vectors at 0x7f5cd1194d90>,\n",
              "                                     inv_kw_args=None, inverse_func=None,\n",
              "                                     kw_args=None, validate=False)),\n",
              "                ('clf',\n",
              "                 GradientBoostingClassifier(ccp_alpha=0.0,\n",
              "                                            criterion='friedman_mse', init=None,\n",
              "                                            learning_rate=0.1, loss='deviance',\n",
              "                                            max_depth=4, max_features=15,\n",
              "                                            max_leaf_nodes=None,\n",
              "                                            min_impurity_decrease=0.0,\n",
              "                                            min_impurity_split=None,\n",
              "                                            min_samples_leaf=18,\n",
              "                                            min_samples_split=12,\n",
              "                                            min_weight_fraction_leaf=0.0,\n",
              "                                            n_estimators=100,\n",
              "                                            n_iter_no_change=None,\n",
              "                                            presort='deprecated',\n",
              "                                            random_state=None, subsample=1.0,\n",
              "                                            tol=0.0001, validation_fraction=0.1,\n",
              "                                            verbose=0, warm_start=False))],\n",
              "         verbose=False)"
            ]
          },
          "metadata": {
            "tags": []
          },
          "execution_count": 39
        }
      ]
    },
    {
      "cell_type": "code",
      "metadata": {
        "id": "Vv56yG6HjJjJ",
        "colab_type": "code",
        "colab": {}
      },
      "source": [
        "est_pickle = {}\n",
        "loaded_pickle ={}\n",
        "\n",
        "for key in est_dict:\n",
        "  est_pickle[key] = open(f'{key}_pkl', 'wb')\n",
        "  pickle.dump(est_best[key], est_pickle[key])\n",
        "\n",
        "  loaded_pickle[key] = pickle.load(open(f'{key}_pkl', 'rb'))\n",
        "\n",
        "# pickle the dataframe\n",
        "X_train.to_pickle(\"./X_train_pkl\")\n",
        "y_train.to_pickle(\"./y_train_pkl\")\n",
        "\n",
        "loaded_X_train = pd.read_pickle(\"./X_train_pkl\")\n",
        "loaded_y_train = pd.read_pickle(\"./y_train_pkl\")"
      ],
      "execution_count": 40,
      "outputs": []
    },
    {
      "cell_type": "code",
      "metadata": {
        "id": "gYuwVK1Sn6nU",
        "colab_type": "code",
        "colab": {
          "base_uri": "https://localhost:8080/",
          "height": 204
        },
        "outputId": "71f20de4-d095-459a-8e39-bf44b5615936"
      },
      "source": [
        "prediction(loaded_pickle['knc'], query, 10)"
      ],
      "execution_count": 41,
      "outputs": [
        {
          "output_type": "execute_result",
          "data": {
            "text/plain": [
              "13          Parenting\n",
              "31    personalfinance\n",
              "28               math\n",
              "27         literature\n",
              "19              books\n",
              "16    TwoXChromosomes\n",
              "10        LifeProTips\n",
              "43      worldpolitics\n",
              "42          worldnews\n",
              "41             travel\n",
              "dtype: object"
            ]
          },
          "metadata": {
            "tags": []
          },
          "execution_count": 41
        }
      ]
    },
    {
      "cell_type": "markdown",
      "metadata": {
        "id": "Uj5pQh7q6_k-",
        "colab_type": "text"
      },
      "source": [
        "## Latent Semantic Indexing (LSI)"
      ]
    },
    {
      "cell_type": "code",
      "metadata": {
        "id": "fmN2_Bo17K-D",
        "colab_type": "code",
        "colab": {}
      },
      "source": [
        "from sklearn.feature_extraction.text import TfidfVectorizer\n",
        "# from sklearn.pipeline import Pipeline\n",
        "from sklearn.ensemble import RandomForestClassifier\n",
        "# from sklearn.model_selection import GridSearchCV\n",
        "from sklearn.decomposition import TruncatedSVD"
      ],
      "execution_count": 42,
      "outputs": []
    },
    {
      "cell_type": "code",
      "metadata": {
        "id": "y-LKphwU7XBs",
        "colab_type": "code",
        "colab": {}
      },
      "source": [
        "# Create Pipeline Components\n",
        "\n",
        "vect = TfidfVectorizer( stop_words='english', \n",
        "                       ngram_range=(1,2),\n",
        "                       lowercase=True,\n",
        "                       max_df=0.9,\n",
        "                       min_df=1,\n",
        "                       max_features=None)\n",
        "\n",
        "svd = TruncatedSVD(n_components=100,\n",
        "                   algorithm='randomized',\n",
        "                   n_iter=10, random_state=1)\n",
        "\n",
        "rfc = RandomForestClassifier()"
      ],
      "execution_count": 43,
      "outputs": []
    },
    {
      "cell_type": "code",
      "metadata": {
        "id": "Iu49nwdT7ofb",
        "colab_type": "code",
        "colab": {}
      },
      "source": [
        "lsi = Pipeline([('vect', vect), ('svd', svd)])\n",
        "pipe = Pipeline([('lsi', lsi), ('clf', rfc)])"
      ],
      "execution_count": 44,
      "outputs": []
    },
    {
      "cell_type": "code",
      "metadata": {
        "id": "WpxzqSGm7Yrb",
        "colab_type": "code",
        "colab": {}
      },
      "source": [
        "parameters = {\n",
        "    'lsi__vect__max_df': ( 0.75, 1.0),\n",
        "    'lsi__vect__min_df': (.02, .05),\n",
        "    'lsi__vect__max_features': (500, 2000, 5000),\n",
        "    'lsi__svd__n_components': [50, 250, 500],\n",
        "    'clf__n_estimators':(5, 10),\n",
        "    'clf__max_depth':(8, 15, 20)\n",
        "}\n",
        "\n",
        "est = GridSearchCV(pipe,parameters, cv=3, n_jobs=7, verbose=1)"
      ],
      "execution_count": 45,
      "outputs": []
    },
    {
      "cell_type": "code",
      "metadata": {
        "id": "aqH6LrjflnW5",
        "colab_type": "code",
        "colab": {
          "base_uri": "https://localhost:8080/",
          "height": 646
        },
        "outputId": "2bc37586-21be-417e-c1c9-abaa99656c55"
      },
      "source": [
        "est.fit(X_train, y_train)"
      ],
      "execution_count": 46,
      "outputs": [
        {
          "output_type": "stream",
          "text": [
            "Fitting 3 folds for each of 216 candidates, totalling 648 fits\n"
          ],
          "name": "stdout"
        },
        {
          "output_type": "stream",
          "text": [
            "[Parallel(n_jobs=7)]: Using backend LokyBackend with 7 concurrent workers.\n",
            "[Parallel(n_jobs=7)]: Done  36 tasks      | elapsed:   44.7s\n",
            "[Parallel(n_jobs=7)]: Done 186 tasks      | elapsed:  3.1min\n",
            "[Parallel(n_jobs=7)]: Done 436 tasks      | elapsed:  7.1min\n",
            "[Parallel(n_jobs=7)]: Done 648 out of 648 | elapsed: 10.6min finished\n"
          ],
          "name": "stderr"
        },
        {
          "output_type": "execute_result",
          "data": {
            "text/plain": [
              "GridSearchCV(cv=3, error_score=nan,\n",
              "             estimator=Pipeline(memory=None,\n",
              "                                steps=[('lsi',\n",
              "                                        Pipeline(memory=None,\n",
              "                                                 steps=[('vect',\n",
              "                                                         TfidfVectorizer(analyzer='word',\n",
              "                                                                         binary=False,\n",
              "                                                                         decode_error='strict',\n",
              "                                                                         dtype=<class 'numpy.float64'>,\n",
              "                                                                         encoding='utf-8',\n",
              "                                                                         input='content',\n",
              "                                                                         lowercase=True,\n",
              "                                                                         max_df=0.9,\n",
              "                                                                         max_features=None,\n",
              "                                                                         min_df=1,\n",
              "                                                                         ngram_range=(1,\n",
              "                                                                                      2),\n",
              "                                                                         norm='l2',\n",
              "                                                                         preprocessor=None,\n",
              "                                                                         smooth_...\n",
              "                                                               warm_start=False))],\n",
              "                                verbose=False),\n",
              "             iid='deprecated', n_jobs=7,\n",
              "             param_grid={'clf__max_depth': (8, 15, 20),\n",
              "                         'clf__n_estimators': (5, 10),\n",
              "                         'lsi__svd__n_components': [50, 250, 500],\n",
              "                         'lsi__vect__max_df': (0.75, 1.0),\n",
              "                         'lsi__vect__max_features': (500, 2000, 5000),\n",
              "                         'lsi__vect__min_df': (0.02, 0.05)},\n",
              "             pre_dispatch='2*n_jobs', refit=True, return_train_score=False,\n",
              "             scoring=None, verbose=1)"
            ]
          },
          "metadata": {
            "tags": []
          },
          "execution_count": 46
        }
      ]
    },
    {
      "cell_type": "code",
      "metadata": {
        "id": "cBxgChVy7ikP",
        "colab_type": "code",
        "colab": {
          "base_uri": "https://localhost:8080/",
          "height": 34
        },
        "outputId": "b32504af-d557-4901-85ae-35c0a3965b80"
      },
      "source": [
        "# The accuracy is less that spacy vectorizer\n",
        "est.best_score_"
      ],
      "execution_count": 47,
      "outputs": [
        {
          "output_type": "execute_result",
          "data": {
            "text/plain": [
              "0.1897702566694406"
            ]
          },
          "metadata": {
            "tags": []
          },
          "execution_count": 47
        }
      ]
    },
    {
      "cell_type": "code",
      "metadata": {
        "id": "WeNVeLKs7lNQ",
        "colab_type": "code",
        "colab": {
          "base_uri": "https://localhost:8080/",
          "height": 34
        },
        "outputId": "24d7ee99-4e82-4377-ec57-ed15bc731bde"
      },
      "source": [
        "est.predict([query])"
      ],
      "execution_count": 50,
      "outputs": [
        {
          "output_type": "execute_result",
          "data": {
            "text/plain": [
              "array(['Parenting'], dtype=object)"
            ]
          },
          "metadata": {
            "tags": []
          },
          "execution_count": 50
        }
      ]
    },
    {
      "cell_type": "code",
      "metadata": {
        "id": "3VU3Agtn04Ni",
        "colab_type": "code",
        "colab": {
          "base_uri": "https://localhost:8080/",
          "height": 204
        },
        "outputId": "ba92a2e2-7f59-4cea-e9de-dcf7d95fec96"
      },
      "source": [
        "prediction(est, query, 10)"
      ],
      "execution_count": 53,
      "outputs": [
        {
          "output_type": "execute_result",
          "data": {
            "text/plain": [
              "13          Parenting\n",
              "1             Cooking\n",
              "28               math\n",
              "8     HomeImprovement\n",
              "16    TwoXChromosomes\n",
              "29             movies\n",
              "6             Fitness\n",
              "40         television\n",
              "27         literature\n",
              "10        LifeProTips\n",
              "dtype: object"
            ]
          },
          "metadata": {
            "tags": []
          },
          "execution_count": 53
        }
      ]
    },
    {
      "cell_type": "code",
      "metadata": {
        "id": "rnCco6Xak6JI",
        "colab_type": "code",
        "colab": {
          "base_uri": "https://localhost:8080/",
          "height": 510
        },
        "outputId": "0c1d714d-8cb4-4a6a-97bd-66fa914a7e6a"
      },
      "source": [
        "est.best_estimator_"
      ],
      "execution_count": 54,
      "outputs": [
        {
          "output_type": "execute_result",
          "data": {
            "text/plain": [
              "Pipeline(memory=None,\n",
              "         steps=[('lsi',\n",
              "                 Pipeline(memory=None,\n",
              "                          steps=[('vect',\n",
              "                                  TfidfVectorizer(analyzer='word', binary=False,\n",
              "                                                  decode_error='strict',\n",
              "                                                  dtype=<class 'numpy.float64'>,\n",
              "                                                  encoding='utf-8',\n",
              "                                                  input='content',\n",
              "                                                  lowercase=True, max_df=1.0,\n",
              "                                                  max_features=5000,\n",
              "                                                  min_df=0.02,\n",
              "                                                  ngram_range=(1, 2), norm='l2',\n",
              "                                                  preprocessor=None,\n",
              "                                                  smooth_idf=True,\n",
              "                                                  stop_words='english',\n",
              "                                                  strip_accen...\n",
              "                 RandomForestClassifier(bootstrap=True, ccp_alpha=0.0,\n",
              "                                        class_weight=None, criterion='gini',\n",
              "                                        max_depth=15, max_features='auto',\n",
              "                                        max_leaf_nodes=None, max_samples=None,\n",
              "                                        min_impurity_decrease=0.0,\n",
              "                                        min_impurity_split=None,\n",
              "                                        min_samples_leaf=1, min_samples_split=2,\n",
              "                                        min_weight_fraction_leaf=0.0,\n",
              "                                        n_estimators=10, n_jobs=None,\n",
              "                                        oob_score=False, random_state=None,\n",
              "                                        verbose=0, warm_start=False))],\n",
              "         verbose=False)"
            ]
          },
          "metadata": {
            "tags": []
          },
          "execution_count": 54
        }
      ]
    },
    {
      "cell_type": "code",
      "metadata": {
        "id": "KdzT3lK9VELS",
        "colab_type": "code",
        "colab": {}
      },
      "source": [
        "# pickle grid search model with rfc+lsi\n",
        "rfclsi = open('rfclsi_pkl', 'wb') \n",
        "pickle.dump(est, rfclsi)   "
      ],
      "execution_count": 55,
      "outputs": []
    },
    {
      "cell_type": "code",
      "metadata": {
        "id": "DVsnvafXfNxU",
        "colab_type": "code",
        "colab": {}
      },
      "source": [
        "loaded_rfclsi = pickle.load(open('rfclsi_pkl', 'rb'))"
      ],
      "execution_count": 56,
      "outputs": []
    },
    {
      "cell_type": "code",
      "metadata": {
        "id": "HeYf1alDfh4b",
        "colab_type": "code",
        "colab": {
          "base_uri": "https://localhost:8080/",
          "height": 204
        },
        "outputId": "1f18a21a-df42-498a-bbfa-f2bbdf70ee92"
      },
      "source": [
        "prediction(loaded_rfclsi, query, n=10)"
      ],
      "execution_count": 57,
      "outputs": [
        {
          "output_type": "execute_result",
          "data": {
            "text/plain": [
              "13          Parenting\n",
              "1             Cooking\n",
              "28               math\n",
              "8     HomeImprovement\n",
              "16    TwoXChromosomes\n",
              "29             movies\n",
              "6             Fitness\n",
              "40         television\n",
              "27         literature\n",
              "10        LifeProTips\n",
              "dtype: object"
            ]
          },
          "metadata": {
            "tags": []
          },
          "execution_count": 57
        }
      ]
    }
  ]
}